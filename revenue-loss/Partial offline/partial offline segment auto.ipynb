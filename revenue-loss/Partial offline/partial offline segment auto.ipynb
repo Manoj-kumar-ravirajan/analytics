version https://git-lfs.github.com/spec/v1
oid sha256:a498b0d8a1f490a0650a3e217a07e7de2065d1c7f3e22723795c86f8b18ee513
size 62333
