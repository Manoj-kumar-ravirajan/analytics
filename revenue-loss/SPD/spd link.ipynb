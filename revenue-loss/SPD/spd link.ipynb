version https://git-lfs.github.com/spec/v1
oid sha256:1073557d0f059905da840839c6c34e21db2477bed7f0cfc9d46b057d31d29c45
size 59056
