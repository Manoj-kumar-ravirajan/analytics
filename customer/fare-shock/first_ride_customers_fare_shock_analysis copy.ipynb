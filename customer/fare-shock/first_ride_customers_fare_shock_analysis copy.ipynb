version https://git-lfs.github.com/spec/v1
oid sha256:7a9ae6e29207ff12962ab6aa3588da41fdc6dfc4b9162a430d70b67b3b2ef803
size 31331
