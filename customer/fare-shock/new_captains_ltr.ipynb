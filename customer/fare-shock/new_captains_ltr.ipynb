version https://git-lfs.github.com/spec/v1
oid sha256:55034429af560692bef74e459e018dc4e4c6a1aab08110059cad1d589d75c5c8
size 431079
