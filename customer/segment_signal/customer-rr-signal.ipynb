version https://git-lfs.github.com/spec/v1
oid sha256:0b3d0ac0559639950b381197e8807a7a147617fbdc7267ed218141f82cba2a59
size 226586
