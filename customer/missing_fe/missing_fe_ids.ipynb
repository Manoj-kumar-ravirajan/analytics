version https://git-lfs.github.com/spec/v1
oid sha256:48ea5413b9e1d8cb00d5c90644f1fed729b7339d1c9aefa67cb4f91277dcfca7
size 17435
