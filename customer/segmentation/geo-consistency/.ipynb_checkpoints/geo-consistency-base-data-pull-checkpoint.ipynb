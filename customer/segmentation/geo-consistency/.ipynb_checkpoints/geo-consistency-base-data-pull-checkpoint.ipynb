version https://git-lfs.github.com/spec/v1
oid sha256:9c7ea1e209f2e88c2d5806e5a6117eaa56a0778792597ccad561ad3df20445ac
size 31028
