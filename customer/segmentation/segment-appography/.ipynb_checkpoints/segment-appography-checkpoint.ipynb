version https://git-lfs.github.com/spec/v1
oid sha256:6c197f6a42c253f406cabf21a95fd0dd850b24f80e2ef37278f0443ac13b1bae
size 174615
