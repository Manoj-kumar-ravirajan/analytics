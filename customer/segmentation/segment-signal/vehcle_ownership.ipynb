version https://git-lfs.github.com/spec/v1
oid sha256:ecf839c659d113caadbc39a034b0fcaca17c176e2db96f384caf639ee67e765c
size 3107813
