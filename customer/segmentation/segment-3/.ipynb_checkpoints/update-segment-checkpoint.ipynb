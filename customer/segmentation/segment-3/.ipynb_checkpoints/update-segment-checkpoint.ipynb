version https://git-lfs.github.com/spec/v1
oid sha256:bf62e91553cc56b760901b6f7faed2d66f8c6c4e1c9ef5bd31ed307e2ea88ae2
size 69287
