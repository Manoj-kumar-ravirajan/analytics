version https://git-lfs.github.com/spec/v1
oid sha256:3040f8a0cd9ea411e6b8d4d6ba77195b09771be3dde2360fdd4ce9e9b2e70b6a
size 2175577
