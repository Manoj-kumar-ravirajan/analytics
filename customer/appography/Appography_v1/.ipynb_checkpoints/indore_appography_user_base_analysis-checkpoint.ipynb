version https://git-lfs.github.com/spec/v1
oid sha256:ea60fefdb3415e31fe91e89f7fec0fc2dfe24a8de6ff20cef55858f30627cd30
size 273811
