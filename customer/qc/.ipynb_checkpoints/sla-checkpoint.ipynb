version https://git-lfs.github.com/spec/v1
oid sha256:647ba7ecc3348aae2f24383db300f4f571545c643e504216c2a05471ca02b102
size 335534
