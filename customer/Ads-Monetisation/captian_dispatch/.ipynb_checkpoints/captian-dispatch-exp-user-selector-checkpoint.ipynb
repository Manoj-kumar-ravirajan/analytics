version https://git-lfs.github.com/spec/v1
oid sha256:efd6c39ad579c1b47534cb9de1229ca6d3a3ee9355a74d07acba58c559b87080
size 246439
