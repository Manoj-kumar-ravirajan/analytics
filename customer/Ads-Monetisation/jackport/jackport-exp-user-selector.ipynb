version https://git-lfs.github.com/spec/v1
oid sha256:af13ca539d30144c5b70942e7c918e8f5ddbfc5cac683a0485fbb5ed8200f4e1
size 240728
