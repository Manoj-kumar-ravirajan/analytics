version https://git-lfs.github.com/spec/v1
oid sha256:7fde35d25ff8dc32b7a3747e30f270218e9ce2d32017b209688e1de2bd9d09d4
size 374425
