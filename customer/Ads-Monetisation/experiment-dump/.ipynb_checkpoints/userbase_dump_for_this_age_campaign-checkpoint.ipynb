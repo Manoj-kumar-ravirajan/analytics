{
 "cells": [
  {
   "cell_type": "code",
   "execution_count": 8,
   "id": "a88d906e",
   "metadata": {},
   "outputs": [],
   "source": [
    "import os\n",
    "import h3 as h3\n",
    "import numpy as np\n",
    "import pandas as pd\n",
    "import matplotlib.pyplot as plt\n",
    "import datetime as datetime\n",
    "\n",
    "from scipy import stats\n",
    "from pyhive import presto\n",
    "from keplergl import KeplerGl\n",
    "from datetime import datetime, timedelta\n",
    "\n",
    "import warnings\n",
    "warnings.filterwarnings('ignore')"
   ]
  },
  {
   "cell_type": "code",
   "execution_count": 9,
   "id": "9d62ce93",
   "metadata": {},
   "outputs": [],
   "source": [
    "pd.set_option('display.max_columns', 50)\n",
    "pd.set_option('display.max_rows', 300)"
   ]
  },
  {
   "cell_type": "code",
   "execution_count": 10,
   "id": "61a9c648",
   "metadata": {},
   "outputs": [],
   "source": [
    "## Connection\n",
    "connection = presto.connect(\n",
    "        host='presto-gateway.serving.data.production.internal',\n",
    "        port=80,\n",
    "        protocol='http',\n",
    "        catalog='hive',\n",
    "        username='manoj.ravirajan@rapido.bike'\n",
    ")## Parameter "
   ]
  },
  {
   "cell_type": "markdown",
   "id": "6095401c",
   "metadata": {},
   "source": [
    "## Requirement \n",
    "\n",
    "### Userbase CSV for this Campaign\n",
    "\n",
    "\n",
    "\t\ta. Cities -> Hyderabad/Kolkata/Bangalore\n",
    "        b. Condition → Users who do not have age present in our system and are 90->21 days active in above cities. "
   ]
  },
  {
   "cell_type": "code",
   "execution_count": 13,
   "id": "b61d7cba",
   "metadata": {},
   "outputs": [
    {
     "data": {
      "text/html": [
       "<div>\n",
       "<style scoped>\n",
       "    .dataframe tbody tr th:only-of-type {\n",
       "        vertical-align: middle;\n",
       "    }\n",
       "\n",
       "    .dataframe tbody tr th {\n",
       "        vertical-align: top;\n",
       "    }\n",
       "\n",
       "    .dataframe thead th {\n",
       "        text-align: right;\n",
       "    }\n",
       "</style>\n",
       "<table border=\"1\" class=\"dataframe\">\n",
       "  <thead>\n",
       "    <tr style=\"text-align: right;\">\n",
       "      <th></th>\n",
       "      <th>customer_id</th>\n",
       "      <th>customer_mobile</th>\n",
       "    </tr>\n",
       "  </thead>\n",
       "  <tbody>\n",
       "    <tr>\n",
       "      <th>0</th>\n",
       "      <td>64fb030c588b8835b433ca3f</td>\n",
       "      <td>7675024468</td>\n",
       "    </tr>\n",
       "    <tr>\n",
       "      <th>1</th>\n",
       "      <td>6411414e3fdc1cb30a2b2231</td>\n",
       "      <td>8123563210</td>\n",
       "    </tr>\n",
       "    <tr>\n",
       "      <th>2</th>\n",
       "      <td>64f2f29234850c0e9a4610da</td>\n",
       "      <td>9844190433</td>\n",
       "    </tr>\n",
       "    <tr>\n",
       "      <th>3</th>\n",
       "      <td>61fa87606916b8b146b18e53</td>\n",
       "      <td>9573750907</td>\n",
       "    </tr>\n",
       "    <tr>\n",
       "      <th>4</th>\n",
       "      <td>61a60d220d37fd2d374b1c10</td>\n",
       "      <td>9676030266</td>\n",
       "    </tr>\n",
       "    <tr>\n",
       "      <th>...</th>\n",
       "      <td>...</td>\n",
       "      <td>...</td>\n",
       "    </tr>\n",
       "    <tr>\n",
       "      <th>1673000</th>\n",
       "      <td>6336aa48e90ec6448d7ad4e3</td>\n",
       "      <td>9538698894</td>\n",
       "    </tr>\n",
       "    <tr>\n",
       "      <th>1673001</th>\n",
       "      <td>615973e577c7e65990901667</td>\n",
       "      <td>7032089979</td>\n",
       "    </tr>\n",
       "    <tr>\n",
       "      <th>1673002</th>\n",
       "      <td>636c8f996a828365bde43e8c</td>\n",
       "      <td>9494229468</td>\n",
       "    </tr>\n",
       "    <tr>\n",
       "      <th>1673003</th>\n",
       "      <td>63287744747b4180e1b369ee</td>\n",
       "      <td>8919551890</td>\n",
       "    </tr>\n",
       "    <tr>\n",
       "      <th>1673004</th>\n",
       "      <td>6532e4feefd5eab4bc1debf3</td>\n",
       "      <td>9749441059</td>\n",
       "    </tr>\n",
       "  </tbody>\n",
       "</table>\n",
       "<p>1673005 rows × 2 columns</p>\n",
       "</div>"
      ],
      "text/plain": [
       "                      customer_id customer_mobile\n",
       "0        64fb030c588b8835b433ca3f      7675024468\n",
       "1        6411414e3fdc1cb30a2b2231      8123563210\n",
       "2        64f2f29234850c0e9a4610da      9844190433\n",
       "3        61fa87606916b8b146b18e53      9573750907\n",
       "4        61a60d220d37fd2d374b1c10      9676030266\n",
       "...                           ...             ...\n",
       "1673000  6336aa48e90ec6448d7ad4e3      9538698894\n",
       "1673001  615973e577c7e65990901667      7032089979\n",
       "1673002  636c8f996a828365bde43e8c      9494229468\n",
       "1673003  63287744747b4180e1b369ee      8919551890\n",
       "1673004  6532e4feefd5eab4bc1debf3      9749441059\n",
       "\n",
       "[1673005 rows x 2 columns]"
      ]
     },
     "execution_count": 13,
     "metadata": {},
     "output_type": "execute_result"
    }
   ],
   "source": [
    "## Userbase_Age_Campaign\n",
    "\n",
    "\n",
    "Userbase_Age_Campaign = f\"\"\"\n",
    "\n",
    "        WITH order_logs_snapshot AS (\n",
    "\n",
    "            SELECT\n",
    "                city_name,\n",
    "                customer_id,\n",
    "                customer_obj_mobile customer_mobile\n",
    "            FROM \n",
    "                orders.order_logs_snapshot\n",
    "            WHERE \n",
    "                yyyymmdd >= DATE_FORMAT(CURRENT_DATE - INTERVAL '21' DAY, '%Y%m%d') \n",
    "                AND city_name IN ('Hyderabad', 'Kolkata', 'Bangalore')\n",
    "                AND service_obj_service_name IN ('Link', 'Auto') --, 'Auto Pool', 'CabEconomy')\n",
    "                AND order_id IS NOT NULL\n",
    "                AND order_status = 'dropped'\n",
    "                AND (spd_fraud_flag is null or spd_fraud_flag=false)\n",
    "            GROUP BY 1,2,3\n",
    "            ),\n",
    "\n",
    "            iallocator_customer_metrics AS (\n",
    "\n",
    "            SELECT \n",
    "                run_date,\n",
    "                customer_id,\n",
    "                CASE \n",
    "                WHEN (cast(year_of_birth as int) BETWEEN 1940 AND 2015) THEN (2023 - cast(year_of_birth as int))\n",
    "                END age\n",
    "\n",
    "            FROM \n",
    "                datasets.iallocator_customer_metrics \n",
    "            WHERE \n",
    "                run_date = DATE_FORMAT( CURRENT_DATE - INTERVAL '2' day, '%Y-%m-%d')\n",
    "            ),\n",
    "\n",
    "            customer_metrics AS (\n",
    "\n",
    "            select \n",
    "                CASE \n",
    "                WHEN age < 18 THEN 'Below 18'\n",
    "                WHEN age >= 18 AND age <= 25 THEN '18 to 25'\n",
    "                WHEN age >= 26 AND age <= 40 THEN '26 to 40'\n",
    "                WHEN age >= 41 AND age <= 55 THEN '41 to 55'\n",
    "                WHEN age > 55 THEN '55 +'\n",
    "                WHEN age IS NULL THEN 'Unknown'\n",
    "                END age,\n",
    "                customer_id\n",
    "            from \n",
    "                iallocator_customer_metrics\n",
    "            ),\n",
    "\n",
    "            customer_single_view AS (\n",
    "\n",
    "            select \n",
    "                customerId \n",
    "            from \n",
    "                datasets.customer_single_view \n",
    "            where \n",
    "                dateOfBirth is null \n",
    "                and registrationCity IN ('hyderabad', 'kolkata', 'bangalore')\n",
    "            )\n",
    "\n",
    "            SELECT\n",
    "                -- city_name,\n",
    "                COALESCE(ols.customer_id, cm.customer_id, cs.customerId) customer_id,\n",
    "                customer_mobile\n",
    "            FROM \n",
    "                order_logs_snapshot ols \n",
    "            JOIN \n",
    "                customer_metrics cm \n",
    "                ON ols.customer_id = cm.customer_id\n",
    "                AND age = 'Unknown' \n",
    "\n",
    "            JOIN \n",
    "                customer_single_view cs\n",
    "                ON ols.customer_id = cs.customerId\n",
    "            GROUP BY 1,2\n",
    "\"\"\"\n",
    "\n",
    "df_Userbase_Age_Campaign = pd.read_sql(Userbase_Age_Campaign, connection)\n",
    "df_Userbase_Age_Campaign"
   ]
  },
  {
   "cell_type": "code",
   "execution_count": 14,
   "id": "e4bf87a1",
   "metadata": {},
   "outputs": [
    {
     "data": {
      "text/plain": [
       "(1673005, 2)"
      ]
     },
     "execution_count": 14,
     "metadata": {},
     "output_type": "execute_result"
    }
   ],
   "source": [
    "df_Userbase_Age_Campaign.shape"
   ]
  },
  {
   "cell_type": "code",
   "execution_count": 15,
   "id": "d589858e",
   "metadata": {},
   "outputs": [],
   "source": [
    "df_Userbase_Age_Campaign[['customer_id','customer_mobile']].to_csv('Userbase_Age_Campaign_Active_21days_Ban_Hyd_Kol.csv', index=False)"
   ]
  },
  {
   "cell_type": "code",
   "execution_count": null,
   "id": "29d4842f",
   "metadata": {},
   "outputs": [],
   "source": []
  },
  {
   "cell_type": "code",
   "execution_count": null,
   "id": "9f044994",
   "metadata": {},
   "outputs": [],
   "source": []
  },
  {
   "cell_type": "markdown",
   "id": "5271324f",
   "metadata": {},
   "source": [
    "90 days gross customer - 8272625 <br>\n",
    "90 days dropped customer - 6872783 <br>\n",
    "21 days dropped customer - 1692599 <br>\n",
    "14 days dropped customer - 1294295 <br>"
   ]
  },
  {
   "cell_type": "code",
   "execution_count": null,
   "id": "3aa3e54d",
   "metadata": {},
   "outputs": [],
   "source": [
    "1687235-1294295"
   ]
  },
  {
   "cell_type": "code",
   "execution_count": null,
   "id": "c901455c",
   "metadata": {},
   "outputs": [],
   "source": []
  }
 ],
 "metadata": {
  "kernelspec": {
   "display_name": "Python 3 (ipykernel)",
   "language": "python",
   "name": "python3"
  },
  "language_info": {
   "codemirror_mode": {
    "name": "ipython",
    "version": 3
   },
   "file_extension": ".py",
   "mimetype": "text/x-python",
   "name": "python",
   "nbconvert_exporter": "python",
   "pygments_lexer": "ipython3",
   "version": "3.10.9"
  }
 },
 "nbformat": 4,
 "nbformat_minor": 5
}
