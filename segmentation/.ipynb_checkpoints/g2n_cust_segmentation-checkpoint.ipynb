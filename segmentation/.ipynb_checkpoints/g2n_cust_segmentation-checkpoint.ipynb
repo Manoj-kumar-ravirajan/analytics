version https://git-lfs.github.com/spec/v1
oid sha256:9b35f85ce2cdcff9d50877c7859c16adc9eb31c15b8d110b5ea630d2c3568e98
size 433936
