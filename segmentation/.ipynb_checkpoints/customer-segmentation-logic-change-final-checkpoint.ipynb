version https://git-lfs.github.com/spec/v1
oid sha256:318935f6ef70073ca0717e21ff1a4ca69552bf06d4b6e67176f272b0e91afec8
size 170938
