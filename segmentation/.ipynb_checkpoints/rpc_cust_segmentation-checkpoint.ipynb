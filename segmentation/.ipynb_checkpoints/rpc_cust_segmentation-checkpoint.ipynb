version https://git-lfs.github.com/spec/v1
oid sha256:86a61595ea9a1c89e216875be1cb57efe8f3a247498d868dbc0e610702f4e85b
size 377744
