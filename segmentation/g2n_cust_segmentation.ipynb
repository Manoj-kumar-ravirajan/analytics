version https://git-lfs.github.com/spec/v1
oid sha256:10411be4d06ac4e81cfc69298def205853a392aca5d81de9cc9bb87e889a98fb
size 487368
