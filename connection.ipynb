{
 "cells": [
  {
   "cell_type": "code",
   "execution_count": 1,
   "id": "46b59b0e",
   "metadata": {},
   "outputs": [],
   "source": [
    "import h3 as h3\n",
    "import numpy as np\n",
    "import pandas as pd\n",
    "import matplotlib.pyplot as plt\n",
    "\n",
    "from scipy import stats\n",
    "from pyhive import presto\n",
    "from keplergl import KeplerGl\n",
    "from datetime import datetime, timedelta\n",
    "\n",
    "import warnings\n",
    "warnings.filterwarnings('ignore')"
   ]
  },
  {
   "cell_type": "code",
   "execution_count": 2,
   "id": "55e6b782",
   "metadata": {},
   "outputs": [
    {
     "data": {
      "text/plain": [
       "\"\\nconn = presto.connect(host='presto.yoda.run',\\n                   port=8080,\\n                   username='pallavi.chandra@rapido.bike')\\n\""
      ]
     },
     "execution_count": 2,
     "metadata": {},
     "output_type": "execute_result"
    }
   ],
   "source": [
    "connection = presto.connect(\n",
    "        host='presto-gateway.serving.data.production.internal',\n",
    "        port=80,\n",
    "        protocol='http',\n",
    "        catalog='hive',\n",
    "        username='manoj.ravirajan@rapido.bike'\n",
    ")\n",
    "\"\"\"\n",
    "conn = presto.connect(\n",
    "    host='presto-gateway.serving.data.plectrum.dev',\n",
    "    port='443',\n",
    "    protocol='https',\n",
    "    catalog='hive',\n",
    "    username='pallavi.chandra@rapido.bike'\n",
    ")\n",
    "\"\"\"\n",
    "\"\"\"\n",
    "conn = presto.connect(host='presto.yoda.run',\n",
    "                   port=8080,\n",
    "                   username='pallavi.chandra@rapido.bike')\n",
    "\"\"\""
   ]
  },
  {
   "cell_type": "code",
   "execution_count": 6,
   "id": "7f601d2b",
   "metadata": {},
   "outputs": [],
   "source": [
    "fe_query = '''\n",
    "    select\n",
    "        cluster,\n",
    "        hex_id,\n",
    "        executiondate\n",
    "    from \n",
    "            datasets.city_cluster_hex\n",
    "        where\n",
    "            city = 'Bangalore'\n",
    "            and \n",
    "                resolution = 8\n",
    "'''"
   ]
  },
  {
   "cell_type": "code",
   "execution_count": 7,
   "id": "8d3b8ebe",
   "metadata": {
    "scrolled": true
   },
   "outputs": [],
   "source": [
    "test_df = pd.read_sql(fe_query, connection)"
   ]
  },
  {
   "cell_type": "code",
   "execution_count": 8,
   "id": "e3d72a81",
   "metadata": {},
   "outputs": [
    {
     "data": {
      "text/html": [
       "<div>\n",
       "<style scoped>\n",
       "    .dataframe tbody tr th:only-of-type {\n",
       "        vertical-align: middle;\n",
       "    }\n",
       "\n",
       "    .dataframe tbody tr th {\n",
       "        vertical-align: top;\n",
       "    }\n",
       "\n",
       "    .dataframe thead th {\n",
       "        text-align: right;\n",
       "    }\n",
       "</style>\n",
       "<table border=\"1\" class=\"dataframe\">\n",
       "  <thead>\n",
       "    <tr style=\"text-align: right;\">\n",
       "      <th></th>\n",
       "      <th>cluster</th>\n",
       "      <th>hex_id</th>\n",
       "      <th>executiondate</th>\n",
       "    </tr>\n",
       "  </thead>\n",
       "  <tbody>\n",
       "    <tr>\n",
       "      <th>0</th>\n",
       "      <td>Nelamangala</td>\n",
       "      <td>8860144847fffff</td>\n",
       "      <td>2023-09-03</td>\n",
       "    </tr>\n",
       "    <tr>\n",
       "      <th>1</th>\n",
       "      <td>Bidadi</td>\n",
       "      <td>8860144029fffff</td>\n",
       "      <td>2023-09-03</td>\n",
       "    </tr>\n",
       "    <tr>\n",
       "      <th>2</th>\n",
       "      <td>Bangalore Airport</td>\n",
       "      <td>886016908bfffff</td>\n",
       "      <td>2023-09-03</td>\n",
       "    </tr>\n",
       "    <tr>\n",
       "      <th>3</th>\n",
       "      <td>Bannerghatta</td>\n",
       "      <td>886014535dfffff</td>\n",
       "      <td>2023-09-03</td>\n",
       "    </tr>\n",
       "    <tr>\n",
       "      <th>4</th>\n",
       "      <td>Bannerghatta</td>\n",
       "      <td>88618926d5fffff</td>\n",
       "      <td>2023-09-03</td>\n",
       "    </tr>\n",
       "    <tr>\n",
       "      <th>...</th>\n",
       "      <td>...</td>\n",
       "      <td>...</td>\n",
       "      <td>...</td>\n",
       "    </tr>\n",
       "    <tr>\n",
       "      <th>3225</th>\n",
       "      <td>Attibele</td>\n",
       "      <td>886014cb65fffff</td>\n",
       "      <td>2023-09-03</td>\n",
       "    </tr>\n",
       "    <tr>\n",
       "      <th>3226</th>\n",
       "      <td>Attibele</td>\n",
       "      <td>88618936a3fffff</td>\n",
       "      <td>2023-09-03</td>\n",
       "    </tr>\n",
       "    <tr>\n",
       "      <th>3227</th>\n",
       "      <td>Attibele</td>\n",
       "      <td>88618936b1fffff</td>\n",
       "      <td>2023-09-03</td>\n",
       "    </tr>\n",
       "    <tr>\n",
       "      <th>3228</th>\n",
       "      <td>Attibele</td>\n",
       "      <td>88618936b7fffff</td>\n",
       "      <td>2023-09-03</td>\n",
       "    </tr>\n",
       "    <tr>\n",
       "      <th>3229</th>\n",
       "      <td>Attibele</td>\n",
       "      <td>88618936a1fffff</td>\n",
       "      <td>2023-09-03</td>\n",
       "    </tr>\n",
       "  </tbody>\n",
       "</table>\n",
       "<p>3230 rows × 3 columns</p>\n",
       "</div>"
      ],
      "text/plain": [
       "                cluster           hex_id executiondate\n",
       "0           Nelamangala  8860144847fffff    2023-09-03\n",
       "1                Bidadi  8860144029fffff    2023-09-03\n",
       "2     Bangalore Airport  886016908bfffff    2023-09-03\n",
       "3          Bannerghatta  886014535dfffff    2023-09-03\n",
       "4          Bannerghatta  88618926d5fffff    2023-09-03\n",
       "...                 ...              ...           ...\n",
       "3225           Attibele  886014cb65fffff    2023-09-03\n",
       "3226           Attibele  88618936a3fffff    2023-09-03\n",
       "3227           Attibele  88618936b1fffff    2023-09-03\n",
       "3228           Attibele  88618936b7fffff    2023-09-03\n",
       "3229           Attibele  88618936a1fffff    2023-09-03\n",
       "\n",
       "[3230 rows x 3 columns]"
      ]
     },
     "execution_count": 8,
     "metadata": {},
     "output_type": "execute_result"
    }
   ],
   "source": [
    "test_df"
   ]
  },
  {
   "cell_type": "code",
   "execution_count": null,
   "id": "f14b17bb",
   "metadata": {},
   "outputs": [],
   "source": []
  }
 ],
 "metadata": {
  "kernelspec": {
   "display_name": "Python 3 (ipykernel)",
   "language": "python",
   "name": "python3"
  },
  "language_info": {
   "codemirror_mode": {
    "name": "ipython",
    "version": 3
   },
   "file_extension": ".py",
   "mimetype": "text/x-python",
   "name": "python",
   "nbconvert_exporter": "python",
   "pygments_lexer": "ipython3",
   "version": "3.10.9"
  }
 },
 "nbformat": 4,
 "nbformat_minor": 5
}
