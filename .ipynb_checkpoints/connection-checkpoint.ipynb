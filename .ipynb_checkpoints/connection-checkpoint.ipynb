version https://git-lfs.github.com/spec/v1
oid sha256:d24260e1d52f5e0ba21d40cc4402a12505b4a9aaf2b8f0f16bd3c5bc7bebd9dd
size 9011
