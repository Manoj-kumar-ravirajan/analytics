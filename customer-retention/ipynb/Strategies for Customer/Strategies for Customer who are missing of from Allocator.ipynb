{
 "cells": [
  {
   "cell_type": "code",
   "execution_count": 45,
   "metadata": {},
   "outputs": [],
   "source": [
    "from pyhive import presto\n",
    "import pandas as pd\n",
    "import matplotlib.pyplot as plt\n",
    "import datetime as dt\n",
    "import numpy as np\n",
    "import time\n",
    "\n",
    "from datetime import datetime, timedelta\n",
    "\n",
    "import seaborn as sns\n",
    "\n",
    "conn = presto.connect(\n",
    "    host='presto.processing.yoda.run', \n",
    "    ## presto.processing.yoda.run\n",
    "    ## bi-presto.serving.data.production.internal\n",
    "    port=80,\n",
    "    username='manoj.ravirajan@rapido.bike'\n",
    ")"
   ]
  },
  {
   "cell_type": "code",
   "execution_count": 85,
   "metadata": {},
   "outputs": [],
   "source": [
    "start_date = '2022-09-02'\n",
    "end_date = '2022-09-11'"
   ]
  },
  {
   "cell_type": "code",
   "execution_count": 86,
   "metadata": {},
   "outputs": [],
   "source": [
    "code = f\"\"\"\n",
    "with customers as (\n",
    "select \n",
    "    run_date,\n",
    "    link_lifetime_stage as ls,\n",
    "    case when (link_recency_segment  not in ('RECENT','STATIONARY') or link_lifetime_stage in ('HANDHOLDING','UNKNOWN'))  then 'Non_Allocator' \n",
    "    else 'Allocator' end as ls_stage,\n",
    "    customer_id\n",
    "from\n",
    "    datasets.iallocator_customer_segments\n",
    "where \n",
    "    run_date>=date_format(cast('{start_date}' as date)-interval '1' day,'%Y-%m-%d') \n",
    "    and run_date<=date_format(cast('{end_date}' as date),'%Y-%m-%d')\n",
    "    and taxi_lifetime_last_ride_city='Kolkata'\n",
    ")\n",
    "\n",
    "select\n",
    "    case \n",
    "    when day_of_week(date_parse(run_date,'%Y-%m-%d'))= 1 then 'Monday'\n",
    "    when day_of_week(date_parse(run_date,'%Y-%m-%d'))= 2 then 'Tuesday'\n",
    "    when day_of_week(date_parse(run_date,'%Y-%m-%d'))= 3 then 'Wednesday'\n",
    "    when day_of_week(date_parse(run_date,'%Y-%m-%d'))= 4 then 'Thursday'\n",
    "    when day_of_week(date_parse(run_date,'%Y-%m-%d'))= 5 then 'Friday'\n",
    "    when day_of_week(date_parse(run_date,'%Y-%m-%d'))= 6 then 'Saturday'\n",
    "    else 'Sunday' end as day\n",
    "    ,run_date,\n",
    "    count(distinct case when status_flag = 'Allocator_Upgrade' then customer_id end) as allocator_upgrade_users,\n",
    "    count(distinct case when status_flag = 'Allocator_Downgrade' then customer_id end) as allocator_downgrade_users,\n",
    "    count(distinct case when status_flag = 'Same' then customer_id end) as allocator_same_users\n",
    "\n",
    "from\n",
    "(\n",
    "select\n",
    "    *,\n",
    "    case \n",
    "    when ls_stage='Allocator' and prev_day_ls='Non_Allocator' then 'Allocator_Upgrade'\n",
    "    when ls_stage='Non_Allocator' and prev_day_ls='Allocator' then 'Allocator_Downgrade' \n",
    "    else 'Same' \n",
    "    end as status_flag\n",
    "from\n",
    "    (\n",
    "    select \n",
    "        run_date,\n",
    "        customer_id,\n",
    "        ls_stage,\n",
    "        lag(ls_stage) over(partition by customer_id order by run_date ASC) as prev_day_ls\n",
    "    from\n",
    "        customers\n",
    "    )\n",
    ")\n",
    "--where status_flag !='Same'\n",
    "group by 1,2\n",
    "order by 2\n",
    "\n",
    "\"\"\""
   ]
  },
  {
   "cell_type": "code",
   "execution_count": 87,
   "metadata": {},
   "outputs": [
    {
     "data": {
      "text/html": [
       "<div>\n",
       "<style scoped>\n",
       "    .dataframe tbody tr th:only-of-type {\n",
       "        vertical-align: middle;\n",
       "    }\n",
       "\n",
       "    .dataframe tbody tr th {\n",
       "        vertical-align: top;\n",
       "    }\n",
       "\n",
       "    .dataframe thead th {\n",
       "        text-align: right;\n",
       "    }\n",
       "</style>\n",
       "<table border=\"1\" class=\"dataframe\">\n",
       "  <thead>\n",
       "    <tr style=\"text-align: right;\">\n",
       "      <th></th>\n",
       "      <th>day</th>\n",
       "      <th>run_date</th>\n",
       "      <th>allocator_upgrade_users</th>\n",
       "      <th>allocator_downgrade_users</th>\n",
       "      <th>allocator_same_users</th>\n",
       "    </tr>\n",
       "  </thead>\n",
       "  <tbody>\n",
       "    <tr>\n",
       "      <th>0</th>\n",
       "      <td>Thursday</td>\n",
       "      <td>2022-09-01</td>\n",
       "      <td>0</td>\n",
       "      <td>0</td>\n",
       "      <td>1555152</td>\n",
       "    </tr>\n",
       "    <tr>\n",
       "      <th>1</th>\n",
       "      <td>Friday</td>\n",
       "      <td>2022-09-02</td>\n",
       "      <td>2858</td>\n",
       "      <td>3885</td>\n",
       "      <td>1549825</td>\n",
       "    </tr>\n",
       "    <tr>\n",
       "      <th>2</th>\n",
       "      <td>Saturday</td>\n",
       "      <td>2022-09-03</td>\n",
       "      <td>3167</td>\n",
       "      <td>3318</td>\n",
       "      <td>1551563</td>\n",
       "    </tr>\n",
       "    <tr>\n",
       "      <th>3</th>\n",
       "      <td>Sunday</td>\n",
       "      <td>2022-09-04</td>\n",
       "      <td>2651</td>\n",
       "      <td>1515</td>\n",
       "      <td>1555390</td>\n",
       "    </tr>\n",
       "    <tr>\n",
       "      <th>4</th>\n",
       "      <td>Monday</td>\n",
       "      <td>2022-09-05</td>\n",
       "      <td>3074</td>\n",
       "      <td>2021</td>\n",
       "      <td>1556021</td>\n",
       "    </tr>\n",
       "    <tr>\n",
       "      <th>5</th>\n",
       "      <td>Tuesday</td>\n",
       "      <td>2022-09-06</td>\n",
       "      <td>2754</td>\n",
       "      <td>3063</td>\n",
       "      <td>1556640</td>\n",
       "    </tr>\n",
       "    <tr>\n",
       "      <th>6</th>\n",
       "      <td>Wednesday</td>\n",
       "      <td>2022-09-07</td>\n",
       "      <td>2936</td>\n",
       "      <td>2993</td>\n",
       "      <td>1557000</td>\n",
       "    </tr>\n",
       "    <tr>\n",
       "      <th>7</th>\n",
       "      <td>Thursday</td>\n",
       "      <td>2022-09-08</td>\n",
       "      <td>2775</td>\n",
       "      <td>2901</td>\n",
       "      <td>1559408</td>\n",
       "    </tr>\n",
       "    <tr>\n",
       "      <th>8</th>\n",
       "      <td>Friday</td>\n",
       "      <td>2022-09-09</td>\n",
       "      <td>2800</td>\n",
       "      <td>1592</td>\n",
       "      <td>1561878</td>\n",
       "    </tr>\n",
       "    <tr>\n",
       "      <th>9</th>\n",
       "      <td>Saturday</td>\n",
       "      <td>2022-09-10</td>\n",
       "      <td>2801</td>\n",
       "      <td>2622</td>\n",
       "      <td>1562270</td>\n",
       "    </tr>\n",
       "    <tr>\n",
       "      <th>10</th>\n",
       "      <td>Sunday</td>\n",
       "      <td>2022-09-11</td>\n",
       "      <td>1912</td>\n",
       "      <td>2693</td>\n",
       "      <td>1563622</td>\n",
       "    </tr>\n",
       "  </tbody>\n",
       "</table>\n",
       "</div>"
      ],
      "text/plain": [
       "          day    run_date  allocator_upgrade_users  allocator_downgrade_users  \\\n",
       "0    Thursday  2022-09-01                        0                          0   \n",
       "1      Friday  2022-09-02                     2858                       3885   \n",
       "2    Saturday  2022-09-03                     3167                       3318   \n",
       "3      Sunday  2022-09-04                     2651                       1515   \n",
       "4      Monday  2022-09-05                     3074                       2021   \n",
       "5     Tuesday  2022-09-06                     2754                       3063   \n",
       "6   Wednesday  2022-09-07                     2936                       2993   \n",
       "7    Thursday  2022-09-08                     2775                       2901   \n",
       "8      Friday  2022-09-09                     2800                       1592   \n",
       "9    Saturday  2022-09-10                     2801                       2622   \n",
       "10     Sunday  2022-09-11                     1912                       2693   \n",
       "\n",
       "    allocator_same_users  \n",
       "0                1555152  \n",
       "1                1549825  \n",
       "2                1551563  \n",
       "3                1555390  \n",
       "4                1556021  \n",
       "5                1556640  \n",
       "6                1557000  \n",
       "7                1559408  \n",
       "8                1561878  \n",
       "9                1562270  \n",
       "10               1563622  "
      ]
     },
     "execution_count": 87,
     "metadata": {},
     "output_type": "execute_result"
    }
   ],
   "source": [
    "df_code = pd.read_sql(code, conn)\n",
    "df_code"
   ]
  },
  {
   "cell_type": "code",
   "execution_count": 92,
   "metadata": {},
   "outputs": [
    {
     "data": {
      "text/plain": [
       "27728"
      ]
     },
     "execution_count": 92,
     "metadata": {},
     "output_type": "execute_result"
    }
   ],
   "source": [
    "df_code['allocator_upgrade_users'].sum()"
   ]
  },
  {
   "cell_type": "code",
   "execution_count": 93,
   "metadata": {},
   "outputs": [
    {
     "data": {
      "text/html": [
       "<div>\n",
       "<style scoped>\n",
       "    .dataframe tbody tr th:only-of-type {\n",
       "        vertical-align: middle;\n",
       "    }\n",
       "\n",
       "    .dataframe tbody tr th {\n",
       "        vertical-align: top;\n",
       "    }\n",
       "\n",
       "    .dataframe thead th {\n",
       "        text-align: right;\n",
       "    }\n",
       "</style>\n",
       "<table border=\"1\" class=\"dataframe\">\n",
       "  <thead>\n",
       "    <tr style=\"text-align: right;\">\n",
       "      <th></th>\n",
       "      <th>day</th>\n",
       "      <th>run_date</th>\n",
       "      <th>allocator_upgrade_users</th>\n",
       "      <th>allocator_downgrade_users</th>\n",
       "      <th>allocator_same_users</th>\n",
       "    </tr>\n",
       "  </thead>\n",
       "  <tbody>\n",
       "    <tr>\n",
       "      <th>4</th>\n",
       "      <td>Monday</td>\n",
       "      <td>2022-09-05</td>\n",
       "      <td>3074</td>\n",
       "      <td>2021</td>\n",
       "      <td>1556021</td>\n",
       "    </tr>\n",
       "    <tr>\n",
       "      <th>5</th>\n",
       "      <td>Tuesday</td>\n",
       "      <td>2022-09-06</td>\n",
       "      <td>2754</td>\n",
       "      <td>3063</td>\n",
       "      <td>1556640</td>\n",
       "    </tr>\n",
       "    <tr>\n",
       "      <th>6</th>\n",
       "      <td>Wednesday</td>\n",
       "      <td>2022-09-07</td>\n",
       "      <td>2936</td>\n",
       "      <td>2993</td>\n",
       "      <td>1557000</td>\n",
       "    </tr>\n",
       "    <tr>\n",
       "      <th>7</th>\n",
       "      <td>Thursday</td>\n",
       "      <td>2022-09-08</td>\n",
       "      <td>2775</td>\n",
       "      <td>2901</td>\n",
       "      <td>1559408</td>\n",
       "    </tr>\n",
       "    <tr>\n",
       "      <th>8</th>\n",
       "      <td>Friday</td>\n",
       "      <td>2022-09-09</td>\n",
       "      <td>2800</td>\n",
       "      <td>1592</td>\n",
       "      <td>1561878</td>\n",
       "    </tr>\n",
       "    <tr>\n",
       "      <th>9</th>\n",
       "      <td>Saturday</td>\n",
       "      <td>2022-09-10</td>\n",
       "      <td>2801</td>\n",
       "      <td>2622</td>\n",
       "      <td>1562270</td>\n",
       "    </tr>\n",
       "    <tr>\n",
       "      <th>10</th>\n",
       "      <td>Sunday</td>\n",
       "      <td>2022-09-11</td>\n",
       "      <td>1912</td>\n",
       "      <td>2693</td>\n",
       "      <td>1563622</td>\n",
       "    </tr>\n",
       "  </tbody>\n",
       "</table>\n",
       "</div>"
      ],
      "text/plain": [
       "          day    run_date  allocator_upgrade_users  allocator_downgrade_users  \\\n",
       "4      Monday  2022-09-05                     3074                       2021   \n",
       "5     Tuesday  2022-09-06                     2754                       3063   \n",
       "6   Wednesday  2022-09-07                     2936                       2993   \n",
       "7    Thursday  2022-09-08                     2775                       2901   \n",
       "8      Friday  2022-09-09                     2800                       1592   \n",
       "9    Saturday  2022-09-10                     2801                       2622   \n",
       "10     Sunday  2022-09-11                     1912                       2693   \n",
       "\n",
       "    allocator_same_users  \n",
       "4                1556021  \n",
       "5                1556640  \n",
       "6                1557000  \n",
       "7                1559408  \n",
       "8                1561878  \n",
       "9                1562270  \n",
       "10               1563622  "
      ]
     },
     "execution_count": 93,
     "metadata": {},
     "output_type": "execute_result"
    }
   ],
   "source": [
    "df1 = df_code[df_code['run_date'] > '2022-09-04']\n",
    "df1"
   ]
  },
  {
   "cell_type": "code",
   "execution_count": 94,
   "metadata": {},
   "outputs": [
    {
     "data": {
      "text/plain": [
       "19052"
      ]
     },
     "execution_count": 94,
     "metadata": {},
     "output_type": "execute_result"
    }
   ],
   "source": [
    "df1['allocator_upgrade_users'].sum()"
   ]
  },
  {
   "cell_type": "code",
   "execution_count": 90,
   "metadata": {},
   "outputs": [
    {
     "data": {
      "text/plain": [
       "26603"
      ]
     },
     "execution_count": 90,
     "metadata": {},
     "output_type": "execute_result"
    }
   ],
   "source": [
    "df_code['allocator_downgrade_users'].sum()"
   ]
  },
  {
   "cell_type": "code",
   "execution_count": 91,
   "metadata": {},
   "outputs": [
    {
     "data": {
      "text/plain": [
       "17128769"
      ]
     },
     "execution_count": 91,
     "metadata": {},
     "output_type": "execute_result"
    }
   ],
   "source": [
    "df_code['allocator_same_users'].sum()"
   ]
  },
  {
   "cell_type": "code",
   "execution_count": null,
   "metadata": {},
   "outputs": [],
   "source": []
  }
 ],
 "metadata": {
  "kernelspec": {
   "display_name": "Python 3.7.6 64-bit",
   "language": "python",
   "name": "python3"
  },
  "language_info": {
   "codemirror_mode": {
    "name": "ipython",
    "version": 3
   },
   "file_extension": ".py",
   "mimetype": "text/x-python",
   "name": "python",
   "nbconvert_exporter": "python",
   "pygments_lexer": "ipython3",
   "version": "3.7.6"
  },
  "orig_nbformat": 4,
  "vscode": {
   "interpreter": {
    "hash": "aee8b7b246df8f9039afb4144a1f6fd8d2ca17a180786b69acc140d282b71a49"
   }
  }
 },
 "nbformat": 4,
 "nbformat_minor": 2
}
