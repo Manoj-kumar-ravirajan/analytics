{
 "cells": [
  {
   "cell_type": "code",
   "execution_count": 15,
   "metadata": {},
   "outputs": [],
   "source": [
    "import numpy as np\n",
    "import pandas as pd\n",
    "from pyhive import presto\n",
    "\n",
    "pd.set_option('display.max_rows', None)\n",
    "pd.set_option('display.max_columns', None)\n",
    "\n",
    "\n",
    "conn = presto.connect(\n",
    "host='presto.processing.yoda.run', \n",
    "## presto.processing.yoda.run\n",
    "## bi-presto.serving.data.production.internal\n",
    "port=80,\n",
    "username='manoj.ravirajan@rapido.bike'\n",
    ")"
   ]
  },
  {
   "cell_type": "code",
   "execution_count": 190,
   "metadata": {},
   "outputs": [],
   "source": [
    "city_name = 'Lucknow'"
   ]
  },
  {
   "cell_type": "code",
   "execution_count": 219,
   "metadata": {},
   "outputs": [
    {
     "data": {
      "text/html": [
       "<div>\n",
       "<style scoped>\n",
       "    .dataframe tbody tr th:only-of-type {\n",
       "        vertical-align: middle;\n",
       "    }\n",
       "\n",
       "    .dataframe tbody tr th {\n",
       "        vertical-align: top;\n",
       "    }\n",
       "\n",
       "    .dataframe thead th {\n",
       "        text-align: right;\n",
       "    }\n",
       "</style>\n",
       "<table border=\"1\" class=\"dataframe\">\n",
       "  <thead>\n",
       "    <tr style=\"text-align: right;\">\n",
       "      <th></th>\n",
       "      <th>execution_date</th>\n",
       "      <th>city</th>\n",
       "      <th>customer_id</th>\n",
       "      <th>segment</th>\n",
       "    </tr>\n",
       "  </thead>\n",
       "  <tbody>\n",
       "    <tr>\n",
       "      <th>0</th>\n",
       "      <td>2022-09-04</td>\n",
       "      <td>Lucknow</td>\n",
       "      <td>62fe0d0c53ac22a9dba043d0</td>\n",
       "      <td>PHH</td>\n",
       "    </tr>\n",
       "    <tr>\n",
       "      <th>1</th>\n",
       "      <td>2022-09-04</td>\n",
       "      <td>Lucknow</td>\n",
       "      <td>62fe0df968187b2380bb96d9</td>\n",
       "      <td>PHH</td>\n",
       "    </tr>\n",
       "    <tr>\n",
       "      <th>2</th>\n",
       "      <td>2022-09-04</td>\n",
       "      <td>Lucknow</td>\n",
       "      <td>62fe177353ac22593ba04ba5</td>\n",
       "      <td>PHH</td>\n",
       "    </tr>\n",
       "    <tr>\n",
       "      <th>3</th>\n",
       "      <td>2022-09-04</td>\n",
       "      <td>Lucknow</td>\n",
       "      <td>62fe297053ac22fd41a059b3</td>\n",
       "      <td>PHH</td>\n",
       "    </tr>\n",
       "    <tr>\n",
       "      <th>4</th>\n",
       "      <td>2022-09-04</td>\n",
       "      <td>Lucknow</td>\n",
       "      <td>62fe71ef53ac2206d4a087b6</td>\n",
       "      <td>PHH</td>\n",
       "    </tr>\n",
       "    <tr>\n",
       "      <th>5</th>\n",
       "      <td>2022-09-04</td>\n",
       "      <td>Lucknow</td>\n",
       "      <td>62fee3fc04cb1b0bf20a64e1</td>\n",
       "      <td>PHH</td>\n",
       "    </tr>\n",
       "    <tr>\n",
       "      <th>6</th>\n",
       "      <td>2022-09-04</td>\n",
       "      <td>Lucknow</td>\n",
       "      <td>62ff0c78856192e77a96e3f1</td>\n",
       "      <td>PHH</td>\n",
       "    </tr>\n",
       "    <tr>\n",
       "      <th>7</th>\n",
       "      <td>2022-09-04</td>\n",
       "      <td>Lucknow</td>\n",
       "      <td>62ff3c4204cb1b00eb0aaed6</td>\n",
       "      <td>PHH</td>\n",
       "    </tr>\n",
       "    <tr>\n",
       "      <th>8</th>\n",
       "      <td>2022-09-04</td>\n",
       "      <td>Lucknow</td>\n",
       "      <td>62ff9df98561922fec9751e7</td>\n",
       "      <td>PHH</td>\n",
       "    </tr>\n",
       "    <tr>\n",
       "      <th>9</th>\n",
       "      <td>2022-09-04</td>\n",
       "      <td>Lucknow</td>\n",
       "      <td>62ffb2a032e8240de0e8c065</td>\n",
       "      <td>PHH</td>\n",
       "    </tr>\n",
       "  </tbody>\n",
       "</table>\n",
       "</div>"
      ],
      "text/plain": [
       "  execution_date     city               customer_id segment\n",
       "0     2022-09-04  Lucknow  62fe0d0c53ac22a9dba043d0     PHH\n",
       "1     2022-09-04  Lucknow  62fe0df968187b2380bb96d9     PHH\n",
       "2     2022-09-04  Lucknow  62fe177353ac22593ba04ba5     PHH\n",
       "3     2022-09-04  Lucknow  62fe297053ac22fd41a059b3     PHH\n",
       "4     2022-09-04  Lucknow  62fe71ef53ac2206d4a087b6     PHH\n",
       "5     2022-09-04  Lucknow  62fee3fc04cb1b0bf20a64e1     PHH\n",
       "6     2022-09-04  Lucknow  62ff0c78856192e77a96e3f1     PHH\n",
       "7     2022-09-04  Lucknow  62ff3c4204cb1b00eb0aaed6     PHH\n",
       "8     2022-09-04  Lucknow  62ff9df98561922fec9751e7     PHH\n",
       "9     2022-09-04  Lucknow  62ffb2a032e8240de0e8c065     PHH"
      ]
     },
     "execution_count": 219,
     "metadata": {},
     "output_type": "execute_result"
    }
   ],
   "source": [
    "customer_base_query = f\"\"\"\n",
    "\n",
    "select \n",
    "    run_date execution_date,\n",
    "    taxi_lifetime_last_ride_city city,\n",
    "    customer_id,\n",
    "    'PHH' segment\n",
    "\n",
    "from\n",
    "    hive.datasets.iallocator_customer_segments\n",
    "WHERE run_date = '2022-09-04'\n",
    "and taxi_lifetime_last_ride_city = '{city_name}'\n",
    "and taxi_lifetime_stage in ('COMMITTED','SUSTENANCE','HOOK','DETOX','CHURN_OTB','SOFT_CHURN')\n",
    "\n",
    "\"\"\"\n",
    "\n",
    "customer_base = pd.read_sql(customer_base_query, conn)\n",
    "\n",
    "customer_base.head(10)"
   ]
  },
  {
   "cell_type": "code",
   "execution_count": 192,
   "metadata": {},
   "outputs": [
    {
     "data": {
      "text/html": [
       "<div>\n",
       "<style scoped>\n",
       "    .dataframe tbody tr th:only-of-type {\n",
       "        vertical-align: middle;\n",
       "    }\n",
       "\n",
       "    .dataframe tbody tr th {\n",
       "        vertical-align: top;\n",
       "    }\n",
       "\n",
       "    .dataframe thead th {\n",
       "        text-align: right;\n",
       "    }\n",
       "</style>\n",
       "<table border=\"1\" class=\"dataframe\">\n",
       "  <thead>\n",
       "    <tr style=\"text-align: right;\">\n",
       "      <th></th>\n",
       "      <th>customer_d1</th>\n",
       "      <th>segment</th>\n",
       "    </tr>\n",
       "  </thead>\n",
       "  <tbody>\n",
       "    <tr>\n",
       "      <th>0</th>\n",
       "      <td>629373932b800fedb6f87fe7</td>\n",
       "      <td>PHH</td>\n",
       "    </tr>\n",
       "    <tr>\n",
       "      <th>1</th>\n",
       "      <td>6173ce284c6ba177dedcab7e</td>\n",
       "      <td>PHH</td>\n",
       "    </tr>\n",
       "    <tr>\n",
       "      <th>2</th>\n",
       "      <td>617603a24c6ba17e74de2733</td>\n",
       "      <td>PHH</td>\n",
       "    </tr>\n",
       "    <tr>\n",
       "      <th>3</th>\n",
       "      <td>61c6a0ef85de1274f202751a</td>\n",
       "      <td>PHH</td>\n",
       "    </tr>\n",
       "    <tr>\n",
       "      <th>4</th>\n",
       "      <td>61bc6b97907accfa2cc44f3c</td>\n",
       "      <td>PHH</td>\n",
       "    </tr>\n",
       "    <tr>\n",
       "      <th>5</th>\n",
       "      <td>61c93785872e3715c6fc2806</td>\n",
       "      <td>PHH</td>\n",
       "    </tr>\n",
       "    <tr>\n",
       "      <th>6</th>\n",
       "      <td>61d5a32b731a6d1306062a0f</td>\n",
       "      <td>PHH</td>\n",
       "    </tr>\n",
       "    <tr>\n",
       "      <th>7</th>\n",
       "      <td>627b6619d2e8d210a971f15c</td>\n",
       "      <td>PHH</td>\n",
       "    </tr>\n",
       "    <tr>\n",
       "      <th>8</th>\n",
       "      <td>628bb41e8f9b4367ad629218</td>\n",
       "      <td>PHH</td>\n",
       "    </tr>\n",
       "    <tr>\n",
       "      <th>9</th>\n",
       "      <td>6295895574c071262d504b4f</td>\n",
       "      <td>PHH</td>\n",
       "    </tr>\n",
       "  </tbody>\n",
       "</table>\n",
       "</div>"
      ],
      "text/plain": [
       "                customer_d1 segment\n",
       "0  629373932b800fedb6f87fe7     PHH\n",
       "1  6173ce284c6ba177dedcab7e     PHH\n",
       "2  617603a24c6ba17e74de2733     PHH\n",
       "3  61c6a0ef85de1274f202751a     PHH\n",
       "4  61bc6b97907accfa2cc44f3c     PHH\n",
       "5  61c93785872e3715c6fc2806     PHH\n",
       "6  61d5a32b731a6d1306062a0f     PHH\n",
       "7  627b6619d2e8d210a971f15c     PHH\n",
       "8  628bb41e8f9b4367ad629218     PHH\n",
       "9  6295895574c071262d504b4f     PHH"
      ]
     },
     "execution_count": 192,
     "metadata": {},
     "output_type": "execute_result"
    }
   ],
   "source": [
    "customer_base_query = f\"\"\"\n",
    "\n",
    "select \n",
    "    distinct customer_id customer_d1,\n",
    "    'PHH' segment\n",
    "\n",
    "from\n",
    "    hive.datasets.iallocator_customer_segments\n",
    "WHERE run_date between '2022-09-05' and '2022-09-11' \n",
    "and taxi_lifetime_last_ride_city = '{city_name}'\n",
    "and taxi_lifetime_stage in ('COMMITTED','SUSTENANCE','HOOK','DETOX','CHURN_OTB','SOFT_CHURN')\n",
    "\n",
    "\"\"\"\n",
    "\n",
    "next_day = pd.read_sql(customer_base_query, conn)\n",
    "\n",
    "next_day.head(10)"
   ]
  },
  {
   "cell_type": "code",
   "execution_count": 220,
   "metadata": {},
   "outputs": [
    {
     "name": "stdout",
     "output_type": "stream",
     "text": [
      "(56169, 4) (66870, 2)\n"
     ]
    }
   ],
   "source": [
    "print(customer_base.shape,next_day.shape)"
   ]
  },
  {
   "cell_type": "code",
   "execution_count": 221,
   "metadata": {},
   "outputs": [],
   "source": [
    "customer_combined = customer_base.merge(next_day, left_on = 'customer_id',right_on = 'customer_d1',how='outer')"
   ]
  },
  {
   "cell_type": "code",
   "execution_count": 222,
   "metadata": {},
   "outputs": [
    {
     "data": {
      "text/html": [
       "<div>\n",
       "<style scoped>\n",
       "    .dataframe tbody tr th:only-of-type {\n",
       "        vertical-align: middle;\n",
       "    }\n",
       "\n",
       "    .dataframe tbody tr th {\n",
       "        vertical-align: top;\n",
       "    }\n",
       "\n",
       "    .dataframe thead th {\n",
       "        text-align: right;\n",
       "    }\n",
       "</style>\n",
       "<table border=\"1\" class=\"dataframe\">\n",
       "  <thead>\n",
       "    <tr style=\"text-align: right;\">\n",
       "      <th></th>\n",
       "      <th>execution_date</th>\n",
       "      <th>city</th>\n",
       "      <th>customer_id</th>\n",
       "      <th>segment_x</th>\n",
       "      <th>customer_d1</th>\n",
       "      <th>segment_y</th>\n",
       "    </tr>\n",
       "  </thead>\n",
       "  <tbody>\n",
       "    <tr>\n",
       "      <th>0</th>\n",
       "      <td>2022-09-04</td>\n",
       "      <td>Lucknow</td>\n",
       "      <td>62fe0d0c53ac22a9dba043d0</td>\n",
       "      <td>PHH</td>\n",
       "      <td>62fe0d0c53ac22a9dba043d0</td>\n",
       "      <td>PHH</td>\n",
       "    </tr>\n",
       "    <tr>\n",
       "      <th>1</th>\n",
       "      <td>2022-09-04</td>\n",
       "      <td>Lucknow</td>\n",
       "      <td>62fe0df968187b2380bb96d9</td>\n",
       "      <td>PHH</td>\n",
       "      <td>62fe0df968187b2380bb96d9</td>\n",
       "      <td>PHH</td>\n",
       "    </tr>\n",
       "    <tr>\n",
       "      <th>2</th>\n",
       "      <td>2022-09-04</td>\n",
       "      <td>Lucknow</td>\n",
       "      <td>62fe177353ac22593ba04ba5</td>\n",
       "      <td>PHH</td>\n",
       "      <td>62fe177353ac22593ba04ba5</td>\n",
       "      <td>PHH</td>\n",
       "    </tr>\n",
       "    <tr>\n",
       "      <th>3</th>\n",
       "      <td>2022-09-04</td>\n",
       "      <td>Lucknow</td>\n",
       "      <td>62fe297053ac22fd41a059b3</td>\n",
       "      <td>PHH</td>\n",
       "      <td>62fe297053ac22fd41a059b3</td>\n",
       "      <td>PHH</td>\n",
       "    </tr>\n",
       "    <tr>\n",
       "      <th>4</th>\n",
       "      <td>2022-09-04</td>\n",
       "      <td>Lucknow</td>\n",
       "      <td>62fe71ef53ac2206d4a087b6</td>\n",
       "      <td>PHH</td>\n",
       "      <td>62fe71ef53ac2206d4a087b6</td>\n",
       "      <td>PHH</td>\n",
       "    </tr>\n",
       "  </tbody>\n",
       "</table>\n",
       "</div>"
      ],
      "text/plain": [
       "  execution_date     city               customer_id segment_x  \\\n",
       "0     2022-09-04  Lucknow  62fe0d0c53ac22a9dba043d0       PHH   \n",
       "1     2022-09-04  Lucknow  62fe0df968187b2380bb96d9       PHH   \n",
       "2     2022-09-04  Lucknow  62fe177353ac22593ba04ba5       PHH   \n",
       "3     2022-09-04  Lucknow  62fe297053ac22fd41a059b3       PHH   \n",
       "4     2022-09-04  Lucknow  62fe71ef53ac2206d4a087b6       PHH   \n",
       "\n",
       "                customer_d1 segment_y  \n",
       "0  62fe0d0c53ac22a9dba043d0       PHH  \n",
       "1  62fe0df968187b2380bb96d9       PHH  \n",
       "2  62fe177353ac22593ba04ba5       PHH  \n",
       "3  62fe297053ac22fd41a059b3       PHH  \n",
       "4  62fe71ef53ac2206d4a087b6       PHH  "
      ]
     },
     "execution_count": 222,
     "metadata": {},
     "output_type": "execute_result"
    }
   ],
   "source": [
    "customer_combined.head()"
   ]
  },
  {
   "cell_type": "code",
   "execution_count": 223,
   "metadata": {},
   "outputs": [
    {
     "data": {
      "text/plain": [
       "66870"
      ]
     },
     "execution_count": 223,
     "metadata": {},
     "output_type": "execute_result"
    }
   ],
   "source": [
    "customer_combined.customer_d1.nunique()"
   ]
  },
  {
   "cell_type": "code",
   "execution_count": 224,
   "metadata": {},
   "outputs": [
    {
     "data": {
      "text/plain": [
       "66870"
      ]
     },
     "execution_count": 224,
     "metadata": {},
     "output_type": "execute_result"
    }
   ],
   "source": [
    "customer_combined.customer_d1.count()"
   ]
  },
  {
   "cell_type": "code",
   "execution_count": 225,
   "metadata": {},
   "outputs": [
    {
     "data": {
      "text/plain": [
       "execution_date    11904\n",
       "city              11904\n",
       "customer_id       11904\n",
       "segment_x         11904\n",
       "customer_d1        1203\n",
       "segment_y          1203\n",
       "dtype: int64"
      ]
     },
     "execution_count": 225,
     "metadata": {},
     "output_type": "execute_result"
    }
   ],
   "source": [
    "customer_combined.isna().sum()"
   ]
  },
  {
   "cell_type": "code",
   "execution_count": 226,
   "metadata": {},
   "outputs": [],
   "source": [
    "customer_combined.fillna('missing',inplace=True)"
   ]
  },
  {
   "cell_type": "code",
   "execution_count": 227,
   "metadata": {},
   "outputs": [
    {
     "data": {
      "text/html": [
       "<div>\n",
       "<style scoped>\n",
       "    .dataframe tbody tr th:only-of-type {\n",
       "        vertical-align: middle;\n",
       "    }\n",
       "\n",
       "    .dataframe tbody tr th {\n",
       "        vertical-align: top;\n",
       "    }\n",
       "\n",
       "    .dataframe thead th {\n",
       "        text-align: right;\n",
       "    }\n",
       "</style>\n",
       "<table border=\"1\" class=\"dataframe\">\n",
       "  <thead>\n",
       "    <tr style=\"text-align: right;\">\n",
       "      <th></th>\n",
       "      <th>segment_x</th>\n",
       "      <th>segment_y</th>\n",
       "      <th>customer_id</th>\n",
       "      <th>customer_d1</th>\n",
       "    </tr>\n",
       "  </thead>\n",
       "  <tbody>\n",
       "    <tr>\n",
       "      <th>0</th>\n",
       "      <td>PHH</td>\n",
       "      <td>PHH</td>\n",
       "      <td>54966</td>\n",
       "      <td>54966</td>\n",
       "    </tr>\n",
       "    <tr>\n",
       "      <th>1</th>\n",
       "      <td>PHH</td>\n",
       "      <td>missing</td>\n",
       "      <td>1203</td>\n",
       "      <td>1203</td>\n",
       "    </tr>\n",
       "    <tr>\n",
       "      <th>2</th>\n",
       "      <td>missing</td>\n",
       "      <td>PHH</td>\n",
       "      <td>11904</td>\n",
       "      <td>11904</td>\n",
       "    </tr>\n",
       "  </tbody>\n",
       "</table>\n",
       "</div>"
      ],
      "text/plain": [
       "  segment_x segment_y  customer_id  customer_d1\n",
       "0       PHH       PHH        54966        54966\n",
       "1       PHH   missing         1203         1203\n",
       "2   missing       PHH        11904        11904"
      ]
     },
     "execution_count": 227,
     "metadata": {},
     "output_type": "execute_result"
    }
   ],
   "source": [
    "customer_combined.groupby(['segment_x','segment_y']).agg({'customer_id':'count','customer_d1':'count'}).reset_index()"
   ]
  },
  {
   "cell_type": "code",
   "execution_count": null,
   "metadata": {},
   "outputs": [],
   "source": []
  },
  {
   "cell_type": "code",
   "execution_count": null,
   "metadata": {},
   "outputs": [],
   "source": []
  }
 ],
 "metadata": {
  "kernelspec": {
   "display_name": "Python 3.7.6 64-bit",
   "language": "python",
   "name": "python3"
  },
  "language_info": {
   "codemirror_mode": {
    "name": "ipython",
    "version": 3
   },
   "file_extension": ".py",
   "mimetype": "text/x-python",
   "name": "python",
   "nbconvert_exporter": "python",
   "pygments_lexer": "ipython3",
   "version": "3.7.6"
  },
  "vscode": {
   "interpreter": {
    "hash": "aee8b7b246df8f9039afb4144a1f6fd8d2ca17a180786b69acc140d282b71a49"
   }
  }
 },
 "nbformat": 4,
 "nbformat_minor": 4
}
