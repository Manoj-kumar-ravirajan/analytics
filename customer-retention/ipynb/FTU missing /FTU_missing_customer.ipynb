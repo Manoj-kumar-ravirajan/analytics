{
 "cells": [
  {
   "cell_type": "code",
   "execution_count": 2,
   "metadata": {},
   "outputs": [],
   "source": [
    "from pyhive import presto\n",
    "import pandas as pd\n",
    "import matplotlib.pyplot as plt\n",
    "import datetime as dt\n",
    "import numpy as np\n",
    "import time\n",
    "\n",
    "from datetime import datetime, timedelta\n",
    "\n",
    "import seaborn as sns\n",
    "\n",
    "conn = presto.connect(\n",
    "    host='presto.processing.yoda.run', \n",
    "    ## presto.processing.yoda.run\n",
    "    ## bi-presto.serving.data.production.internal\n",
    "    port=80,\n",
    "    username='manoj.ravirajan@rapido.bike'\n",
    ")"
   ]
  },
  {
   "cell_type": "code",
   "execution_count": 3,
   "metadata": {},
   "outputs": [],
   "source": [
    "start_date = '2022-06-01'\n",
    "end_date = '2022-06-30'"
   ]
  },
  {
   "cell_type": "markdown",
   "metadata": {},
   "source": [
    "# Datasets"
   ]
  },
  {
   "cell_type": "markdown",
   "metadata": {},
   "source": [
    "### Legacy.orders"
   ]
  },
  {
   "cell_type": "code",
   "execution_count": 206,
   "metadata": {},
   "outputs": [
    {
     "data": {
      "text/html": [
       "<div>\n",
       "<style scoped>\n",
       "    .dataframe tbody tr th:only-of-type {\n",
       "        vertical-align: middle;\n",
       "    }\n",
       "\n",
       "    .dataframe tbody tr th {\n",
       "        vertical-align: top;\n",
       "    }\n",
       "\n",
       "    .dataframe thead th {\n",
       "        text-align: right;\n",
       "    }\n",
       "</style>\n",
       "<table border=\"1\" class=\"dataframe\">\n",
       "  <thead>\n",
       "    <tr style=\"text-align: right;\">\n",
       "      <th></th>\n",
       "      <th>customer</th>\n",
       "    </tr>\n",
       "  </thead>\n",
       "  <tbody>\n",
       "    <tr>\n",
       "      <th>0</th>\n",
       "      <td>5e393884ca251bec90555d41</td>\n",
       "    </tr>\n",
       "    <tr>\n",
       "      <th>1</th>\n",
       "      <td>62a83d9501632153ce0f3458</td>\n",
       "    </tr>\n",
       "    <tr>\n",
       "      <th>2</th>\n",
       "      <td>622c321b89421f23ea5e680b</td>\n",
       "    </tr>\n",
       "    <tr>\n",
       "      <th>3</th>\n",
       "      <td>5e0c8f50a10a71228f89738a</td>\n",
       "    </tr>\n",
       "    <tr>\n",
       "      <th>4</th>\n",
       "      <td>6030e5404ef13b0baf332d53</td>\n",
       "    </tr>\n",
       "  </tbody>\n",
       "</table>\n",
       "</div>"
      ],
      "text/plain": [
       "                   customer\n",
       "0  5e393884ca251bec90555d41\n",
       "1  62a83d9501632153ce0f3458\n",
       "2  622c321b89421f23ea5e680b\n",
       "3  5e0c8f50a10a71228f89738a\n",
       "4  6030e5404ef13b0baf332d53"
      ]
     },
     "execution_count": 206,
     "metadata": {},
     "output_type": "execute_result"
    }
   ],
   "source": [
    "## legacy_orders\n",
    "\n",
    "legacy_orders = f\"\"\"\n",
    "select \n",
    "    distinct customer\n",
    "from legacy.orders\n",
    "where \n",
    "    orderdate between date_format( cast('{start_date}' as date), '%Y-%m-%d') \n",
    "    and date_format( cast('{end_date}' as date), '%Y-%m-%d')\n",
    "    and status = 'dropped' \n",
    "    and (spdfraud_flag != 1 OR spdfraud_flag IS NULL)\n",
    "\"\"\"\n",
    "\n",
    "df_legacy_orders = pd.read_sql(legacy_orders, conn)\n",
    "df_legacy_orders.head()"
   ]
  },
  {
   "cell_type": "code",
   "execution_count": 207,
   "metadata": {},
   "outputs": [
    {
     "data": {
      "text/plain": [
       "(5814814, 1)"
      ]
     },
     "execution_count": 207,
     "metadata": {},
     "output_type": "execute_result"
    }
   ],
   "source": [
    "df_legacy_orders.shape"
   ]
  },
  {
   "cell_type": "markdown",
   "metadata": {},
   "source": [
    "### Ride_behaviour"
   ]
  },
  {
   "cell_type": "code",
   "execution_count": 5,
   "metadata": {},
   "outputs": [
    {
     "data": {
      "text/html": [
       "<div>\n",
       "<style scoped>\n",
       "    .dataframe tbody tr th:only-of-type {\n",
       "        vertical-align: middle;\n",
       "    }\n",
       "\n",
       "    .dataframe tbody tr th {\n",
       "        vertical-align: top;\n",
       "    }\n",
       "\n",
       "    .dataframe thead th {\n",
       "        text-align: right;\n",
       "    }\n",
       "</style>\n",
       "<table border=\"1\" class=\"dataframe\">\n",
       "  <thead>\n",
       "    <tr style=\"text-align: right;\">\n",
       "      <th></th>\n",
       "      <th>customer1</th>\n",
       "      <th>flag1</th>\n",
       "    </tr>\n",
       "  </thead>\n",
       "  <tbody>\n",
       "    <tr>\n",
       "      <th>0</th>\n",
       "      <td>615137d6f2602c43332c4c2c</td>\n",
       "      <td>1</td>\n",
       "    </tr>\n",
       "    <tr>\n",
       "      <th>1</th>\n",
       "      <td>62b6e4207d7967867cf2f232</td>\n",
       "      <td>1</td>\n",
       "    </tr>\n",
       "    <tr>\n",
       "      <th>2</th>\n",
       "      <td>5d818047d0286d106d940f94</td>\n",
       "      <td>1</td>\n",
       "    </tr>\n",
       "    <tr>\n",
       "      <th>3</th>\n",
       "      <td>62addef17d796733bbec9711</td>\n",
       "      <td>1</td>\n",
       "    </tr>\n",
       "    <tr>\n",
       "      <th>4</th>\n",
       "      <td>5b2e06e78d387c42d138440b</td>\n",
       "      <td>1</td>\n",
       "    </tr>\n",
       "  </tbody>\n",
       "</table>\n",
       "</div>"
      ],
      "text/plain": [
       "                  customer1  flag1\n",
       "0  615137d6f2602c43332c4c2c      1\n",
       "1  62b6e4207d7967867cf2f232      1\n",
       "2  5d818047d0286d106d940f94      1\n",
       "3  62addef17d796733bbec9711      1\n",
       "4  5b2e06e78d387c42d138440b      1"
      ]
     },
     "execution_count": 5,
     "metadata": {},
     "output_type": "execute_result"
    }
   ],
   "source": [
    "## lifetimefirstridetime\n",
    "\n",
    "ride_behaviour = f\"\"\"\n",
    "select \n",
    "    distinct customerId as customer1,\n",
    "    1 as flag1\n",
    "from hive.datasets.customer_ridebehaviour_servicedetail_immutable as crb\n",
    "where \n",
    "    day between cast('{start_date}' as date) - interval '1' day\n",
    "    and cast('{end_date}' as date) + interval '1' day\n",
    "    and lifetimefirstridetime between cast('{start_date}' as date)\n",
    "    and cast('{end_date}' as date)\n",
    "    and service_name in ('Auto', 'Link')\n",
    "\"\"\"\n",
    "df_ride_behaviour = pd.read_sql(ride_behaviour, conn)\n",
    "df_ride_behaviour.head()"
   ]
  },
  {
   "cell_type": "code",
   "execution_count": 209,
   "metadata": {},
   "outputs": [
    {
     "data": {
      "text/plain": [
       "(2188389, 2)"
      ]
     },
     "execution_count": 209,
     "metadata": {},
     "output_type": "execute_result"
    }
   ],
   "source": [
    "df_ride_behaviour.shape"
   ]
  },
  {
   "cell_type": "code",
   "execution_count": 210,
   "metadata": {},
   "outputs": [
    {
     "data": {
      "text/html": [
       "<div>\n",
       "<style scoped>\n",
       "    .dataframe tbody tr th:only-of-type {\n",
       "        vertical-align: middle;\n",
       "    }\n",
       "\n",
       "    .dataframe tbody tr th {\n",
       "        vertical-align: top;\n",
       "    }\n",
       "\n",
       "    .dataframe thead th {\n",
       "        text-align: right;\n",
       "    }\n",
       "</style>\n",
       "<table border=\"1\" class=\"dataframe\">\n",
       "  <thead>\n",
       "    <tr style=\"text-align: right;\">\n",
       "      <th></th>\n",
       "      <th>customer1</th>\n",
       "      <th>flag1</th>\n",
       "    </tr>\n",
       "  </thead>\n",
       "  <tbody>\n",
       "    <tr>\n",
       "      <th>0</th>\n",
       "      <td>626e522ce98a6446b49b26f9</td>\n",
       "      <td>1</td>\n",
       "    </tr>\n",
       "    <tr>\n",
       "      <th>1</th>\n",
       "      <td>5e0b5ee789355c2289a3f0f7</td>\n",
       "      <td>1</td>\n",
       "    </tr>\n",
       "    <tr>\n",
       "      <th>2</th>\n",
       "      <td>5fcc9f845441f821744535e0</td>\n",
       "      <td>1</td>\n",
       "    </tr>\n",
       "    <tr>\n",
       "      <th>3</th>\n",
       "      <td>5d4fcb84bde10e0d54383b27</td>\n",
       "      <td>1</td>\n",
       "    </tr>\n",
       "    <tr>\n",
       "      <th>4</th>\n",
       "      <td>62b58fcc8c7d145ffa0639bb</td>\n",
       "      <td>1</td>\n",
       "    </tr>\n",
       "  </tbody>\n",
       "</table>\n",
       "</div>"
      ],
      "text/plain": [
       "                  customer1  flag1\n",
       "0  626e522ce98a6446b49b26f9      1\n",
       "1  5e0b5ee789355c2289a3f0f7      1\n",
       "2  5fcc9f845441f821744535e0      1\n",
       "3  5d4fcb84bde10e0d54383b27      1\n",
       "4  62b58fcc8c7d145ffa0639bb      1"
      ]
     },
     "execution_count": 210,
     "metadata": {},
     "output_type": "execute_result"
    }
   ],
   "source": [
    "## df_last_ride_behaviour\n",
    "\n",
    "last_ride_behaviour = f\"\"\"\n",
    "select \n",
    "    distinct customerId as customer1,\n",
    "    1 as flag1\n",
    "from hive.datasets.customer_ridebehaviour_servicedetail_immutable as crb\n",
    "where \n",
    "    day between cast('{start_date}' as date) - interval '1' day\n",
    "    and cast('{end_date}' as date) + interval '1' day\n",
    "    and lifetimelastridetime between cast('{start_date}' as date)\n",
    "    and cast('{end_date}' as date)\n",
    "    and service_name in ('Auto', 'Link')\n",
    "\"\"\"\n",
    "df_last_ride_behaviour = pd.read_sql(last_ride_behaviour, conn)\n",
    "df_last_ride_behaviour.head()"
   ]
  },
  {
   "cell_type": "code",
   "execution_count": 211,
   "metadata": {},
   "outputs": [
    {
     "data": {
      "text/plain": [
       "(5672221, 2)"
      ]
     },
     "execution_count": 211,
     "metadata": {},
     "output_type": "execute_result"
    }
   ],
   "source": [
    "df_last_ride_behaviour.shape"
   ]
  },
  {
   "cell_type": "markdown",
   "metadata": {},
   "source": [
    "### iallocator_segment"
   ]
  },
  {
   "cell_type": "code",
   "execution_count": 6,
   "metadata": {},
   "outputs": [
    {
     "data": {
      "text/html": [
       "<div>\n",
       "<style scoped>\n",
       "    .dataframe tbody tr th:only-of-type {\n",
       "        vertical-align: middle;\n",
       "    }\n",
       "\n",
       "    .dataframe tbody tr th {\n",
       "        vertical-align: top;\n",
       "    }\n",
       "\n",
       "    .dataframe thead th {\n",
       "        text-align: right;\n",
       "    }\n",
       "</style>\n",
       "<table border=\"1\" class=\"dataframe\">\n",
       "  <thead>\n",
       "    <tr style=\"text-align: right;\">\n",
       "      <th></th>\n",
       "      <th>customer2</th>\n",
       "      <th>flag2</th>\n",
       "    </tr>\n",
       "  </thead>\n",
       "  <tbody>\n",
       "    <tr>\n",
       "      <th>0</th>\n",
       "      <td>5fd3847890cced65b0181d98</td>\n",
       "      <td>1</td>\n",
       "    </tr>\n",
       "    <tr>\n",
       "      <th>1</th>\n",
       "      <td>5fd6155669bf68a7c3c8e8e1</td>\n",
       "      <td>1</td>\n",
       "    </tr>\n",
       "    <tr>\n",
       "      <th>2</th>\n",
       "      <td>5fdb2e88bb140a4f5daff3b3</td>\n",
       "      <td>1</td>\n",
       "    </tr>\n",
       "    <tr>\n",
       "      <th>3</th>\n",
       "      <td>5fdf5ddb4319a75c79b28d16</td>\n",
       "      <td>1</td>\n",
       "    </tr>\n",
       "    <tr>\n",
       "      <th>4</th>\n",
       "      <td>5fe18a1c54f1336db195acc3</td>\n",
       "      <td>1</td>\n",
       "    </tr>\n",
       "  </tbody>\n",
       "</table>\n",
       "</div>"
      ],
      "text/plain": [
       "                  customer2  flag2\n",
       "0  5fd3847890cced65b0181d98      1\n",
       "1  5fd6155669bf68a7c3c8e8e1      1\n",
       "2  5fdb2e88bb140a4f5daff3b3      1\n",
       "3  5fdf5ddb4319a75c79b28d16      1\n",
       "4  5fe18a1c54f1336db195acc3      1"
      ]
     },
     "execution_count": 6,
     "metadata": {},
     "output_type": "execute_result"
    }
   ],
   "source": [
    "iallocator_segment = f\"\"\"\n",
    "select \n",
    "    distinct customer_id as customer2,\n",
    "    1 as flag2\n",
    "from datasets.iallocator_customer_segments\n",
    "where \n",
    "    -- taxi_recency_segment = 'RECENT' \n",
    "    -- and run_date between date_format( cast('{start_date}' as date) - interval '1' day, '%Y-%m-%d') \n",
    "    -- and date_format( cast('{end_date}' as date) + interval '1' day, '%Y-%m-%d')\n",
    "    -- and \n",
    "    run_date = date_format( current_date - interval '3' day, '%Y-%m-%d') \n",
    "    and taxi_lifetime_first_ride_date between cast('{start_date}' as date)\n",
    "    and cast('{end_date}' as date)\n",
    "\"\"\"\n",
    "df_iallocator_segment = pd.read_sql(iallocator_segment, conn)\n",
    "df_iallocator_segment.head()"
   ]
  },
  {
   "cell_type": "code",
   "execution_count": 7,
   "metadata": {},
   "outputs": [
    {
     "data": {
      "text/plain": [
       "(1504021, 2)"
      ]
     },
     "execution_count": 7,
     "metadata": {},
     "output_type": "execute_result"
    }
   ],
   "source": [
    "df_iallocator_segment.shape"
   ]
  },
  {
   "cell_type": "code",
   "execution_count": 214,
   "metadata": {},
   "outputs": [
    {
     "data": {
      "text/html": [
       "<div>\n",
       "<style scoped>\n",
       "    .dataframe tbody tr th:only-of-type {\n",
       "        vertical-align: middle;\n",
       "    }\n",
       "\n",
       "    .dataframe tbody tr th {\n",
       "        vertical-align: top;\n",
       "    }\n",
       "\n",
       "    .dataframe thead th {\n",
       "        text-align: right;\n",
       "    }\n",
       "</style>\n",
       "<table border=\"1\" class=\"dataframe\">\n",
       "  <thead>\n",
       "    <tr style=\"text-align: right;\">\n",
       "      <th></th>\n",
       "      <th>customer2</th>\n",
       "      <th>flag2</th>\n",
       "    </tr>\n",
       "  </thead>\n",
       "  <tbody>\n",
       "    <tr>\n",
       "      <th>0</th>\n",
       "      <td>5df3c273d01edf2b243db9d4</td>\n",
       "      <td>1</td>\n",
       "    </tr>\n",
       "    <tr>\n",
       "      <th>1</th>\n",
       "      <td>5e424b3cbf7eab0980a91508</td>\n",
       "      <td>1</td>\n",
       "    </tr>\n",
       "    <tr>\n",
       "      <th>2</th>\n",
       "      <td>5e16c01c2f1e6d5f59973a6d</td>\n",
       "      <td>1</td>\n",
       "    </tr>\n",
       "    <tr>\n",
       "      <th>3</th>\n",
       "      <td>5e4237dca695d732911dcbe1</td>\n",
       "      <td>1</td>\n",
       "    </tr>\n",
       "    <tr>\n",
       "      <th>4</th>\n",
       "      <td>5e43c27d6c87f182ce8fd150</td>\n",
       "      <td>1</td>\n",
       "    </tr>\n",
       "  </tbody>\n",
       "</table>\n",
       "</div>"
      ],
      "text/plain": [
       "                  customer2  flag2\n",
       "0  5df3c273d01edf2b243db9d4      1\n",
       "1  5e424b3cbf7eab0980a91508      1\n",
       "2  5e16c01c2f1e6d5f59973a6d      1\n",
       "3  5e4237dca695d732911dcbe1      1\n",
       "4  5e43c27d6c87f182ce8fd150      1"
      ]
     },
     "execution_count": 214,
     "metadata": {},
     "output_type": "execute_result"
    }
   ],
   "source": [
    "## taxi_recency_segment = 'RECENT' \n",
    "\n",
    "iallocator_segment_recent = f\"\"\"\n",
    "select \n",
    "    distinct customer_id as customer2,\n",
    "    1 as flag2\n",
    "from datasets.iallocator_customer_segments\n",
    "where \n",
    "    taxi_recency_segment = 'RECENT' \n",
    "    -- and run_date between date_format( cast('{start_date}' as date) - interval '1' day, '%Y-%m-%d') \n",
    "    -- and date_format( cast('{end_date}' as date) + interval '1' day, '%Y-%m-%d')\n",
    "    and run_date = date_format( current_date - interval '3' day, '%Y-%m-%d') \n",
    "    and taxi_lifetime_first_ride_date between cast('{start_date}' as date)\n",
    "    and cast('{end_date}' as date)\n",
    "\"\"\"\n",
    "df_iallocator_segment_recent = pd.read_sql(iallocator_segment_recent, conn)\n",
    "df_iallocator_segment_recent.head()"
   ]
  },
  {
   "cell_type": "code",
   "execution_count": 215,
   "metadata": {},
   "outputs": [
    {
     "data": {
      "text/plain": [
       "(142438, 2)"
      ]
     },
     "execution_count": 215,
     "metadata": {},
     "output_type": "execute_result"
    }
   ],
   "source": [
    "df_iallocator_segment_recent.shape"
   ]
  },
  {
   "cell_type": "markdown",
   "metadata": {},
   "source": [
    "# Working"
   ]
  },
  {
   "cell_type": "code",
   "execution_count": 8,
   "metadata": {},
   "outputs": [
    {
     "data": {
      "text/html": [
       "<div>\n",
       "<style scoped>\n",
       "    .dataframe tbody tr th:only-of-type {\n",
       "        vertical-align: middle;\n",
       "    }\n",
       "\n",
       "    .dataframe tbody tr th {\n",
       "        vertical-align: top;\n",
       "    }\n",
       "\n",
       "    .dataframe thead th {\n",
       "        text-align: right;\n",
       "    }\n",
       "</style>\n",
       "<table border=\"1\" class=\"dataframe\">\n",
       "  <thead>\n",
       "    <tr style=\"text-align: right;\">\n",
       "      <th></th>\n",
       "      <th>customer1</th>\n",
       "      <th>flag1</th>\n",
       "      <th>customer2</th>\n",
       "      <th>flag2</th>\n",
       "    </tr>\n",
       "  </thead>\n",
       "  <tbody>\n",
       "    <tr>\n",
       "      <th>0</th>\n",
       "      <td>615137d6f2602c43332c4c2c</td>\n",
       "      <td>1</td>\n",
       "      <td>NaN</td>\n",
       "      <td>NaN</td>\n",
       "    </tr>\n",
       "    <tr>\n",
       "      <th>1</th>\n",
       "      <td>62b6e4207d7967867cf2f232</td>\n",
       "      <td>1</td>\n",
       "      <td>62b6e4207d7967867cf2f232</td>\n",
       "      <td>1.0</td>\n",
       "    </tr>\n",
       "    <tr>\n",
       "      <th>2</th>\n",
       "      <td>5d818047d0286d106d940f94</td>\n",
       "      <td>1</td>\n",
       "      <td>5d818047d0286d106d940f94</td>\n",
       "      <td>1.0</td>\n",
       "    </tr>\n",
       "    <tr>\n",
       "      <th>3</th>\n",
       "      <td>62addef17d796733bbec9711</td>\n",
       "      <td>1</td>\n",
       "      <td>62addef17d796733bbec9711</td>\n",
       "      <td>1.0</td>\n",
       "    </tr>\n",
       "    <tr>\n",
       "      <th>4</th>\n",
       "      <td>5b2e06e78d387c42d138440b</td>\n",
       "      <td>1</td>\n",
       "      <td>NaN</td>\n",
       "      <td>NaN</td>\n",
       "    </tr>\n",
       "    <tr>\n",
       "      <th>...</th>\n",
       "      <td>...</td>\n",
       "      <td>...</td>\n",
       "      <td>...</td>\n",
       "      <td>...</td>\n",
       "    </tr>\n",
       "    <tr>\n",
       "      <th>2188384</th>\n",
       "      <td>62971e61658bb5705b5e8601</td>\n",
       "      <td>1</td>\n",
       "      <td>62971e61658bb5705b5e8601</td>\n",
       "      <td>1.0</td>\n",
       "    </tr>\n",
       "    <tr>\n",
       "      <th>2188385</th>\n",
       "      <td>629db18b737cf75b1984194c</td>\n",
       "      <td>1</td>\n",
       "      <td>629db18b737cf75b1984194c</td>\n",
       "      <td>1.0</td>\n",
       "    </tr>\n",
       "    <tr>\n",
       "      <th>2188386</th>\n",
       "      <td>62a8bf83016321c9410f9d36</td>\n",
       "      <td>1</td>\n",
       "      <td>62a8bf83016321c9410f9d36</td>\n",
       "      <td>1.0</td>\n",
       "    </tr>\n",
       "    <tr>\n",
       "      <th>2188387</th>\n",
       "      <td>6285b9dab5c8526c2fada9cb</td>\n",
       "      <td>1</td>\n",
       "      <td>NaN</td>\n",
       "      <td>NaN</td>\n",
       "    </tr>\n",
       "    <tr>\n",
       "      <th>2188388</th>\n",
       "      <td>61c93fb8872e374e12fc2f1c</td>\n",
       "      <td>1</td>\n",
       "      <td>61c93fb8872e374e12fc2f1c</td>\n",
       "      <td>1.0</td>\n",
       "    </tr>\n",
       "  </tbody>\n",
       "</table>\n",
       "<p>2188389 rows × 4 columns</p>\n",
       "</div>"
      ],
      "text/plain": [
       "                        customer1  flag1                 customer2  flag2\n",
       "0        615137d6f2602c43332c4c2c      1                       NaN    NaN\n",
       "1        62b6e4207d7967867cf2f232      1  62b6e4207d7967867cf2f232    1.0\n",
       "2        5d818047d0286d106d940f94      1  5d818047d0286d106d940f94    1.0\n",
       "3        62addef17d796733bbec9711      1  62addef17d796733bbec9711    1.0\n",
       "4        5b2e06e78d387c42d138440b      1                       NaN    NaN\n",
       "...                           ...    ...                       ...    ...\n",
       "2188384  62971e61658bb5705b5e8601      1  62971e61658bb5705b5e8601    1.0\n",
       "2188385  629db18b737cf75b1984194c      1  629db18b737cf75b1984194c    1.0\n",
       "2188386  62a8bf83016321c9410f9d36      1  62a8bf83016321c9410f9d36    1.0\n",
       "2188387  6285b9dab5c8526c2fada9cb      1                       NaN    NaN\n",
       "2188388  61c93fb8872e374e12fc2f1c      1  61c93fb8872e374e12fc2f1c    1.0\n",
       "\n",
       "[2188389 rows x 4 columns]"
      ]
     },
     "execution_count": 8,
     "metadata": {},
     "output_type": "execute_result"
    }
   ],
   "source": [
    "df_view_merge = df_ride_behaviour.merge(df_iallocator_segment, left_on='customer1', right_on='customer2', how='left')\n",
    "df_view_merge"
   ]
  },
  {
   "cell_type": "code",
   "execution_count": 9,
   "metadata": {},
   "outputs": [],
   "source": [
    "df1 = df_view_merge"
   ]
  },
  {
   "cell_type": "code",
   "execution_count": 10,
   "metadata": {},
   "outputs": [
    {
     "data": {
      "text/plain": [
       "customer1    2188389\n",
       "flag1              1\n",
       "customer2    1464410\n",
       "flag2              1\n",
       "dtype: int64"
      ]
     },
     "execution_count": 10,
     "metadata": {},
     "output_type": "execute_result"
    }
   ],
   "source": [
    "df1.nunique()"
   ]
  },
  {
   "cell_type": "code",
   "execution_count": 11,
   "metadata": {},
   "outputs": [
    {
     "data": {
      "text/plain": [
       "customer1         0\n",
       "flag1             0\n",
       "customer2    723979\n",
       "flag2        723979\n",
       "dtype: int64"
      ]
     },
     "execution_count": 11,
     "metadata": {},
     "output_type": "execute_result"
    }
   ],
   "source": [
    "df1.isna().sum()"
   ]
  },
  {
   "cell_type": "code",
   "execution_count": 13,
   "metadata": {},
   "outputs": [],
   "source": [
    "df1.flag1.fillna(2, inplace=True)\n",
    "df1.flag2.fillna(2, inplace=True)"
   ]
  },
  {
   "cell_type": "code",
   "execution_count": 15,
   "metadata": {},
   "outputs": [
    {
     "data": {
      "text/html": [
       "<div>\n",
       "<style scoped>\n",
       "    .dataframe tbody tr th:only-of-type {\n",
       "        vertical-align: middle;\n",
       "    }\n",
       "\n",
       "    .dataframe tbody tr th {\n",
       "        vertical-align: top;\n",
       "    }\n",
       "\n",
       "    .dataframe thead th {\n",
       "        text-align: right;\n",
       "    }\n",
       "</style>\n",
       "<table border=\"1\" class=\"dataframe\">\n",
       "  <thead>\n",
       "    <tr style=\"text-align: right;\">\n",
       "      <th></th>\n",
       "      <th>flag1</th>\n",
       "      <th>flag2</th>\n",
       "      <th>customer1</th>\n",
       "      <th>customer2</th>\n",
       "    </tr>\n",
       "  </thead>\n",
       "  <tbody>\n",
       "    <tr>\n",
       "      <th>0</th>\n",
       "      <td>1</td>\n",
       "      <td>1.0</td>\n",
       "      <td>1464410</td>\n",
       "      <td>1464410</td>\n",
       "    </tr>\n",
       "    <tr>\n",
       "      <th>1</th>\n",
       "      <td>1</td>\n",
       "      <td>2.0</td>\n",
       "      <td>723979</td>\n",
       "      <td>0</td>\n",
       "    </tr>\n",
       "  </tbody>\n",
       "</table>\n",
       "</div>"
      ],
      "text/plain": [
       "   flag1  flag2  customer1  customer2\n",
       "0      1    1.0    1464410    1464410\n",
       "1      1    2.0     723979          0"
      ]
     },
     "execution_count": 15,
     "metadata": {},
     "output_type": "execute_result"
    }
   ],
   "source": [
    "df1.groupby(['flag1','flag2']).agg({'customer1':'count','customer2':'count'}).reset_index()"
   ]
  },
  {
   "cell_type": "code",
   "execution_count": 16,
   "metadata": {},
   "outputs": [
    {
     "data": {
      "text/plain": [
       "740431"
      ]
     },
     "execution_count": 16,
     "metadata": {},
     "output_type": "execute_result"
    }
   ],
   "source": [
    "1464410-723979"
   ]
  },
  {
   "cell_type": "code",
   "execution_count": null,
   "metadata": {},
   "outputs": [],
   "source": []
  },
  {
   "cell_type": "code",
   "execution_count": null,
   "metadata": {},
   "outputs": [],
   "source": []
  },
  {
   "cell_type": "code",
   "execution_count": null,
   "metadata": {},
   "outputs": [],
   "source": []
  },
  {
   "cell_type": "code",
   "execution_count": null,
   "metadata": {},
   "outputs": [],
   "source": []
  },
  {
   "cell_type": "code",
   "execution_count": null,
   "metadata": {},
   "outputs": [],
   "source": []
  },
  {
   "cell_type": "code",
   "execution_count": null,
   "metadata": {},
   "outputs": [],
   "source": []
  },
  {
   "cell_type": "code",
   "execution_count": null,
   "metadata": {},
   "outputs": [],
   "source": []
  },
  {
   "cell_type": "markdown",
   "metadata": {},
   "source": [
    "# View one (last ride date)"
   ]
  },
  {
   "cell_type": "code",
   "execution_count": 165,
   "metadata": {},
   "outputs": [],
   "source": [
    "df_view_merge = df_legacy_orders.merge(df_last_ride_behaviour, left_on='customer', right_on='customer1', how='left')"
   ]
  },
  {
   "cell_type": "code",
   "execution_count": 174,
   "metadata": {},
   "outputs": [],
   "source": [
    "df_view_1st = df_view_merge.merge(df_iallocator_segment, left_on='customer', right_on='customer2', how='left')"
   ]
  },
  {
   "cell_type": "code",
   "execution_count": 184,
   "metadata": {},
   "outputs": [
    {
     "data": {
      "text/html": [
       "<div>\n",
       "<style scoped>\n",
       "    .dataframe tbody tr th:only-of-type {\n",
       "        vertical-align: middle;\n",
       "    }\n",
       "\n",
       "    .dataframe tbody tr th {\n",
       "        vertical-align: top;\n",
       "    }\n",
       "\n",
       "    .dataframe thead th {\n",
       "        text-align: right;\n",
       "    }\n",
       "</style>\n",
       "<table border=\"1\" class=\"dataframe\">\n",
       "  <thead>\n",
       "    <tr style=\"text-align: right;\">\n",
       "      <th></th>\n",
       "      <th>customer</th>\n",
       "      <th>customer1</th>\n",
       "      <th>flag1</th>\n",
       "      <th>customer2</th>\n",
       "      <th>flag2</th>\n",
       "    </tr>\n",
       "  </thead>\n",
       "  <tbody>\n",
       "    <tr>\n",
       "      <th>0</th>\n",
       "      <td>5cdeb72825ee3218d4cbcb16</td>\n",
       "      <td>5cdeb72825ee3218d4cbcb16</td>\n",
       "      <td>1.0</td>\n",
       "      <td>NaN</td>\n",
       "      <td>2.0</td>\n",
       "    </tr>\n",
       "    <tr>\n",
       "      <th>1</th>\n",
       "      <td>61c4c85b0e8de0f4c65db837</td>\n",
       "      <td>61c4c85b0e8de0f4c65db837</td>\n",
       "      <td>1.0</td>\n",
       "      <td>NaN</td>\n",
       "      <td>2.0</td>\n",
       "    </tr>\n",
       "    <tr>\n",
       "      <th>2</th>\n",
       "      <td>61297fe8890209e7995a7346</td>\n",
       "      <td>61297fe8890209e7995a7346</td>\n",
       "      <td>1.0</td>\n",
       "      <td>NaN</td>\n",
       "      <td>2.0</td>\n",
       "    </tr>\n",
       "    <tr>\n",
       "      <th>3</th>\n",
       "      <td>60f90469d417d431d77d216e</td>\n",
       "      <td>60f90469d417d431d77d216e</td>\n",
       "      <td>1.0</td>\n",
       "      <td>NaN</td>\n",
       "      <td>2.0</td>\n",
       "    </tr>\n",
       "    <tr>\n",
       "      <th>4</th>\n",
       "      <td>619cf5b43f25c316f0e5a716</td>\n",
       "      <td>619cf5b43f25c316f0e5a716</td>\n",
       "      <td>1.0</td>\n",
       "      <td>NaN</td>\n",
       "      <td>2.0</td>\n",
       "    </tr>\n",
       "    <tr>\n",
       "      <th>...</th>\n",
       "      <td>...</td>\n",
       "      <td>...</td>\n",
       "      <td>...</td>\n",
       "      <td>...</td>\n",
       "      <td>...</td>\n",
       "    </tr>\n",
       "    <tr>\n",
       "      <th>6074291</th>\n",
       "      <td>5e1df77a9a0d23428ae26d5c</td>\n",
       "      <td>5e1df77a9a0d23428ae26d5c</td>\n",
       "      <td>1.0</td>\n",
       "      <td>NaN</td>\n",
       "      <td>2.0</td>\n",
       "    </tr>\n",
       "    <tr>\n",
       "      <th>6074292</th>\n",
       "      <td>6272b008a5dd062cfca94a15</td>\n",
       "      <td>6272b008a5dd062cfca94a15</td>\n",
       "      <td>1.0</td>\n",
       "      <td>NaN</td>\n",
       "      <td>2.0</td>\n",
       "    </tr>\n",
       "    <tr>\n",
       "      <th>6074293</th>\n",
       "      <td>6065346ea2f9c5ea104f88f6</td>\n",
       "      <td>6065346ea2f9c5ea104f88f6</td>\n",
       "      <td>1.0</td>\n",
       "      <td>NaN</td>\n",
       "      <td>2.0</td>\n",
       "    </tr>\n",
       "    <tr>\n",
       "      <th>6074294</th>\n",
       "      <td>62c7e2006d169a9a84477683</td>\n",
       "      <td>62c7e2006d169a9a84477683</td>\n",
       "      <td>1.0</td>\n",
       "      <td>62c7e2006d169a9a84477683</td>\n",
       "      <td>1.0</td>\n",
       "    </tr>\n",
       "    <tr>\n",
       "      <th>6074295</th>\n",
       "      <td>5f25571d01c5e921681a4896</td>\n",
       "      <td>5f25571d01c5e921681a4896</td>\n",
       "      <td>1.0</td>\n",
       "      <td>NaN</td>\n",
       "      <td>2.0</td>\n",
       "    </tr>\n",
       "  </tbody>\n",
       "</table>\n",
       "<p>6074296 rows × 5 columns</p>\n",
       "</div>"
      ],
      "text/plain": [
       "                         customer                 customer1  flag1  \\\n",
       "0        5cdeb72825ee3218d4cbcb16  5cdeb72825ee3218d4cbcb16    1.0   \n",
       "1        61c4c85b0e8de0f4c65db837  61c4c85b0e8de0f4c65db837    1.0   \n",
       "2        61297fe8890209e7995a7346  61297fe8890209e7995a7346    1.0   \n",
       "3        60f90469d417d431d77d216e  60f90469d417d431d77d216e    1.0   \n",
       "4        619cf5b43f25c316f0e5a716  619cf5b43f25c316f0e5a716    1.0   \n",
       "...                           ...                       ...    ...   \n",
       "6074291  5e1df77a9a0d23428ae26d5c  5e1df77a9a0d23428ae26d5c    1.0   \n",
       "6074292  6272b008a5dd062cfca94a15  6272b008a5dd062cfca94a15    1.0   \n",
       "6074293  6065346ea2f9c5ea104f88f6  6065346ea2f9c5ea104f88f6    1.0   \n",
       "6074294  62c7e2006d169a9a84477683  62c7e2006d169a9a84477683    1.0   \n",
       "6074295  5f25571d01c5e921681a4896  5f25571d01c5e921681a4896    1.0   \n",
       "\n",
       "                        customer2  flag2  \n",
       "0                             NaN    2.0  \n",
       "1                             NaN    2.0  \n",
       "2                             NaN    2.0  \n",
       "3                             NaN    2.0  \n",
       "4                             NaN    2.0  \n",
       "...                           ...    ...  \n",
       "6074291                       NaN    2.0  \n",
       "6074292                       NaN    2.0  \n",
       "6074293                       NaN    2.0  \n",
       "6074294  62c7e2006d169a9a84477683    1.0  \n",
       "6074295                       NaN    2.0  \n",
       "\n",
       "[6074296 rows x 5 columns]"
      ]
     },
     "execution_count": 184,
     "metadata": {},
     "output_type": "execute_result"
    }
   ],
   "source": [
    "df_view_1st"
   ]
  },
  {
   "cell_type": "code",
   "execution_count": 185,
   "metadata": {},
   "outputs": [],
   "source": [
    "df_view_1 = df_view_1st"
   ]
  },
  {
   "cell_type": "code",
   "execution_count": 177,
   "metadata": {},
   "outputs": [
    {
     "data": {
      "text/plain": [
       "customer     6074296\n",
       "customer1    5939098\n",
       "flag1              1\n",
       "customer2    1451047\n",
       "flag2              1\n",
       "dtype: int64"
      ]
     },
     "execution_count": 177,
     "metadata": {},
     "output_type": "execute_result"
    }
   ],
   "source": [
    "df_view_1.nunique()"
   ]
  },
  {
   "cell_type": "code",
   "execution_count": 178,
   "metadata": {},
   "outputs": [
    {
     "data": {
      "text/plain": [
       "customer           0\n",
       "customer1     135198\n",
       "flag1         135198\n",
       "customer2    4623249\n",
       "flag2        4623249\n",
       "dtype: int64"
      ]
     },
     "execution_count": 178,
     "metadata": {},
     "output_type": "execute_result"
    }
   ],
   "source": [
    "df_view_1.isna().sum()"
   ]
  },
  {
   "cell_type": "code",
   "execution_count": 179,
   "metadata": {},
   "outputs": [],
   "source": [
    "df_view_1.flag1.fillna(2, inplace=True)\n",
    "df_view_1.flag2.fillna(2, inplace=True)"
   ]
  },
  {
   "cell_type": "code",
   "execution_count": 181,
   "metadata": {},
   "outputs": [
    {
     "data": {
      "text/html": [
       "<div>\n",
       "<style scoped>\n",
       "    .dataframe tbody tr th:only-of-type {\n",
       "        vertical-align: middle;\n",
       "    }\n",
       "\n",
       "    .dataframe tbody tr th {\n",
       "        vertical-align: top;\n",
       "    }\n",
       "\n",
       "    .dataframe thead th {\n",
       "        text-align: right;\n",
       "    }\n",
       "</style>\n",
       "<table border=\"1\" class=\"dataframe\">\n",
       "  <thead>\n",
       "    <tr style=\"text-align: right;\">\n",
       "      <th></th>\n",
       "      <th>flag1</th>\n",
       "      <th>flag2</th>\n",
       "      <th>customer</th>\n",
       "      <th>customer1</th>\n",
       "      <th>customer2</th>\n",
       "    </tr>\n",
       "  </thead>\n",
       "  <tbody>\n",
       "    <tr>\n",
       "      <th>0</th>\n",
       "      <td>1.0</td>\n",
       "      <td>1.0</td>\n",
       "      <td>1401281</td>\n",
       "      <td>1401281</td>\n",
       "      <td>1401281</td>\n",
       "    </tr>\n",
       "    <tr>\n",
       "      <th>1</th>\n",
       "      <td>1.0</td>\n",
       "      <td>2.0</td>\n",
       "      <td>4537817</td>\n",
       "      <td>4537817</td>\n",
       "      <td>0</td>\n",
       "    </tr>\n",
       "    <tr>\n",
       "      <th>2</th>\n",
       "      <td>2.0</td>\n",
       "      <td>1.0</td>\n",
       "      <td>49766</td>\n",
       "      <td>0</td>\n",
       "      <td>49766</td>\n",
       "    </tr>\n",
       "    <tr>\n",
       "      <th>3</th>\n",
       "      <td>2.0</td>\n",
       "      <td>2.0</td>\n",
       "      <td>85432</td>\n",
       "      <td>0</td>\n",
       "      <td>0</td>\n",
       "    </tr>\n",
       "  </tbody>\n",
       "</table>\n",
       "</div>"
      ],
      "text/plain": [
       "   flag1  flag2  customer  customer1  customer2\n",
       "0    1.0    1.0   1401281    1401281    1401281\n",
       "1    1.0    2.0   4537817    4537817          0\n",
       "2    2.0    1.0     49766          0      49766\n",
       "3    2.0    2.0     85432          0          0"
      ]
     },
     "execution_count": 181,
     "metadata": {},
     "output_type": "execute_result"
    }
   ],
   "source": [
    "df_view_1.groupby(['flag1','flag2']).agg({'customer':'count','customer1':'count','customer2':'count'}).reset_index()"
   ]
  },
  {
   "cell_type": "code",
   "execution_count": null,
   "metadata": {},
   "outputs": [],
   "source": []
  },
  {
   "cell_type": "markdown",
   "metadata": {},
   "source": [
    "# View two (first ride date)"
   ]
  },
  {
   "cell_type": "code",
   "execution_count": 216,
   "metadata": {},
   "outputs": [],
   "source": [
    "df2_view_merge = df_legacy_orders.merge(df_ride_behaviour, left_on='customer', right_on='customer1', how='left')"
   ]
  },
  {
   "cell_type": "code",
   "execution_count": 217,
   "metadata": {},
   "outputs": [],
   "source": [
    "df2_view = df2_view_merge.merge(df_iallocator_segment, left_on='customer', right_on='customer2', how='left')"
   ]
  },
  {
   "cell_type": "code",
   "execution_count": 218,
   "metadata": {},
   "outputs": [
    {
     "data": {
      "text/html": [
       "<div>\n",
       "<style scoped>\n",
       "    .dataframe tbody tr th:only-of-type {\n",
       "        vertical-align: middle;\n",
       "    }\n",
       "\n",
       "    .dataframe tbody tr th {\n",
       "        vertical-align: top;\n",
       "    }\n",
       "\n",
       "    .dataframe thead th {\n",
       "        text-align: right;\n",
       "    }\n",
       "</style>\n",
       "<table border=\"1\" class=\"dataframe\">\n",
       "  <thead>\n",
       "    <tr style=\"text-align: right;\">\n",
       "      <th></th>\n",
       "      <th>customer</th>\n",
       "      <th>customer1</th>\n",
       "      <th>flag1</th>\n",
       "      <th>customer2</th>\n",
       "      <th>flag2</th>\n",
       "    </tr>\n",
       "  </thead>\n",
       "  <tbody>\n",
       "    <tr>\n",
       "      <th>0</th>\n",
       "      <td>5e393884ca251bec90555d41</td>\n",
       "      <td>NaN</td>\n",
       "      <td>NaN</td>\n",
       "      <td>NaN</td>\n",
       "      <td>NaN</td>\n",
       "    </tr>\n",
       "    <tr>\n",
       "      <th>1</th>\n",
       "      <td>62a83d9501632153ce0f3458</td>\n",
       "      <td>62a83d9501632153ce0f3458</td>\n",
       "      <td>1.0</td>\n",
       "      <td>62a83d9501632153ce0f3458</td>\n",
       "      <td>1.0</td>\n",
       "    </tr>\n",
       "    <tr>\n",
       "      <th>2</th>\n",
       "      <td>622c321b89421f23ea5e680b</td>\n",
       "      <td>NaN</td>\n",
       "      <td>NaN</td>\n",
       "      <td>NaN</td>\n",
       "      <td>NaN</td>\n",
       "    </tr>\n",
       "    <tr>\n",
       "      <th>3</th>\n",
       "      <td>5e0c8f50a10a71228f89738a</td>\n",
       "      <td>NaN</td>\n",
       "      <td>NaN</td>\n",
       "      <td>NaN</td>\n",
       "      <td>NaN</td>\n",
       "    </tr>\n",
       "    <tr>\n",
       "      <th>4</th>\n",
       "      <td>6030e5404ef13b0baf332d53</td>\n",
       "      <td>6030e5404ef13b0baf332d53</td>\n",
       "      <td>1.0</td>\n",
       "      <td>NaN</td>\n",
       "      <td>NaN</td>\n",
       "    </tr>\n",
       "    <tr>\n",
       "      <th>...</th>\n",
       "      <td>...</td>\n",
       "      <td>...</td>\n",
       "      <td>...</td>\n",
       "      <td>...</td>\n",
       "      <td>...</td>\n",
       "    </tr>\n",
       "    <tr>\n",
       "      <th>5814809</th>\n",
       "      <td>6163218b7fefc5caf58dd427</td>\n",
       "      <td>NaN</td>\n",
       "      <td>NaN</td>\n",
       "      <td>NaN</td>\n",
       "      <td>NaN</td>\n",
       "    </tr>\n",
       "    <tr>\n",
       "      <th>5814810</th>\n",
       "      <td>5cb1b85254bc7263ff36dc52</td>\n",
       "      <td>NaN</td>\n",
       "      <td>NaN</td>\n",
       "      <td>NaN</td>\n",
       "      <td>NaN</td>\n",
       "    </tr>\n",
       "    <tr>\n",
       "      <th>5814811</th>\n",
       "      <td>5dc2c4fb340548492021bf49</td>\n",
       "      <td>NaN</td>\n",
       "      <td>NaN</td>\n",
       "      <td>NaN</td>\n",
       "      <td>NaN</td>\n",
       "    </tr>\n",
       "    <tr>\n",
       "      <th>5814812</th>\n",
       "      <td>6288da338f9b43a6ff602d66</td>\n",
       "      <td>6288da338f9b43a6ff602d66</td>\n",
       "      <td>1.0</td>\n",
       "      <td>NaN</td>\n",
       "      <td>NaN</td>\n",
       "    </tr>\n",
       "    <tr>\n",
       "      <th>5814813</th>\n",
       "      <td>62a9537b5948eacc94053fa2</td>\n",
       "      <td>62a9537b5948eacc94053fa2</td>\n",
       "      <td>1.0</td>\n",
       "      <td>62a9537b5948eacc94053fa2</td>\n",
       "      <td>1.0</td>\n",
       "    </tr>\n",
       "  </tbody>\n",
       "</table>\n",
       "<p>5814814 rows × 5 columns</p>\n",
       "</div>"
      ],
      "text/plain": [
       "                         customer                 customer1  flag1  \\\n",
       "0        5e393884ca251bec90555d41                       NaN    NaN   \n",
       "1        62a83d9501632153ce0f3458  62a83d9501632153ce0f3458    1.0   \n",
       "2        622c321b89421f23ea5e680b                       NaN    NaN   \n",
       "3        5e0c8f50a10a71228f89738a                       NaN    NaN   \n",
       "4        6030e5404ef13b0baf332d53  6030e5404ef13b0baf332d53    1.0   \n",
       "...                           ...                       ...    ...   \n",
       "5814809  6163218b7fefc5caf58dd427                       NaN    NaN   \n",
       "5814810  5cb1b85254bc7263ff36dc52                       NaN    NaN   \n",
       "5814811  5dc2c4fb340548492021bf49                       NaN    NaN   \n",
       "5814812  6288da338f9b43a6ff602d66  6288da338f9b43a6ff602d66    1.0   \n",
       "5814813  62a9537b5948eacc94053fa2  62a9537b5948eacc94053fa2    1.0   \n",
       "\n",
       "                        customer2  flag2  \n",
       "0                             NaN    NaN  \n",
       "1        62a83d9501632153ce0f3458    1.0  \n",
       "2                             NaN    NaN  \n",
       "3                             NaN    NaN  \n",
       "4                             NaN    NaN  \n",
       "...                           ...    ...  \n",
       "5814809                       NaN    NaN  \n",
       "5814810                       NaN    NaN  \n",
       "5814811                       NaN    NaN  \n",
       "5814812                       NaN    NaN  \n",
       "5814813  62a9537b5948eacc94053fa2    1.0  \n",
       "\n",
       "[5814814 rows x 5 columns]"
      ]
     },
     "execution_count": 218,
     "metadata": {},
     "output_type": "execute_result"
    }
   ],
   "source": [
    "df2_view_2 = df2_view\n",
    "df2_view_2"
   ]
  },
  {
   "cell_type": "code",
   "execution_count": 219,
   "metadata": {},
   "outputs": [
    {
     "data": {
      "text/plain": [
       "customer     5814814\n",
       "customer1    2188382\n",
       "flag1              1\n",
       "customer2    1503806\n",
       "flag2              1\n",
       "dtype: int64"
      ]
     },
     "execution_count": 219,
     "metadata": {},
     "output_type": "execute_result"
    }
   ],
   "source": [
    "df2_view_2.nunique()"
   ]
  },
  {
   "cell_type": "code",
   "execution_count": 220,
   "metadata": {},
   "outputs": [
    {
     "data": {
      "text/plain": [
       "customer           0\n",
       "customer1    3626432\n",
       "flag1        3626432\n",
       "customer2    4311008\n",
       "flag2        4311008\n",
       "dtype: int64"
      ]
     },
     "execution_count": 220,
     "metadata": {},
     "output_type": "execute_result"
    }
   ],
   "source": [
    "df2_view_2.isna().sum()"
   ]
  },
  {
   "cell_type": "code",
   "execution_count": 221,
   "metadata": {},
   "outputs": [],
   "source": [
    "df2_view_2.flag1.fillna(2, inplace=True)\n",
    "df2_view_2.flag2.fillna(2, inplace=True)"
   ]
  },
  {
   "cell_type": "code",
   "execution_count": 222,
   "metadata": {},
   "outputs": [
    {
     "data": {
      "text/html": [
       "<div>\n",
       "<style scoped>\n",
       "    .dataframe tbody tr th:only-of-type {\n",
       "        vertical-align: middle;\n",
       "    }\n",
       "\n",
       "    .dataframe tbody tr th {\n",
       "        vertical-align: top;\n",
       "    }\n",
       "\n",
       "    .dataframe thead th {\n",
       "        text-align: right;\n",
       "    }\n",
       "</style>\n",
       "<table border=\"1\" class=\"dataframe\">\n",
       "  <thead>\n",
       "    <tr style=\"text-align: right;\">\n",
       "      <th></th>\n",
       "      <th>flag1</th>\n",
       "      <th>flag2</th>\n",
       "      <th>customer</th>\n",
       "      <th>customer1</th>\n",
       "      <th>customer2</th>\n",
       "    </tr>\n",
       "  </thead>\n",
       "  <tbody>\n",
       "    <tr>\n",
       "      <th>0</th>\n",
       "      <td>1.0</td>\n",
       "      <td>1.0</td>\n",
       "      <td>1464197</td>\n",
       "      <td>1464197</td>\n",
       "      <td>1464197</td>\n",
       "    </tr>\n",
       "    <tr>\n",
       "      <th>1</th>\n",
       "      <td>1.0</td>\n",
       "      <td>2.0</td>\n",
       "      <td>724185</td>\n",
       "      <td>724185</td>\n",
       "      <td>0</td>\n",
       "    </tr>\n",
       "    <tr>\n",
       "      <th>2</th>\n",
       "      <td>2.0</td>\n",
       "      <td>1.0</td>\n",
       "      <td>39609</td>\n",
       "      <td>0</td>\n",
       "      <td>39609</td>\n",
       "    </tr>\n",
       "    <tr>\n",
       "      <th>3</th>\n",
       "      <td>2.0</td>\n",
       "      <td>2.0</td>\n",
       "      <td>3586823</td>\n",
       "      <td>0</td>\n",
       "      <td>0</td>\n",
       "    </tr>\n",
       "  </tbody>\n",
       "</table>\n",
       "</div>"
      ],
      "text/plain": [
       "   flag1  flag2  customer  customer1  customer2\n",
       "0    1.0    1.0   1464197    1464197    1464197\n",
       "1    1.0    2.0    724185     724185          0\n",
       "2    2.0    1.0     39609          0      39609\n",
       "3    2.0    2.0   3586823          0          0"
      ]
     },
     "execution_count": 222,
     "metadata": {},
     "output_type": "execute_result"
    }
   ],
   "source": [
    "df2_view_2.groupby(['flag1','flag2']).agg({'customer':'count','customer1':'count','customer2':'count'}).reset_index()"
   ]
  },
  {
   "cell_type": "code",
   "execution_count": 223,
   "metadata": {},
   "outputs": [
    {
     "data": {
      "text/html": [
       "<div>\n",
       "<style scoped>\n",
       "    .dataframe tbody tr th:only-of-type {\n",
       "        vertical-align: middle;\n",
       "    }\n",
       "\n",
       "    .dataframe tbody tr th {\n",
       "        vertical-align: top;\n",
       "    }\n",
       "\n",
       "    .dataframe thead th {\n",
       "        text-align: right;\n",
       "    }\n",
       "</style>\n",
       "<table border=\"1\" class=\"dataframe\">\n",
       "  <thead>\n",
       "    <tr style=\"text-align: right;\">\n",
       "      <th></th>\n",
       "      <th>customer</th>\n",
       "      <th>customer1</th>\n",
       "      <th>flag1</th>\n",
       "      <th>customer2</th>\n",
       "      <th>flag2</th>\n",
       "    </tr>\n",
       "  </thead>\n",
       "  <tbody>\n",
       "    <tr>\n",
       "      <th>1949</th>\n",
       "      <td>62a8932255073672d71052a6</td>\n",
       "      <td>NaN</td>\n",
       "      <td>2.0</td>\n",
       "      <td>62a8932255073672d71052a6</td>\n",
       "      <td>1.0</td>\n",
       "    </tr>\n",
       "    <tr>\n",
       "      <th>1965</th>\n",
       "      <td>62930be6e7adcd3eff511452</td>\n",
       "      <td>NaN</td>\n",
       "      <td>2.0</td>\n",
       "      <td>62930be6e7adcd3eff511452</td>\n",
       "      <td>1.0</td>\n",
       "    </tr>\n",
       "    <tr>\n",
       "      <th>2081</th>\n",
       "      <td>62bd1af17d79672317f73ccb</td>\n",
       "      <td>NaN</td>\n",
       "      <td>2.0</td>\n",
       "      <td>62bd1af17d79672317f73ccb</td>\n",
       "      <td>1.0</td>\n",
       "    </tr>\n",
       "    <tr>\n",
       "      <th>2261</th>\n",
       "      <td>62b287397d79670b5befe313</td>\n",
       "      <td>NaN</td>\n",
       "      <td>2.0</td>\n",
       "      <td>62b287397d79670b5befe313</td>\n",
       "      <td>1.0</td>\n",
       "    </tr>\n",
       "    <tr>\n",
       "      <th>2275</th>\n",
       "      <td>60cc6702f5cf11046891df8c</td>\n",
       "      <td>NaN</td>\n",
       "      <td>2.0</td>\n",
       "      <td>60cc6702f5cf11046891df8c</td>\n",
       "      <td>1.0</td>\n",
       "    </tr>\n",
       "  </tbody>\n",
       "</table>\n",
       "</div>"
      ],
      "text/plain": [
       "                      customer customer1  flag1                 customer2  \\\n",
       "1949  62a8932255073672d71052a6       NaN    2.0  62a8932255073672d71052a6   \n",
       "1965  62930be6e7adcd3eff511452       NaN    2.0  62930be6e7adcd3eff511452   \n",
       "2081  62bd1af17d79672317f73ccb       NaN    2.0  62bd1af17d79672317f73ccb   \n",
       "2261  62b287397d79670b5befe313       NaN    2.0  62b287397d79670b5befe313   \n",
       "2275  60cc6702f5cf11046891df8c       NaN    2.0  60cc6702f5cf11046891df8c   \n",
       "\n",
       "      flag2  \n",
       "1949    1.0  \n",
       "1965    1.0  \n",
       "2081    1.0  \n",
       "2261    1.0  \n",
       "2275    1.0  "
      ]
     },
     "execution_count": 223,
     "metadata": {},
     "output_type": "execute_result"
    }
   ],
   "source": [
    "df2_view_2[(df2_view_2['flag1'].isin([2])) &  (df2_view_2['flag2'].isin([1])) ].head()"
   ]
  },
  {
   "cell_type": "code",
   "execution_count": null,
   "metadata": {},
   "outputs": [],
   "source": []
  },
  {
   "cell_type": "code",
   "execution_count": null,
   "metadata": {},
   "outputs": [],
   "source": []
  },
  {
   "cell_type": "code",
   "execution_count": null,
   "metadata": {},
   "outputs": [],
   "source": []
  },
  {
   "cell_type": "markdown",
   "metadata": {},
   "source": [
    "# OLD"
   ]
  },
  {
   "cell_type": "code",
   "execution_count": 68,
   "metadata": {},
   "outputs": [],
   "source": [
    "code = f\"\"\"\n",
    "\n",
    "with orders as (\n",
    "select \n",
    "    distinct customer\n",
    "from legacy.orders\n",
    "where \n",
    "    orderdate between date_format( cast('{start_date}' as date), '%Y-%m-%d') \n",
    "    and date_format( cast('{end_date}' as date), '%Y-%m-%d')\n",
    "    and status = 'dropped' \n",
    "    and spdfraud_flag!=1\n",
    "),\n",
    "     \n",
    "ridebehaviour as (\n",
    "select \n",
    "    distinct customerId as customer,\n",
    "    1 as flag\n",
    "from hive.datasets.customer_ridebehaviour_servicedetail_immutable as crb\n",
    "where \n",
    "    day between cast('{start_date}' as date) - interval '1' day\n",
    "    and cast('{end_date}' as date) + interval '1' day\n",
    "    and service_name in ('Auto', 'Link')\n",
    "),\n",
    "\n",
    "segment as (\n",
    "select \n",
    "    distinct customer_id as customer,\n",
    "    1 as flag\n",
    "from datasets.iallocator_customer_segments\n",
    "where \n",
    "    taxi_recency_segment = 'RECENT' \n",
    "    and run_date between date_format( cast('{start_date}' as date) - interval '1' day, '%Y-%m-%d') \n",
    "    and date_format( cast('{end_date}' as date) + interval '1' day, '%Y-%m-%d')\n",
    ") \n",
    "\n",
    "select \n",
    "    count(distinct orders.customer) legacy,\n",
    "    count(distinct ridebehaviour.customer) ridebehaviour,\n",
    "    count(distinct segment.customer) segment,\n",
    "\n",
    "    case when ridebehaviour.flag = 1 then 1\n",
    "    else 0 end as ridebehaviour_flag,\n",
    "\n",
    "    case when segment.flag = 1 then 1\n",
    "    else 0 end as segment_flag\n",
    "\n",
    "from orders\n",
    "left join ridebehaviour on orders.customer = ridebehaviour.customer \n",
    "left join segment on ridebehaviour.customer = segment.customer \n",
    "\n",
    "group by 4,5\n",
    "\"\"\""
   ]
  },
  {
   "cell_type": "code",
   "execution_count": 69,
   "metadata": {},
   "outputs": [
    {
     "data": {
      "text/html": [
       "<div>\n",
       "<style scoped>\n",
       "    .dataframe tbody tr th:only-of-type {\n",
       "        vertical-align: middle;\n",
       "    }\n",
       "\n",
       "    .dataframe tbody tr th {\n",
       "        vertical-align: top;\n",
       "    }\n",
       "\n",
       "    .dataframe thead th {\n",
       "        text-align: right;\n",
       "    }\n",
       "</style>\n",
       "<table border=\"1\" class=\"dataframe\">\n",
       "  <thead>\n",
       "    <tr style=\"text-align: right;\">\n",
       "      <th></th>\n",
       "      <th>legacy</th>\n",
       "      <th>ridebehaviour</th>\n",
       "      <th>segment</th>\n",
       "      <th>ridebehaviour_flag</th>\n",
       "      <th>segment_flag</th>\n",
       "    </tr>\n",
       "  </thead>\n",
       "  <tbody>\n",
       "    <tr>\n",
       "      <th>0</th>\n",
       "      <td>1807</td>\n",
       "      <td>0</td>\n",
       "      <td>0</td>\n",
       "      <td>0</td>\n",
       "      <td>0</td>\n",
       "    </tr>\n",
       "    <tr>\n",
       "      <th>1</th>\n",
       "      <td>7081</td>\n",
       "      <td>7081</td>\n",
       "      <td>0</td>\n",
       "      <td>1</td>\n",
       "      <td>0</td>\n",
       "    </tr>\n",
       "    <tr>\n",
       "      <th>2</th>\n",
       "      <td>6065408</td>\n",
       "      <td>6065408</td>\n",
       "      <td>6065408</td>\n",
       "      <td>1</td>\n",
       "      <td>1</td>\n",
       "    </tr>\n",
       "  </tbody>\n",
       "</table>\n",
       "</div>"
      ],
      "text/plain": [
       "    legacy  ridebehaviour  segment  ridebehaviour_flag  segment_flag\n",
       "0     1807              0        0                   0             0\n",
       "1     7081           7081        0                   1             0\n",
       "2  6065408        6065408  6065408                   1             1"
      ]
     },
     "execution_count": 69,
     "metadata": {},
     "output_type": "execute_result"
    }
   ],
   "source": [
    "df_code = pd.read_sql(code, conn)\n",
    "df_code"
   ]
  },
  {
   "cell_type": "code",
   "execution_count": null,
   "metadata": {},
   "outputs": [],
   "source": []
  },
  {
   "cell_type": "code",
   "execution_count": null,
   "metadata": {},
   "outputs": [],
   "source": []
  },
  {
   "cell_type": "code",
   "execution_count": null,
   "metadata": {},
   "outputs": [],
   "source": []
  },
  {
   "cell_type": "code",
   "execution_count": null,
   "metadata": {},
   "outputs": [],
   "source": []
  },
  {
   "cell_type": "code",
   "execution_count": null,
   "metadata": {},
   "outputs": [],
   "source": []
  },
  {
   "cell_type": "code",
   "execution_count": null,
   "metadata": {},
   "outputs": [],
   "source": []
  },
  {
   "cell_type": "code",
   "execution_count": null,
   "metadata": {},
   "outputs": [],
   "source": []
  },
  {
   "cell_type": "code",
   "execution_count": null,
   "metadata": {},
   "outputs": [],
   "source": []
  },
  {
   "cell_type": "markdown",
   "metadata": {},
   "source": [
    "## Testing"
   ]
  },
  {
   "cell_type": "code",
   "execution_count": 29,
   "metadata": {},
   "outputs": [],
   "source": [
    "test = f\"\"\"\n",
    "with orders as (select distinct customer from \n",
    "legacy.orders\n",
    "where  status = 'dropped'\n",
    "--and customer = '57e7742d483bae671710e412'\n",
    "and orderdate between '2022-06-01' and '2022-06-30'\n",
    "AND spdfraud_flag!=1),\n",
    "idebehaviour as (select distinct customerId as customer, 1 as flag\n",
    "            from hive.datasets.customer_ridebehaviour_servicedetail_immutable as crb\n",
    "            where \n",
    "                day between cast('{start_date}' as date) - interval '1' day\n",
    "                and cast('{end_date}' as date) + interval '1' day),\n",
    "            \n",
    "base as (select orders.customer, case when flag = 1 then 1 else 0 end as flag from orders left join idebehaviour\n",
    "on orders.customer = idebehaviour.customer)\n",
    "select count(distinct customer), count(*) from base where flag = 0\n",
    "\"\"\""
   ]
  },
  {
   "cell_type": "code",
   "execution_count": 30,
   "metadata": {},
   "outputs": [
    {
     "data": {
      "text/html": [
       "<div>\n",
       "<style scoped>\n",
       "    .dataframe tbody tr th:only-of-type {\n",
       "        vertical-align: middle;\n",
       "    }\n",
       "\n",
       "    .dataframe tbody tr th {\n",
       "        vertical-align: top;\n",
       "    }\n",
       "\n",
       "    .dataframe thead th {\n",
       "        text-align: right;\n",
       "    }\n",
       "</style>\n",
       "<table border=\"1\" class=\"dataframe\">\n",
       "  <thead>\n",
       "    <tr style=\"text-align: right;\">\n",
       "      <th></th>\n",
       "      <th>_col0</th>\n",
       "      <th>_col1</th>\n",
       "    </tr>\n",
       "  </thead>\n",
       "  <tbody>\n",
       "    <tr>\n",
       "      <th>0</th>\n",
       "      <td>3810</td>\n",
       "      <td>3810</td>\n",
       "    </tr>\n",
       "  </tbody>\n",
       "</table>\n",
       "</div>"
      ],
      "text/plain": [
       "   _col0  _col1\n",
       "0   3810   3810"
      ]
     },
     "execution_count": 30,
     "metadata": {},
     "output_type": "execute_result"
    }
   ],
   "source": [
    "df_test = pd.read_sql(test, conn)\n",
    "df_test"
   ]
  },
  {
   "cell_type": "code",
   "execution_count": 31,
   "metadata": {},
   "outputs": [],
   "source": [
    "test1 = f\"\"\"\n",
    "with orders as (select distinct customer from \n",
    "legacy.orders\n",
    "where  status = 'dropped'\n",
    "--and customer = '57e7742d483bae671710e412'\n",
    "and orderdate between '2022-06-01' and '2022-06-30'\n",
    "AND spdfraud_flag!=1),\n",
    "segment as (select distinct customer_id as customer,1 as flag  from datasets.iallocator_customer_segments\n",
    "            where taxi_recency_segment = 'RECENT'\n",
    "            --and customer_id = '57e7742d483bae671710e412'\n",
    "            and run_date between '2022-05-31' and '2022-07-01'),\n",
    "            \n",
    "base as (select orders.customer, case when flag = 1 then 1 else 0 end as flag from orders left join segment\n",
    "on orders.customer = segment.customer)\n",
    "select count(distinct customer), count(*) from base where flag = 0\n",
    "\"\"\""
   ]
  },
  {
   "cell_type": "code",
   "execution_count": 32,
   "metadata": {},
   "outputs": [
    {
     "data": {
      "text/html": [
       "<div>\n",
       "<style scoped>\n",
       "    .dataframe tbody tr th:only-of-type {\n",
       "        vertical-align: middle;\n",
       "    }\n",
       "\n",
       "    .dataframe tbody tr th {\n",
       "        vertical-align: top;\n",
       "    }\n",
       "\n",
       "    .dataframe thead th {\n",
       "        text-align: right;\n",
       "    }\n",
       "</style>\n",
       "<table border=\"1\" class=\"dataframe\">\n",
       "  <thead>\n",
       "    <tr style=\"text-align: right;\">\n",
       "      <th></th>\n",
       "      <th>_col0</th>\n",
       "      <th>_col1</th>\n",
       "    </tr>\n",
       "  </thead>\n",
       "  <tbody>\n",
       "    <tr>\n",
       "      <th>0</th>\n",
       "      <td>40106</td>\n",
       "      <td>40106</td>\n",
       "    </tr>\n",
       "  </tbody>\n",
       "</table>\n",
       "</div>"
      ],
      "text/plain": [
       "   _col0  _col1\n",
       "0  40106  40106"
      ]
     },
     "execution_count": 32,
     "metadata": {},
     "output_type": "execute_result"
    }
   ],
   "source": [
    "df_test1 = pd.read_sql(test1, conn)\n",
    "df_test1"
   ]
  },
  {
   "cell_type": "code",
   "execution_count": 39,
   "metadata": {},
   "outputs": [],
   "source": [
    "test2 = f\"\"\"\n",
    "with orders as (select distinct customer from \n",
    "legacy.orders\n",
    "where  status = 'dropped'\n",
    "--and customer = '57e7742d483bae671710e412'\n",
    "and orderdate between '2022-06-01' and '2022-06-30'\n",
    "AND spdfraud_flag!=1),\n",
    "segment as (select distinct customer_id as customer,1 as flag  from datasets.iallocator_customer_segments\n",
    "            where --taxi_recency_segment = 'RECENT'\n",
    "            --and customer_id = '57e7742d483bae671710e412'\n",
    "            --and \n",
    "            run_date between '2022-05-31' and '2022-07-01'),\n",
    "            \n",
    "base as (select orders.customer, case when flag = 1 then 1 else 0 end as flag from orders left join segment\n",
    "on orders.customer = segment.customer)\n",
    "select count(distinct customer), count(*) from base where flag = 0\n",
    "\"\"\""
   ]
  },
  {
   "cell_type": "code",
   "execution_count": 40,
   "metadata": {},
   "outputs": [
    {
     "data": {
      "text/html": [
       "<div>\n",
       "<style scoped>\n",
       "    .dataframe tbody tr th:only-of-type {\n",
       "        vertical-align: middle;\n",
       "    }\n",
       "\n",
       "    .dataframe tbody tr th {\n",
       "        vertical-align: top;\n",
       "    }\n",
       "\n",
       "    .dataframe thead th {\n",
       "        text-align: right;\n",
       "    }\n",
       "</style>\n",
       "<table border=\"1\" class=\"dataframe\">\n",
       "  <thead>\n",
       "    <tr style=\"text-align: right;\">\n",
       "      <th></th>\n",
       "      <th>_col0</th>\n",
       "      <th>_col1</th>\n",
       "    </tr>\n",
       "  </thead>\n",
       "  <tbody>\n",
       "    <tr>\n",
       "      <th>0</th>\n",
       "      <td>5705</td>\n",
       "      <td>5705</td>\n",
       "    </tr>\n",
       "  </tbody>\n",
       "</table>\n",
       "</div>"
      ],
      "text/plain": [
       "   _col0  _col1\n",
       "0   5705   5705"
      ]
     },
     "execution_count": 40,
     "metadata": {},
     "output_type": "execute_result"
    }
   ],
   "source": [
    "df_test2 = pd.read_sql(test2, conn)\n",
    "df_test2"
   ]
  },
  {
   "cell_type": "code",
   "execution_count": null,
   "metadata": {},
   "outputs": [],
   "source": []
  }
 ],
 "metadata": {
  "kernelspec": {
   "display_name": "Python 3.7.6 64-bit",
   "language": "python",
   "name": "python3"
  },
  "language_info": {
   "codemirror_mode": {
    "name": "ipython",
    "version": 3
   },
   "file_extension": ".py",
   "mimetype": "text/x-python",
   "name": "python",
   "nbconvert_exporter": "python",
   "pygments_lexer": "ipython3",
   "version": "3.7.6 (v3.7.6:43364a7ae0, Dec 18 2019, 14:18:50) \n[Clang 6.0 (clang-600.0.57)]"
  },
  "orig_nbformat": 4,
  "vscode": {
   "interpreter": {
    "hash": "aee8b7b246df8f9039afb4144a1f6fd8d2ca17a180786b69acc140d282b71a49"
   }
  }
 },
 "nbformat": 4,
 "nbformat_minor": 2
}
