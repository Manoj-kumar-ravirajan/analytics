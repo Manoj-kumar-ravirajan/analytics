{
 "cells": [
  {
   "cell_type": "code",
   "execution_count": 1,
   "metadata": {},
   "outputs": [],
   "source": [
    "from pyhive import presto\n",
    "import pandas as pd\n",
    "import matplotlib.pyplot as plt\n",
    "import datetime as dt\n",
    "import numpy as np\n",
    "import time\n",
    "\n",
    "from datetime import datetime, timedelta\n",
    "\n",
    "import seaborn as sns\n",
    "\n",
    "conn = presto.connect(\n",
    "    host='presto.processing.yoda.run', \n",
    "    ## presto.processing.yoda.run\n",
    "    ## bi-presto.serving.data.production.internal\n",
    "    port=80,\n",
    "    username='manoj.ravirajan@rapido.bike'\n",
    ")"
   ]
  },
  {
   "cell_type": "code",
   "execution_count": 2,
   "metadata": {},
   "outputs": [],
   "source": [
    "start_date = '2022-06-01'\n",
    "end_date = '2022-06-30'"
   ]
  },
  {
   "cell_type": "code",
   "execution_count": 7,
   "metadata": {},
   "outputs": [
    {
     "data": {
      "text/html": [
       "<div>\n",
       "<style scoped>\n",
       "    .dataframe tbody tr th:only-of-type {\n",
       "        vertical-align: middle;\n",
       "    }\n",
       "\n",
       "    .dataframe tbody tr th {\n",
       "        vertical-align: top;\n",
       "    }\n",
       "\n",
       "    .dataframe thead th {\n",
       "        text-align: right;\n",
       "    }\n",
       "</style>\n",
       "<table border=\"1\" class=\"dataframe\">\n",
       "  <thead>\n",
       "    <tr style=\"text-align: right;\">\n",
       "      <th></th>\n",
       "      <th>customer1</th>\n",
       "      <th>servicename</th>\n",
       "      <th>flag1</th>\n",
       "    </tr>\n",
       "  </thead>\n",
       "  <tbody>\n",
       "    <tr>\n",
       "      <th>0</th>\n",
       "      <td>5da2815e941a7d1c51e2bd14</td>\n",
       "      <td>Auto</td>\n",
       "      <td>1</td>\n",
       "    </tr>\n",
       "    <tr>\n",
       "      <th>1</th>\n",
       "      <td>62681238aa67db21691d3015</td>\n",
       "      <td>Auto</td>\n",
       "      <td>1</td>\n",
       "    </tr>\n",
       "    <tr>\n",
       "      <th>2</th>\n",
       "      <td>62b823f77d79679b33f3dd37</td>\n",
       "      <td>Auto</td>\n",
       "      <td>1</td>\n",
       "    </tr>\n",
       "    <tr>\n",
       "      <th>3</th>\n",
       "      <td>61f79d8f6916b879e0afcc80</td>\n",
       "      <td>Auto</td>\n",
       "      <td>1</td>\n",
       "    </tr>\n",
       "    <tr>\n",
       "      <th>4</th>\n",
       "      <td>5d792fcba24c96105e47cc09</td>\n",
       "      <td>Auto</td>\n",
       "      <td>1</td>\n",
       "    </tr>\n",
       "  </tbody>\n",
       "</table>\n",
       "</div>"
      ],
      "text/plain": [
       "                  customer1 servicename  flag1\n",
       "0  5da2815e941a7d1c51e2bd14        Auto      1\n",
       "1  62681238aa67db21691d3015        Auto      1\n",
       "2  62b823f77d79679b33f3dd37        Auto      1\n",
       "3  61f79d8f6916b879e0afcc80        Auto      1\n",
       "4  5d792fcba24c96105e47cc09        Auto      1"
      ]
     },
     "execution_count": 7,
     "metadata": {},
     "output_type": "execute_result"
    }
   ],
   "source": [
    "## lifetimefirstridetime\n",
    "\n",
    "ride_behaviour = f\"\"\"\n",
    "select \n",
    "    distinct customerId as customer1,\n",
    "    servicename,    \n",
    "    1 as flag1\n",
    "from hive.datasets.customer_ridebehaviour_servicedetail as crb\n",
    "where \n",
    "    firstRideDate between cast('{start_date}' as date)\n",
    "    and cast('{end_date}' as date)\n",
    "    and servicename in ('Auto', 'Link')\n",
    "\"\"\"\n",
    "df_ride_behaviour = pd.read_sql(ride_behaviour, conn)\n",
    "df_ride_behaviour.head()"
   ]
  },
  {
   "cell_type": "code",
   "execution_count": null,
   "metadata": {},
   "outputs": [],
   "source": []
  }
 ],
 "metadata": {
  "kernelspec": {
   "display_name": "Python 3.7.6 64-bit",
   "language": "python",
   "name": "python3"
  },
  "language_info": {
   "codemirror_mode": {
    "name": "ipython",
    "version": 3
   },
   "file_extension": ".py",
   "mimetype": "text/x-python",
   "name": "python",
   "nbconvert_exporter": "python",
   "pygments_lexer": "ipython3",
   "version": "3.7.6"
  },
  "orig_nbformat": 4,
  "vscode": {
   "interpreter": {
    "hash": "aee8b7b246df8f9039afb4144a1f6fd8d2ca17a180786b69acc140d282b71a49"
   }
  }
 },
 "nbformat": 4,
 "nbformat_minor": 2
}
