version https://git-lfs.github.com/spec/v1
oid sha256:697e939e67ba5acce2f142d8e869c0026cb34eac734caf9fcf92ef8d6419872a
size 391470
