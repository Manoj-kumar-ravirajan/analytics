{
 "cells": [
  {
   "cell_type": "markdown",
   "metadata": {},
   "source": [
    "<div style=\"display:block\">\n",
    "    <div style=\"width: 20%; display: inline-block; text-align: left;\">\n",
    "        <div class=\"crop\">\n",
    "            <img src=\"https://image4.owler.com/logo/rapido_owler_20190125_062402_original.png\" style=\"height:75px; margin-left:0px\" />\n",
    "        </div>\n",
    "    </div>\n",
    "    <div style=\"width: 59%; display: inline-block\">\n",
    "            <h1  style=\"text-align: center\">SRuD Setup</h1><br>\n",
    "        <div style=\"width: 90%; text-align: center; display: inline-block;\"><i>By:</i> <strong>Ritik Prakash</strong> </div>\n",
    "    </div>\n",
    "    <div style=\"width: 20%; text-align: right; display: inline-block;\">\n",
    "        <div style=\"width: 100%; text-align: left; display: inline-block;\">\n",
    "            <i>Created: </i>\n",
    "            <time datetime=\"Enter Date\" pubdate>28th March, 2022</time>\n",
    "        </div>\n",
    "    </div>\n",
    "</div>"
   ]
  },
  {
   "cell_type": "markdown",
   "metadata": {},
   "source": [
    "___\n",
    "___"
   ]
  },
  {
   "cell_type": "markdown",
   "metadata": {},
   "source": [
    "<div class=\"alert alert-block alert-danger\">\n",
    "\n",
    "# Configs\n",
    "</div>"
   ]
  },
  {
   "cell_type": "markdown",
   "metadata": {},
   "source": [
    "<div class=\"alert alert-block alert-warning\">\n",
    "    \n",
    "### Enter Configs To Run The Notebook\n",
    "Comment or Edit the changes in Similar Format\n",
    "</div>"
   ]
  },
  {
   "cell_type": "code",
   "execution_count": 1,
   "metadata": {},
   "outputs": [],
   "source": [
    "CITY = 'Hyderabad'"
   ]
  },
  {
   "cell_type": "code",
   "execution_count": 22,
   "metadata": {},
   "outputs": [],
   "source": [
    "START_DATE = '20230612'                    \n",
    "END_DATE = '20230625'"
   ]
  },
  {
   "cell_type": "code",
   "execution_count": 23,
   "metadata": {},
   "outputs": [],
   "source": [
    "X_PERCENT_TOP = 100"
   ]
  },
  {
   "cell_type": "markdown",
   "metadata": {},
   "source": [
    "<div class=\"alert alert-block alert-danger\">\n",
    "\n",
    "</div>"
   ]
  },
  {
   "cell_type": "markdown",
   "metadata": {},
   "source": [
    "___"
   ]
  },
  {
   "cell_type": "markdown",
   "metadata": {},
   "source": [
    "<div class=\"alert alert-block alert-info\">\n",
    "\n",
    "# Importing Packages\n",
    "</div>"
   ]
  },
  {
   "cell_type": "markdown",
   "metadata": {},
   "source": [
    "___"
   ]
  },
  {
   "cell_type": "code",
   "execution_count": 24,
   "metadata": {},
   "outputs": [],
   "source": [
    "import pandas as pd\n",
    "import numpy as np\n",
    "import h3\n",
    "from datetime import datetime\n",
    "from pyhive import presto\n",
    "import plotly.express as px\n",
    "import matplotlib.pyplot as plt\n",
    "import seaborn as sns\n",
    "from datetime import datetime, timedelta\n",
    "from sklearn.metrics.pairwise import cosine_similarity\n",
    "from numpy import array, reshape\n",
    "from IPython.core.interactiveshell import InteractiveShell\n",
    "InteractiveShell.ast_node_interactivity = \"all\""
   ]
  },
  {
   "cell_type": "code",
   "execution_count": 25,
   "metadata": {},
   "outputs": [],
   "source": [
    "pd.set_option('display.max_columns', 600)\n",
    "pd.set_option('display.max_rows', 600)"
   ]
  },
  {
   "cell_type": "code",
   "execution_count": 26,
   "metadata": {},
   "outputs": [],
   "source": [
    "conn = presto.connect(\n",
    "    host='presto-gateway.serving.data.plectrum.dev',\n",
    "    port=443,\n",
    "    protocol='https',\n",
    "    catalog='hive',\n",
    "    username='ritik.prakash@rapido.bike')"
   ]
  },
  {
   "cell_type": "markdown",
   "metadata": {},
   "source": [
    "___"
   ]
  },
  {
   "cell_type": "markdown",
   "metadata": {},
   "source": [
    "<div class=\"alert alert-block alert-info\">\n",
    "\n",
    "# Download Data\n",
    "</div>"
   ]
  },
  {
   "cell_type": "markdown",
   "metadata": {},
   "source": [
    "___"
   ]
  },
  {
   "cell_type": "code",
   "execution_count": 35,
   "metadata": {},
   "outputs": [],
   "source": [
    "START_DATE = '20230612'                    \n",
    "END_DATE = '20230618'"
   ]
  },
  {
   "cell_type": "code",
   "execution_count": 39,
   "metadata": {},
   "outputs": [],
   "source": [
    "fe_data = '''\n",
    "        \n",
    "        WITH fe AS (\n",
    "    \n",
    "                SELECT\n",
    "                    city,\n",
    "                    fare_estimate_id,\n",
    "                    date_format(date_parse(yyyymmdd,'%Y%m%d'),'%Y-%m-%d') AS orderdate,\n",
    "                    substr(quarter_hour,1,2) AS hour,\n",
    "                    quarter_hour,\n",
    "                    date_format(date_parse(yyyymmdd,'%Y%m%d'), '%W') AS week_period,\n",
    "                    pickup_location_hex_8 AS pickup_hex,\n",
    "                    drop_location_hex_8 AS drop_hex,\n",
    "                    COALESCE(actual_ride_time,estimated_ride_time) AS ride_time,\n",
    "                    CAST(dynamic_surge AS DOUBLE)+CAST(dynamic_fare AS DOUBLE) AS surge,\n",
    "                    price_increase_strategy AS strategy,\n",
    "                    1 AS fe_count\n",
    "                FROM\n",
    "                    hive.pricing.fare_estimates_enriched AS ench\n",
    "                WHERE\n",
    "                    yyyymmdd >= '{start_date}' \n",
    "                    AND yyyymmdd <= '{end_date}'\n",
    "                    AND service_name = 'Link'\n",
    "                    AND city = '{city}'\n",
    "            )\n",
    "\n",
    "        SELECT * FROM fe\n",
    "\n",
    "        '''.format(\n",
    "            city = CITY,\n",
    "            start_date = START_DATE,\n",
    "            end_date = END_DATE)"
   ]
  },
  {
   "cell_type": "code",
   "execution_count": 41,
   "metadata": {},
   "outputs": [],
   "source": [
    "fe_df1 = pd.read_sql(fe_data, conn)"
   ]
  },
  {
   "cell_type": "markdown",
   "metadata": {},
   "source": [
    "___"
   ]
  },
  {
   "cell_type": "code",
   "execution_count": 56,
   "metadata": {},
   "outputs": [],
   "source": [
    "START_DATE = '20230619'                    \n",
    "END_DATE = '20230622'"
   ]
  },
  {
   "cell_type": "code",
   "execution_count": 57,
   "metadata": {},
   "outputs": [],
   "source": [
    "fe_data = '''\n",
    "        \n",
    "        WITH fe AS (\n",
    "    \n",
    "                SELECT\n",
    "                    city,\n",
    "                    fare_estimate_id,\n",
    "                    date_format(date_parse(yyyymmdd,'%Y%m%d'),'%Y-%m-%d') AS orderdate,\n",
    "                    substr(quarter_hour,1,2) AS hour,\n",
    "                    quarter_hour,\n",
    "                    date_format(date_parse(yyyymmdd,'%Y%m%d'), '%W') AS week_period,\n",
    "                    pickup_location_hex_8 AS pickup_hex,\n",
    "                    drop_location_hex_8 AS drop_hex,\n",
    "                    COALESCE(actual_ride_time,estimated_ride_time) AS ride_time,\n",
    "                    CAST(dynamic_surge AS DOUBLE)+CAST(dynamic_fare AS DOUBLE) AS surge,\n",
    "                    price_increase_strategy AS strategy,\n",
    "                    1 AS fe_count\n",
    "                FROM\n",
    "                    hive.pricing.fare_estimates_enriched AS ench\n",
    "                WHERE\n",
    "                    yyyymmdd >= '{start_date}' \n",
    "                    AND yyyymmdd <= '{end_date}'\n",
    "                    AND service_name = 'Link'\n",
    "                    AND city = '{city}'\n",
    "            )\n",
    "\n",
    "        SELECT * FROM fe\n",
    "\n",
    "        '''.format(\n",
    "            city = CITY,\n",
    "            start_date = START_DATE,\n",
    "            end_date = END_DATE)"
   ]
  },
  {
   "cell_type": "code",
   "execution_count": 58,
   "metadata": {},
   "outputs": [
    {
     "name": "stderr",
     "output_type": "stream",
     "text": [
      "/Users/apple/opt/anaconda3/lib/python3.8/site-packages/pandas/io/sql.py:761: UserWarning: pandas only support SQLAlchemy connectable(engine/connection) ordatabase string URI or sqlite3 DBAPI2 connectionother DBAPI2 objects are not tested, please consider using SQLAlchemy\n",
      "  warnings.warn(\n"
     ]
    }
   ],
   "source": [
    "fe_df21 = pd.read_sql(fe_data, conn)"
   ]
  },
  {
   "cell_type": "code",
   "execution_count": 59,
   "metadata": {},
   "outputs": [],
   "source": [
    "START_DATE = '20230623'                    \n",
    "END_DATE = '20230625'"
   ]
  },
  {
   "cell_type": "code",
   "execution_count": 60,
   "metadata": {},
   "outputs": [],
   "source": [
    "fe_data = '''\n",
    "        \n",
    "        WITH fe AS (\n",
    "    \n",
    "                SELECT\n",
    "                    city,\n",
    "                    fare_estimate_id,\n",
    "                    date_format(date_parse(yyyymmdd,'%Y%m%d'),'%Y-%m-%d') AS orderdate,\n",
    "                    substr(quarter_hour,1,2) AS hour,\n",
    "                    quarter_hour,\n",
    "                    date_format(date_parse(yyyymmdd,'%Y%m%d'), '%W') AS week_period,\n",
    "                    pickup_location_hex_8 AS pickup_hex,\n",
    "                    drop_location_hex_8 AS drop_hex,\n",
    "                    COALESCE(actual_ride_time,estimated_ride_time) AS ride_time,\n",
    "                    CAST(dynamic_surge AS DOUBLE)+CAST(dynamic_fare AS DOUBLE) AS surge,\n",
    "                    price_increase_strategy AS strategy,\n",
    "                    1 AS fe_count\n",
    "                FROM\n",
    "                    hive.pricing.fare_estimates_enriched AS ench\n",
    "                WHERE\n",
    "                    yyyymmdd >= '{start_date}' \n",
    "                    AND yyyymmdd <= '{end_date}'\n",
    "                    AND service_name = 'Link'\n",
    "                    AND city = '{city}'\n",
    "            )\n",
    "\n",
    "        SELECT * FROM fe\n",
    "\n",
    "        '''.format(\n",
    "            city = CITY,\n",
    "            start_date = START_DATE,\n",
    "            end_date = END_DATE)"
   ]
  },
  {
   "cell_type": "code",
   "execution_count": 61,
   "metadata": {},
   "outputs": [
    {
     "name": "stderr",
     "output_type": "stream",
     "text": [
      "/Users/apple/opt/anaconda3/lib/python3.8/site-packages/pandas/io/sql.py:761: UserWarning: pandas only support SQLAlchemy connectable(engine/connection) ordatabase string URI or sqlite3 DBAPI2 connectionother DBAPI2 objects are not tested, please consider using SQLAlchemy\n",
      "  warnings.warn(\n"
     ]
    }
   ],
   "source": [
    "fe_df22 = pd.read_sql(fe_data, conn)"
   ]
  },
  {
   "cell_type": "code",
   "execution_count": null,
   "metadata": {},
   "outputs": [],
   "source": []
  },
  {
   "cell_type": "markdown",
   "metadata": {},
   "source": [
    "___"
   ]
  },
  {
   "cell_type": "code",
   "execution_count": 46,
   "metadata": {},
   "outputs": [],
   "source": [
    "START_DATE = '20230626'                    \n",
    "END_DATE = '20230702'"
   ]
  },
  {
   "cell_type": "code",
   "execution_count": 47,
   "metadata": {},
   "outputs": [],
   "source": [
    "fe_data = '''\n",
    "        \n",
    "        WITH fe AS (\n",
    "    \n",
    "                SELECT\n",
    "                    city,\n",
    "                    fare_estimate_id,\n",
    "                    date_format(date_parse(yyyymmdd,'%Y%m%d'),'%Y-%m-%d') AS orderdate,\n",
    "                    substr(quarter_hour,1,2) AS hour,\n",
    "                    quarter_hour,\n",
    "                    date_format(date_parse(yyyymmdd,'%Y%m%d'), '%W') AS week_period,\n",
    "                    pickup_location_hex_8 AS pickup_hex,\n",
    "                    drop_location_hex_8 AS drop_hex,\n",
    "                    COALESCE(actual_ride_time,estimated_ride_time) AS ride_time,\n",
    "                    CAST(dynamic_surge AS DOUBLE)+CAST(dynamic_fare AS DOUBLE) AS surge,\n",
    "                    price_increase_strategy AS strategy,\n",
    "                    1 AS fe_count\n",
    "                FROM\n",
    "                    hive.pricing.fare_estimates_enriched AS ench\n",
    "                WHERE\n",
    "                    yyyymmdd >= '{start_date}' \n",
    "                    AND yyyymmdd <= '{end_date}'\n",
    "                    AND service_name = 'Link'\n",
    "                    AND city = '{city}'\n",
    "            )\n",
    "\n",
    "        SELECT * FROM fe\n",
    "\n",
    "        '''.format(\n",
    "            city = CITY,\n",
    "            start_date = START_DATE,\n",
    "            end_date = END_DATE)"
   ]
  },
  {
   "cell_type": "code",
   "execution_count": 48,
   "metadata": {},
   "outputs": [],
   "source": [
    "fe_df3 = pd.read_sql(fe_data, conn)"
   ]
  },
  {
   "cell_type": "markdown",
   "metadata": {},
   "source": [
    "___"
   ]
  },
  {
   "cell_type": "code",
   "execution_count": 49,
   "metadata": {},
   "outputs": [],
   "source": [
    "START_DATE = '20230703'                    \n",
    "END_DATE = '20230709'"
   ]
  },
  {
   "cell_type": "code",
   "execution_count": 50,
   "metadata": {},
   "outputs": [],
   "source": [
    "fe_data = '''\n",
    "        \n",
    "        WITH fe AS (\n",
    "    \n",
    "                SELECT\n",
    "                    city,\n",
    "                    fare_estimate_id,\n",
    "                    date_format(date_parse(yyyymmdd,'%Y%m%d'),'%Y-%m-%d') AS orderdate,\n",
    "                    substr(quarter_hour,1,2) AS hour,\n",
    "                    quarter_hour,\n",
    "                    date_format(date_parse(yyyymmdd,'%Y%m%d'), '%W') AS week_period,\n",
    "                    pickup_location_hex_8 AS pickup_hex,\n",
    "                    drop_location_hex_8 AS drop_hex,\n",
    "                    COALESCE(actual_ride_time,estimated_ride_time) AS ride_time,\n",
    "                    CAST(dynamic_surge AS DOUBLE)+CAST(dynamic_fare AS DOUBLE) AS surge,\n",
    "                    price_increase_strategy AS strategy,\n",
    "                    1 AS fe_count\n",
    "                FROM\n",
    "                    hive.pricing.fare_estimates_enriched AS ench\n",
    "                WHERE\n",
    "                    yyyymmdd >= '{start_date}' \n",
    "                    AND yyyymmdd <= '{end_date}'\n",
    "                    AND service_name = 'Link'\n",
    "                    AND city = '{city}'\n",
    "            )\n",
    "\n",
    "        SELECT * FROM fe\n",
    "\n",
    "        '''.format(\n",
    "            city = CITY,\n",
    "            start_date = START_DATE,\n",
    "            end_date = END_DATE)"
   ]
  },
  {
   "cell_type": "code",
   "execution_count": 55,
   "metadata": {},
   "outputs": [],
   "source": [
    "fe_df4 = pd.read_sql(fe_data, conn)"
   ]
  },
  {
   "cell_type": "code",
   "execution_count": null,
   "metadata": {},
   "outputs": [],
   "source": []
  },
  {
   "cell_type": "markdown",
   "metadata": {},
   "source": [
    "___"
   ]
  },
  {
   "cell_type": "markdown",
   "metadata": {},
   "source": [
    "___"
   ]
  },
  {
   "cell_type": "markdown",
   "metadata": {},
   "source": [
    "___"
   ]
  },
  {
   "cell_type": "markdown",
   "metadata": {},
   "source": [
    "___"
   ]
  },
  {
   "cell_type": "code",
   "execution_count": 62,
   "metadata": {},
   "outputs": [],
   "source": [
    "city_clus = '''\n",
    "        \n",
    "        SELECT \n",
    "            hex_id, \n",
    "            cluster \n",
    "        FROM \n",
    "            datasets.city_cluster_hex \n",
    "        WHERE \n",
    "            resolution=8 \n",
    "            AND city = '{city}'\n",
    "\n",
    "        '''.format(\n",
    "            city = CITY)"
   ]
  },
  {
   "cell_type": "code",
   "execution_count": 63,
   "metadata": {},
   "outputs": [],
   "source": [
    "top_q =  '''\n",
    "\n",
    "        SELECT\n",
    "            pickup_cluster,\n",
    "            week_period,\n",
    "            hour,\n",
    "            'TOP' AS segment\n",
    "        FROM\n",
    "        (\n",
    "            SELECT\n",
    "                cluster AS pickup_cluster,\n",
    "                weekday AS week_period,\n",
    "                hour,\n",
    "                unfulfilled_orders,\n",
    "                SUM(unfulfilled_orders) OVER(PARTITION BY city ORDER BY unfulfilled_orders DESC) AS cumsum_unf_orders,\n",
    "                SUM(unfulfilled_orders) OVER(PARTITION BY city) * {x_percent_top} AS x_percent_unf\n",
    "            FROM \n",
    "                pricing.top_geotemporal_slices\n",
    "            WHERE\n",
    "                city = '{city}'\n",
    "                AND service_name = 'Link'\n",
    "        )\n",
    "        WHERE cumsum_unf_orders <= x_percent_unf\n",
    "        \n",
    "        '''.format(\n",
    "            city = CITY,\n",
    "            x_percent_top = X_PERCENT_TOP/100)"
   ]
  },
  {
   "cell_type": "code",
   "execution_count": 64,
   "metadata": {
    "scrolled": true
   },
   "outputs": [],
   "source": [
    "# fe_df = pd.read_sql(fe_data, conn)"
   ]
  },
  {
   "cell_type": "code",
   "execution_count": 65,
   "metadata": {},
   "outputs": [
    {
     "name": "stderr",
     "output_type": "stream",
     "text": [
      "/Users/apple/opt/anaconda3/lib/python3.8/site-packages/pandas/io/sql.py:761: UserWarning: pandas only support SQLAlchemy connectable(engine/connection) ordatabase string URI or sqlite3 DBAPI2 connectionother DBAPI2 objects are not tested, please consider using SQLAlchemy\n",
      "  warnings.warn(\n"
     ]
    }
   ],
   "source": [
    "city_clus = pd.read_sql(city_clus, conn)"
   ]
  },
  {
   "cell_type": "code",
   "execution_count": 66,
   "metadata": {},
   "outputs": [
    {
     "name": "stderr",
     "output_type": "stream",
     "text": [
      "/Users/apple/opt/anaconda3/lib/python3.8/site-packages/pandas/io/sql.py:761: UserWarning: pandas only support SQLAlchemy connectable(engine/connection) ordatabase string URI or sqlite3 DBAPI2 connectionother DBAPI2 objects are not tested, please consider using SQLAlchemy\n",
      "  warnings.warn(\n"
     ]
    }
   ],
   "source": [
    "top_slice = pd.read_sql(top_q, conn)"
   ]
  },
  {
   "cell_type": "markdown",
   "metadata": {},
   "source": [
    "___"
   ]
  },
  {
   "cell_type": "markdown",
   "metadata": {},
   "source": [
    "___"
   ]
  },
  {
   "cell_type": "code",
   "execution_count": 73,
   "metadata": {},
   "outputs": [],
   "source": [
    "fe_all = fe_df1.copy()"
   ]
  },
  {
   "cell_type": "code",
   "execution_count": 74,
   "metadata": {},
   "outputs": [],
   "source": [
    "# fe_all = pd.concat([fe_df1,fe_df21,fe_df22,fe_df3,fe_df4]).reset_index(drop=True)"
   ]
  },
  {
   "cell_type": "code",
   "execution_count": null,
   "metadata": {},
   "outputs": [],
   "source": []
  },
  {
   "cell_type": "code",
   "execution_count": 75,
   "metadata": {},
   "outputs": [
    {
     "data": {
      "text/plain": [
       "(9878808, 12)"
      ]
     },
     "execution_count": 75,
     "metadata": {},
     "output_type": "execute_result"
    },
    {
     "data": {
      "text/html": [
       "<div>\n",
       "<style scoped>\n",
       "    .dataframe tbody tr th:only-of-type {\n",
       "        vertical-align: middle;\n",
       "    }\n",
       "\n",
       "    .dataframe tbody tr th {\n",
       "        vertical-align: top;\n",
       "    }\n",
       "\n",
       "    .dataframe thead th {\n",
       "        text-align: right;\n",
       "    }\n",
       "</style>\n",
       "<table border=\"1\" class=\"dataframe\">\n",
       "  <thead>\n",
       "    <tr style=\"text-align: right;\">\n",
       "      <th></th>\n",
       "      <th>city</th>\n",
       "      <th>fare_estimate_id</th>\n",
       "      <th>orderdate</th>\n",
       "      <th>hour</th>\n",
       "      <th>quarter_hour</th>\n",
       "      <th>week_period</th>\n",
       "      <th>pickup_hex</th>\n",
       "      <th>drop_hex</th>\n",
       "      <th>ride_time</th>\n",
       "      <th>surge</th>\n",
       "      <th>strategy</th>\n",
       "      <th>fe_count</th>\n",
       "    </tr>\n",
       "  </thead>\n",
       "  <tbody>\n",
       "    <tr>\n",
       "      <th>0</th>\n",
       "      <td>Hyderabad</td>\n",
       "      <td>6489f56af7e36b23adc0625a</td>\n",
       "      <td>2023-06-14</td>\n",
       "      <td>22</td>\n",
       "      <td>2230</td>\n",
       "      <td>Wednesday</td>\n",
       "      <td>8860b52c95fffff</td>\n",
       "      <td>8860b52cd1fffff</td>\n",
       "      <td>9.466667</td>\n",
       "      <td>11.45</td>\n",
       "      <td>hot_cold_surge</td>\n",
       "      <td>1</td>\n",
       "    </tr>\n",
       "    <tr>\n",
       "      <th>1</th>\n",
       "      <td>Hyderabad</td>\n",
       "      <td>6489a301c8627a535fca767b</td>\n",
       "      <td>2023-06-14</td>\n",
       "      <td>16</td>\n",
       "      <td>1645</td>\n",
       "      <td>Wednesday</td>\n",
       "      <td>8860a25997fffff</td>\n",
       "      <td>8860a24b57fffff</td>\n",
       "      <td>30.983333</td>\n",
       "      <td>51.96</td>\n",
       "      <td>mismatch</td>\n",
       "      <td>1</td>\n",
       "    </tr>\n",
       "    <tr>\n",
       "      <th>2</th>\n",
       "      <td>Hyderabad</td>\n",
       "      <td>64898d8e84b5ef46fc36fe6c</td>\n",
       "      <td>2023-06-14</td>\n",
       "      <td>15</td>\n",
       "      <td>1515</td>\n",
       "      <td>Wednesday</td>\n",
       "      <td>8860b52ed5fffff</td>\n",
       "      <td>8860b52ecbfffff</td>\n",
       "      <td>7.266667</td>\n",
       "      <td>0.00</td>\n",
       "      <td>None</td>\n",
       "      <td>1</td>\n",
       "    </tr>\n",
       "    <tr>\n",
       "      <th>3</th>\n",
       "      <td>Hyderabad</td>\n",
       "      <td>64896ea96fd99d65a3723152</td>\n",
       "      <td>2023-06-14</td>\n",
       "      <td>13</td>\n",
       "      <td>1300</td>\n",
       "      <td>Wednesday</td>\n",
       "      <td>8860b52d87fffff</td>\n",
       "      <td>8860b52d83fffff</td>\n",
       "      <td>3.733333</td>\n",
       "      <td>9.00</td>\n",
       "      <td>surge_dashboard_rule</td>\n",
       "      <td>1</td>\n",
       "    </tr>\n",
       "    <tr>\n",
       "      <th>4</th>\n",
       "      <td>Hyderabad</td>\n",
       "      <td>6489995284b5ef5107374f9d</td>\n",
       "      <td>2023-06-14</td>\n",
       "      <td>16</td>\n",
       "      <td>1600</td>\n",
       "      <td>Wednesday</td>\n",
       "      <td>8860b194c3fffff</td>\n",
       "      <td>8860b196b1fffff</td>\n",
       "      <td>11.566667</td>\n",
       "      <td>0.00</td>\n",
       "      <td>None</td>\n",
       "      <td>1</td>\n",
       "    </tr>\n",
       "  </tbody>\n",
       "</table>\n",
       "</div>"
      ],
      "text/plain": [
       "        city          fare_estimate_id   orderdate hour quarter_hour  \\\n",
       "0  Hyderabad  6489f56af7e36b23adc0625a  2023-06-14   22         2230   \n",
       "1  Hyderabad  6489a301c8627a535fca767b  2023-06-14   16         1645   \n",
       "2  Hyderabad  64898d8e84b5ef46fc36fe6c  2023-06-14   15         1515   \n",
       "3  Hyderabad  64896ea96fd99d65a3723152  2023-06-14   13         1300   \n",
       "4  Hyderabad  6489995284b5ef5107374f9d  2023-06-14   16         1600   \n",
       "\n",
       "  week_period       pickup_hex         drop_hex  ride_time  surge  \\\n",
       "0   Wednesday  8860b52c95fffff  8860b52cd1fffff   9.466667  11.45   \n",
       "1   Wednesday  8860a25997fffff  8860a24b57fffff  30.983333  51.96   \n",
       "2   Wednesday  8860b52ed5fffff  8860b52ecbfffff   7.266667   0.00   \n",
       "3   Wednesday  8860b52d87fffff  8860b52d83fffff   3.733333   9.00   \n",
       "4   Wednesday  8860b194c3fffff  8860b196b1fffff  11.566667   0.00   \n",
       "\n",
       "               strategy  fe_count  \n",
       "0        hot_cold_surge         1  \n",
       "1              mismatch         1  \n",
       "2                  None         1  \n",
       "3  surge_dashboard_rule         1  \n",
       "4                  None         1  "
      ]
     },
     "execution_count": 75,
     "metadata": {},
     "output_type": "execute_result"
    }
   ],
   "source": [
    "fe_all.shape\n",
    "fe_all.head()"
   ]
  },
  {
   "cell_type": "code",
   "execution_count": 76,
   "metadata": {},
   "outputs": [
    {
     "data": {
      "text/html": [
       "<div>\n",
       "<style scoped>\n",
       "    .dataframe tbody tr th:only-of-type {\n",
       "        vertical-align: middle;\n",
       "    }\n",
       "\n",
       "    .dataframe tbody tr th {\n",
       "        vertical-align: top;\n",
       "    }\n",
       "\n",
       "    .dataframe thead th {\n",
       "        text-align: right;\n",
       "    }\n",
       "</style>\n",
       "<table border=\"1\" class=\"dataframe\">\n",
       "  <thead>\n",
       "    <tr style=\"text-align: right;\">\n",
       "      <th></th>\n",
       "      <th>hex_id</th>\n",
       "      <th>cluster</th>\n",
       "    </tr>\n",
       "  </thead>\n",
       "  <tbody>\n",
       "    <tr>\n",
       "      <th>0</th>\n",
       "      <td>8860b52e49fffff</td>\n",
       "      <td>Hayath Nagar</td>\n",
       "    </tr>\n",
       "    <tr>\n",
       "      <th>1</th>\n",
       "      <td>8860a25b2bfffff</td>\n",
       "      <td>Himayatnagar</td>\n",
       "    </tr>\n",
       "    <tr>\n",
       "      <th>2</th>\n",
       "      <td>8860b194edfffff</td>\n",
       "      <td>Suraram</td>\n",
       "    </tr>\n",
       "    <tr>\n",
       "      <th>3</th>\n",
       "      <td>8860b52cb9fffff</td>\n",
       "      <td>Marredpally</td>\n",
       "    </tr>\n",
       "    <tr>\n",
       "      <th>4</th>\n",
       "      <td>8860a2498dfffff</td>\n",
       "      <td>kistareddypet</td>\n",
       "    </tr>\n",
       "  </tbody>\n",
       "</table>\n",
       "</div>"
      ],
      "text/plain": [
       "            hex_id        cluster\n",
       "0  8860b52e49fffff   Hayath Nagar\n",
       "1  8860a25b2bfffff   Himayatnagar\n",
       "2  8860b194edfffff        Suraram\n",
       "3  8860b52cb9fffff    Marredpally\n",
       "4  8860a2498dfffff  kistareddypet"
      ]
     },
     "execution_count": 76,
     "metadata": {},
     "output_type": "execute_result"
    }
   ],
   "source": [
    "city_clus.head()"
   ]
  },
  {
   "cell_type": "code",
   "execution_count": 77,
   "metadata": {
    "scrolled": true
   },
   "outputs": [
    {
     "data": {
      "text/plain": [
       "(884, 4)"
      ]
     },
     "execution_count": 77,
     "metadata": {},
     "output_type": "execute_result"
    },
    {
     "data": {
      "text/html": [
       "<div>\n",
       "<style scoped>\n",
       "    .dataframe tbody tr th:only-of-type {\n",
       "        vertical-align: middle;\n",
       "    }\n",
       "\n",
       "    .dataframe tbody tr th {\n",
       "        vertical-align: top;\n",
       "    }\n",
       "\n",
       "    .dataframe thead th {\n",
       "        text-align: right;\n",
       "    }\n",
       "</style>\n",
       "<table border=\"1\" class=\"dataframe\">\n",
       "  <thead>\n",
       "    <tr style=\"text-align: right;\">\n",
       "      <th></th>\n",
       "      <th>pickup_cluster</th>\n",
       "      <th>week_period</th>\n",
       "      <th>hour</th>\n",
       "      <th>segment</th>\n",
       "    </tr>\n",
       "  </thead>\n",
       "  <tbody>\n",
       "    <tr>\n",
       "      <th>0</th>\n",
       "      <td>Hitech City</td>\n",
       "      <td>Thursday</td>\n",
       "      <td>19</td>\n",
       "      <td>TOP</td>\n",
       "    </tr>\n",
       "    <tr>\n",
       "      <th>1</th>\n",
       "      <td>Hitech City</td>\n",
       "      <td>Thursday</td>\n",
       "      <td>18</td>\n",
       "      <td>TOP</td>\n",
       "    </tr>\n",
       "    <tr>\n",
       "      <th>2</th>\n",
       "      <td>Hitech City</td>\n",
       "      <td>Tuesday</td>\n",
       "      <td>18</td>\n",
       "      <td>TOP</td>\n",
       "    </tr>\n",
       "    <tr>\n",
       "      <th>3</th>\n",
       "      <td>Hitech City</td>\n",
       "      <td>Tuesday</td>\n",
       "      <td>19</td>\n",
       "      <td>TOP</td>\n",
       "    </tr>\n",
       "    <tr>\n",
       "      <th>4</th>\n",
       "      <td>Hitech City</td>\n",
       "      <td>Thursday</td>\n",
       "      <td>20</td>\n",
       "      <td>TOP</td>\n",
       "    </tr>\n",
       "  </tbody>\n",
       "</table>\n",
       "</div>"
      ],
      "text/plain": [
       "  pickup_cluster week_period hour segment\n",
       "0    Hitech City    Thursday   19     TOP\n",
       "1    Hitech City    Thursday   18     TOP\n",
       "2    Hitech City     Tuesday   18     TOP\n",
       "3    Hitech City     Tuesday   19     TOP\n",
       "4    Hitech City    Thursday   20     TOP"
      ]
     },
     "execution_count": 77,
     "metadata": {},
     "output_type": "execute_result"
    }
   ],
   "source": [
    "top_slice.shape\n",
    "top_slice.head()"
   ]
  },
  {
   "cell_type": "markdown",
   "metadata": {},
   "source": [
    "___"
   ]
  },
  {
   "cell_type": "markdown",
   "metadata": {},
   "source": [
    "___"
   ]
  },
  {
   "cell_type": "markdown",
   "metadata": {},
   "source": [
    "<div class=\"alert alert-block alert-info\">\n",
    "\n",
    "# Cleaning FE Data\n",
    "</div>"
   ]
  },
  {
   "cell_type": "markdown",
   "metadata": {},
   "source": [
    "___"
   ]
  },
  {
   "cell_type": "code",
   "execution_count": 78,
   "metadata": {},
   "outputs": [],
   "source": [
    "pick_df = city_clus.copy()\n",
    "drop_df = city_clus.copy()"
   ]
  },
  {
   "cell_type": "code",
   "execution_count": 79,
   "metadata": {},
   "outputs": [],
   "source": [
    "pick_df.columns = ['pickup_hex', 'pickup_cluster']\n",
    "drop_df.columns = ['drop_hex', 'drop_cluster']"
   ]
  },
  {
   "cell_type": "code",
   "execution_count": 80,
   "metadata": {},
   "outputs": [],
   "source": [
    "fe_all = pd.merge(fe_all,pick_df,on='pickup_hex',how='left')\n",
    "fe_all = pd.merge(fe_all,drop_df,on='drop_hex',how='left')"
   ]
  },
  {
   "cell_type": "code",
   "execution_count": 81,
   "metadata": {},
   "outputs": [],
   "source": [
    "fe_data = fe_all[['city', 'fare_estimate_id', 'orderdate', 'hour', 'quarter_hour','week_period', \n",
    "        'pickup_cluster', 'drop_cluster', 'ride_time', 'surge','strategy', 'fe_count']]"
   ]
  },
  {
   "cell_type": "code",
   "execution_count": 82,
   "metadata": {},
   "outputs": [
    {
     "name": "stderr",
     "output_type": "stream",
     "text": [
      "<ipython-input-82-dfeb15525c18>:1: SettingWithCopyWarning: \n",
      "A value is trying to be set on a copy of a slice from a DataFrame.\n",
      "Try using .loc[row_indexer,col_indexer] = value instead\n",
      "\n",
      "See the caveats in the documentation: https://pandas.pydata.org/pandas-docs/stable/user_guide/indexing.html#returning-a-view-versus-a-copy\n",
      "  fe_data['strategy'] = fe_data['strategy'].fillna('no_surge')\n"
     ]
    }
   ],
   "source": [
    "fe_data['strategy'] = fe_data['strategy'].fillna('no_surge')"
   ]
  },
  {
   "cell_type": "code",
   "execution_count": 83,
   "metadata": {},
   "outputs": [
    {
     "data": {
      "text/html": [
       "<div>\n",
       "<style scoped>\n",
       "    .dataframe tbody tr th:only-of-type {\n",
       "        vertical-align: middle;\n",
       "    }\n",
       "\n",
       "    .dataframe tbody tr th {\n",
       "        vertical-align: top;\n",
       "    }\n",
       "\n",
       "    .dataframe thead th {\n",
       "        text-align: right;\n",
       "    }\n",
       "</style>\n",
       "<table border=\"1\" class=\"dataframe\">\n",
       "  <thead>\n",
       "    <tr style=\"text-align: right;\">\n",
       "      <th></th>\n",
       "      <th>city</th>\n",
       "      <th>fare_estimate_id</th>\n",
       "      <th>orderdate</th>\n",
       "      <th>hour</th>\n",
       "      <th>quarter_hour</th>\n",
       "      <th>week_period</th>\n",
       "      <th>pickup_cluster</th>\n",
       "      <th>drop_cluster</th>\n",
       "      <th>ride_time</th>\n",
       "      <th>surge</th>\n",
       "      <th>strategy</th>\n",
       "      <th>fe_count</th>\n",
       "    </tr>\n",
       "  </thead>\n",
       "  <tbody>\n",
       "    <tr>\n",
       "      <th>0</th>\n",
       "      <td>Hyderabad</td>\n",
       "      <td>6489f56af7e36b23adc0625a</td>\n",
       "      <td>2023-06-14</td>\n",
       "      <td>22</td>\n",
       "      <td>2230</td>\n",
       "      <td>Wednesday</td>\n",
       "      <td>Secunderabad East</td>\n",
       "      <td>Padmarao Nagar</td>\n",
       "      <td>9.466667</td>\n",
       "      <td>11.45</td>\n",
       "      <td>hot_cold_surge</td>\n",
       "      <td>1</td>\n",
       "    </tr>\n",
       "    <tr>\n",
       "      <th>1</th>\n",
       "      <td>Hyderabad</td>\n",
       "      <td>6489a301c8627a535fca767b</td>\n",
       "      <td>2023-06-14</td>\n",
       "      <td>16</td>\n",
       "      <td>1645</td>\n",
       "      <td>Wednesday</td>\n",
       "      <td>Hitech City</td>\n",
       "      <td>Kothaguda</td>\n",
       "      <td>30.983333</td>\n",
       "      <td>51.96</td>\n",
       "      <td>mismatch</td>\n",
       "      <td>1</td>\n",
       "    </tr>\n",
       "    <tr>\n",
       "      <th>2</th>\n",
       "      <td>Hyderabad</td>\n",
       "      <td>64898d8e84b5ef46fc36fe6c</td>\n",
       "      <td>2023-06-14</td>\n",
       "      <td>15</td>\n",
       "      <td>1515</td>\n",
       "      <td>Wednesday</td>\n",
       "      <td>Nagole</td>\n",
       "      <td>Mansoorabad</td>\n",
       "      <td>7.266667</td>\n",
       "      <td>0.00</td>\n",
       "      <td>no_surge</td>\n",
       "      <td>1</td>\n",
       "    </tr>\n",
       "    <tr>\n",
       "      <th>3</th>\n",
       "      <td>Hyderabad</td>\n",
       "      <td>64896ea96fd99d65a3723152</td>\n",
       "      <td>2023-06-14</td>\n",
       "      <td>13</td>\n",
       "      <td>1300</td>\n",
       "      <td>Wednesday</td>\n",
       "      <td>sainikpuri</td>\n",
       "      <td>sainikpuri</td>\n",
       "      <td>3.733333</td>\n",
       "      <td>9.00</td>\n",
       "      <td>surge_dashboard_rule</td>\n",
       "      <td>1</td>\n",
       "    </tr>\n",
       "    <tr>\n",
       "      <th>4</th>\n",
       "      <td>Hyderabad</td>\n",
       "      <td>6489995284b5ef5107374f9d</td>\n",
       "      <td>2023-06-14</td>\n",
       "      <td>16</td>\n",
       "      <td>1600</td>\n",
       "      <td>Wednesday</td>\n",
       "      <td>Jeedimetla</td>\n",
       "      <td>Balanagar</td>\n",
       "      <td>11.566667</td>\n",
       "      <td>0.00</td>\n",
       "      <td>no_surge</td>\n",
       "      <td>1</td>\n",
       "    </tr>\n",
       "  </tbody>\n",
       "</table>\n",
       "</div>"
      ],
      "text/plain": [
       "        city          fare_estimate_id   orderdate hour quarter_hour  \\\n",
       "0  Hyderabad  6489f56af7e36b23adc0625a  2023-06-14   22         2230   \n",
       "1  Hyderabad  6489a301c8627a535fca767b  2023-06-14   16         1645   \n",
       "2  Hyderabad  64898d8e84b5ef46fc36fe6c  2023-06-14   15         1515   \n",
       "3  Hyderabad  64896ea96fd99d65a3723152  2023-06-14   13         1300   \n",
       "4  Hyderabad  6489995284b5ef5107374f9d  2023-06-14   16         1600   \n",
       "\n",
       "  week_period     pickup_cluster    drop_cluster  ride_time  surge  \\\n",
       "0   Wednesday  Secunderabad East  Padmarao Nagar   9.466667  11.45   \n",
       "1   Wednesday        Hitech City       Kothaguda  30.983333  51.96   \n",
       "2   Wednesday            Nagole      Mansoorabad   7.266667   0.00   \n",
       "3   Wednesday         sainikpuri      sainikpuri   3.733333   9.00   \n",
       "4   Wednesday         Jeedimetla       Balanagar  11.566667   0.00   \n",
       "\n",
       "               strategy  fe_count  \n",
       "0        hot_cold_surge         1  \n",
       "1              mismatch         1  \n",
       "2              no_surge         1  \n",
       "3  surge_dashboard_rule         1  \n",
       "4              no_surge         1  "
      ]
     },
     "execution_count": 83,
     "metadata": {},
     "output_type": "execute_result"
    }
   ],
   "source": [
    "fe_data.head()"
   ]
  },
  {
   "cell_type": "markdown",
   "metadata": {},
   "source": [
    "___"
   ]
  },
  {
   "cell_type": "markdown",
   "metadata": {},
   "source": [
    "___"
   ]
  },
  {
   "cell_type": "markdown",
   "metadata": {},
   "source": [
    "<div class=\"alert alert-block alert-danger\">\n",
    "\n",
    "# Top Unfulfilled Routes\n",
    "</div>"
   ]
  },
  {
   "cell_type": "markdown",
   "metadata": {},
   "source": [
    "___"
   ]
  },
  {
   "cell_type": "markdown",
   "metadata": {},
   "source": [
    "<div class=\"alert alert-block alert-info\">\n",
    "\n",
    "## X% Top Slices\n",
    "</div>"
   ]
  },
  {
   "cell_type": "markdown",
   "metadata": {},
   "source": [
    "___"
   ]
  },
  {
   "cell_type": "code",
   "execution_count": 84,
   "metadata": {},
   "outputs": [],
   "source": [
    "top_geo_slice = top_slice.copy()"
   ]
  },
  {
   "cell_type": "code",
   "execution_count": 85,
   "metadata": {},
   "outputs": [],
   "source": [
    "def peaks(df):\n",
    "    hr = int(df['hour'])\n",
    "    \n",
    "    if hr>=0 and hr<8:\n",
    "        return 'rest_morning'\n",
    "    elif hr>=8 and hr<=11:\n",
    "        return 'morning_peak'\n",
    "    elif hr>11 and hr<17:\n",
    "        return 'afternoon'\n",
    "    elif hr>=17 and hr <=21:\n",
    "        return 'evening_peak'\n",
    "    else:\n",
    "        return 'rest_evening'\n",
    "    \n",
    "top_geo_slice['time_period'] = top_geo_slice.apply(peaks,axis=1)"
   ]
  },
  {
   "cell_type": "code",
   "execution_count": 86,
   "metadata": {},
   "outputs": [],
   "source": [
    "top_geo_slice['clus_id'] = top_geo_slice['pickup_cluster']+'_'+top_geo_slice[\n",
    "    'week_period']+'_'+top_geo_slice['hour']"
   ]
  },
  {
   "cell_type": "code",
   "execution_count": 87,
   "metadata": {},
   "outputs": [],
   "source": [
    "top_geo_slice['week_id'] = top_geo_slice['pickup_cluster']+'_'+top_geo_slice['week_period']"
   ]
  },
  {
   "cell_type": "code",
   "execution_count": 88,
   "metadata": {},
   "outputs": [],
   "source": [
    "top_geo_slice['h_id'] = top_geo_slice['pickup_cluster']+'_'+top_geo_slice['time_period']"
   ]
  },
  {
   "cell_type": "code",
   "execution_count": 89,
   "metadata": {},
   "outputs": [
    {
     "data": {
      "text/plain": [
       "(884, 8)"
      ]
     },
     "execution_count": 89,
     "metadata": {},
     "output_type": "execute_result"
    },
    {
     "data": {
      "text/html": [
       "<div>\n",
       "<style scoped>\n",
       "    .dataframe tbody tr th:only-of-type {\n",
       "        vertical-align: middle;\n",
       "    }\n",
       "\n",
       "    .dataframe tbody tr th {\n",
       "        vertical-align: top;\n",
       "    }\n",
       "\n",
       "    .dataframe thead th {\n",
       "        text-align: right;\n",
       "    }\n",
       "</style>\n",
       "<table border=\"1\" class=\"dataframe\">\n",
       "  <thead>\n",
       "    <tr style=\"text-align: right;\">\n",
       "      <th></th>\n",
       "      <th>pickup_cluster</th>\n",
       "      <th>week_period</th>\n",
       "      <th>hour</th>\n",
       "      <th>segment</th>\n",
       "      <th>time_period</th>\n",
       "      <th>clus_id</th>\n",
       "      <th>week_id</th>\n",
       "      <th>h_id</th>\n",
       "    </tr>\n",
       "  </thead>\n",
       "  <tbody>\n",
       "    <tr>\n",
       "      <th>0</th>\n",
       "      <td>Hitech City</td>\n",
       "      <td>Thursday</td>\n",
       "      <td>19</td>\n",
       "      <td>TOP</td>\n",
       "      <td>evening_peak</td>\n",
       "      <td>Hitech City_Thursday_19</td>\n",
       "      <td>Hitech City_Thursday</td>\n",
       "      <td>Hitech City_evening_peak</td>\n",
       "    </tr>\n",
       "    <tr>\n",
       "      <th>1</th>\n",
       "      <td>Hitech City</td>\n",
       "      <td>Thursday</td>\n",
       "      <td>18</td>\n",
       "      <td>TOP</td>\n",
       "      <td>evening_peak</td>\n",
       "      <td>Hitech City_Thursday_18</td>\n",
       "      <td>Hitech City_Thursday</td>\n",
       "      <td>Hitech City_evening_peak</td>\n",
       "    </tr>\n",
       "    <tr>\n",
       "      <th>2</th>\n",
       "      <td>Hitech City</td>\n",
       "      <td>Tuesday</td>\n",
       "      <td>18</td>\n",
       "      <td>TOP</td>\n",
       "      <td>evening_peak</td>\n",
       "      <td>Hitech City_Tuesday_18</td>\n",
       "      <td>Hitech City_Tuesday</td>\n",
       "      <td>Hitech City_evening_peak</td>\n",
       "    </tr>\n",
       "    <tr>\n",
       "      <th>3</th>\n",
       "      <td>Hitech City</td>\n",
       "      <td>Tuesday</td>\n",
       "      <td>19</td>\n",
       "      <td>TOP</td>\n",
       "      <td>evening_peak</td>\n",
       "      <td>Hitech City_Tuesday_19</td>\n",
       "      <td>Hitech City_Tuesday</td>\n",
       "      <td>Hitech City_evening_peak</td>\n",
       "    </tr>\n",
       "    <tr>\n",
       "      <th>4</th>\n",
       "      <td>Hitech City</td>\n",
       "      <td>Thursday</td>\n",
       "      <td>20</td>\n",
       "      <td>TOP</td>\n",
       "      <td>evening_peak</td>\n",
       "      <td>Hitech City_Thursday_20</td>\n",
       "      <td>Hitech City_Thursday</td>\n",
       "      <td>Hitech City_evening_peak</td>\n",
       "    </tr>\n",
       "  </tbody>\n",
       "</table>\n",
       "</div>"
      ],
      "text/plain": [
       "  pickup_cluster week_period hour segment   time_period  \\\n",
       "0    Hitech City    Thursday   19     TOP  evening_peak   \n",
       "1    Hitech City    Thursday   18     TOP  evening_peak   \n",
       "2    Hitech City     Tuesday   18     TOP  evening_peak   \n",
       "3    Hitech City     Tuesday   19     TOP  evening_peak   \n",
       "4    Hitech City    Thursday   20     TOP  evening_peak   \n",
       "\n",
       "                   clus_id               week_id                      h_id  \n",
       "0  Hitech City_Thursday_19  Hitech City_Thursday  Hitech City_evening_peak  \n",
       "1  Hitech City_Thursday_18  Hitech City_Thursday  Hitech City_evening_peak  \n",
       "2   Hitech City_Tuesday_18   Hitech City_Tuesday  Hitech City_evening_peak  \n",
       "3   Hitech City_Tuesday_19   Hitech City_Tuesday  Hitech City_evening_peak  \n",
       "4  Hitech City_Thursday_20  Hitech City_Thursday  Hitech City_evening_peak  "
      ]
     },
     "execution_count": 89,
     "metadata": {},
     "output_type": "execute_result"
    }
   ],
   "source": [
    "top_geo_slice.shape\n",
    "top_geo_slice.head()"
   ]
  },
  {
   "cell_type": "markdown",
   "metadata": {},
   "source": [
    "___"
   ]
  },
  {
   "cell_type": "markdown",
   "metadata": {},
   "source": [
    "___"
   ]
  },
  {
   "cell_type": "markdown",
   "metadata": {},
   "source": [
    "<div class=\"alert alert-block alert-danger\">\n",
    "\n",
    "# Finding SRuD Routes For Top Unfulfilled Slices\n",
    "</div>"
   ]
  },
  {
   "cell_type": "markdown",
   "metadata": {},
   "source": [
    "___"
   ]
  },
  {
   "cell_type": "markdown",
   "metadata": {},
   "source": [
    "<div class=\"alert alert-block alert-info\">\n",
    "\n",
    "# Ride Time Stats\n",
    "</div>"
   ]
  },
  {
   "cell_type": "markdown",
   "metadata": {},
   "source": [
    "___"
   ]
  },
  {
   "cell_type": "code",
   "execution_count": 90,
   "metadata": {},
   "outputs": [],
   "source": [
    "all_clus_fe = fe_data[fe_data['pickup_cluster']!='']\n",
    "all_clus_fe = all_clus_fe[~all_clus_fe['pickup_cluster'].isna()]\n",
    "all_clus_fe = all_clus_fe[all_clus_fe['drop_cluster']!='']\n",
    "all_clus_fe = all_clus_fe[~all_clus_fe['drop_cluster'].isna()]"
   ]
  },
  {
   "cell_type": "code",
   "execution_count": 91,
   "metadata": {},
   "outputs": [],
   "source": [
    "all_clus_fe = all_clus_fe[(all_clus_fe['ride_time']>1)&(all_clus_fe['ride_time']<125)].reset_index(drop=True)"
   ]
  },
  {
   "cell_type": "code",
   "execution_count": 92,
   "metadata": {},
   "outputs": [
    {
     "data": {
      "text/plain": [
       "(9661186, 12)"
      ]
     },
     "execution_count": 92,
     "metadata": {},
     "output_type": "execute_result"
    },
    {
     "data": {
      "text/html": [
       "<div>\n",
       "<style scoped>\n",
       "    .dataframe tbody tr th:only-of-type {\n",
       "        vertical-align: middle;\n",
       "    }\n",
       "\n",
       "    .dataframe tbody tr th {\n",
       "        vertical-align: top;\n",
       "    }\n",
       "\n",
       "    .dataframe thead th {\n",
       "        text-align: right;\n",
       "    }\n",
       "</style>\n",
       "<table border=\"1\" class=\"dataframe\">\n",
       "  <thead>\n",
       "    <tr style=\"text-align: right;\">\n",
       "      <th></th>\n",
       "      <th>city</th>\n",
       "      <th>fare_estimate_id</th>\n",
       "      <th>orderdate</th>\n",
       "      <th>hour</th>\n",
       "      <th>quarter_hour</th>\n",
       "      <th>week_period</th>\n",
       "      <th>pickup_cluster</th>\n",
       "      <th>drop_cluster</th>\n",
       "      <th>ride_time</th>\n",
       "      <th>surge</th>\n",
       "      <th>strategy</th>\n",
       "      <th>fe_count</th>\n",
       "    </tr>\n",
       "  </thead>\n",
       "  <tbody>\n",
       "    <tr>\n",
       "      <th>0</th>\n",
       "      <td>Hyderabad</td>\n",
       "      <td>6489f56af7e36b23adc0625a</td>\n",
       "      <td>2023-06-14</td>\n",
       "      <td>22</td>\n",
       "      <td>2230</td>\n",
       "      <td>Wednesday</td>\n",
       "      <td>Secunderabad East</td>\n",
       "      <td>Padmarao Nagar</td>\n",
       "      <td>9.466667</td>\n",
       "      <td>11.45</td>\n",
       "      <td>hot_cold_surge</td>\n",
       "      <td>1</td>\n",
       "    </tr>\n",
       "    <tr>\n",
       "      <th>1</th>\n",
       "      <td>Hyderabad</td>\n",
       "      <td>6489a301c8627a535fca767b</td>\n",
       "      <td>2023-06-14</td>\n",
       "      <td>16</td>\n",
       "      <td>1645</td>\n",
       "      <td>Wednesday</td>\n",
       "      <td>Hitech City</td>\n",
       "      <td>Kothaguda</td>\n",
       "      <td>30.983333</td>\n",
       "      <td>51.96</td>\n",
       "      <td>mismatch</td>\n",
       "      <td>1</td>\n",
       "    </tr>\n",
       "    <tr>\n",
       "      <th>2</th>\n",
       "      <td>Hyderabad</td>\n",
       "      <td>64898d8e84b5ef46fc36fe6c</td>\n",
       "      <td>2023-06-14</td>\n",
       "      <td>15</td>\n",
       "      <td>1515</td>\n",
       "      <td>Wednesday</td>\n",
       "      <td>Nagole</td>\n",
       "      <td>Mansoorabad</td>\n",
       "      <td>7.266667</td>\n",
       "      <td>0.00</td>\n",
       "      <td>no_surge</td>\n",
       "      <td>1</td>\n",
       "    </tr>\n",
       "    <tr>\n",
       "      <th>3</th>\n",
       "      <td>Hyderabad</td>\n",
       "      <td>64896ea96fd99d65a3723152</td>\n",
       "      <td>2023-06-14</td>\n",
       "      <td>13</td>\n",
       "      <td>1300</td>\n",
       "      <td>Wednesday</td>\n",
       "      <td>sainikpuri</td>\n",
       "      <td>sainikpuri</td>\n",
       "      <td>3.733333</td>\n",
       "      <td>9.00</td>\n",
       "      <td>surge_dashboard_rule</td>\n",
       "      <td>1</td>\n",
       "    </tr>\n",
       "    <tr>\n",
       "      <th>4</th>\n",
       "      <td>Hyderabad</td>\n",
       "      <td>6489995284b5ef5107374f9d</td>\n",
       "      <td>2023-06-14</td>\n",
       "      <td>16</td>\n",
       "      <td>1600</td>\n",
       "      <td>Wednesday</td>\n",
       "      <td>Jeedimetla</td>\n",
       "      <td>Balanagar</td>\n",
       "      <td>11.566667</td>\n",
       "      <td>0.00</td>\n",
       "      <td>no_surge</td>\n",
       "      <td>1</td>\n",
       "    </tr>\n",
       "  </tbody>\n",
       "</table>\n",
       "</div>"
      ],
      "text/plain": [
       "        city          fare_estimate_id   orderdate hour quarter_hour  \\\n",
       "0  Hyderabad  6489f56af7e36b23adc0625a  2023-06-14   22         2230   \n",
       "1  Hyderabad  6489a301c8627a535fca767b  2023-06-14   16         1645   \n",
       "2  Hyderabad  64898d8e84b5ef46fc36fe6c  2023-06-14   15         1515   \n",
       "3  Hyderabad  64896ea96fd99d65a3723152  2023-06-14   13         1300   \n",
       "4  Hyderabad  6489995284b5ef5107374f9d  2023-06-14   16         1600   \n",
       "\n",
       "  week_period     pickup_cluster    drop_cluster  ride_time  surge  \\\n",
       "0   Wednesday  Secunderabad East  Padmarao Nagar   9.466667  11.45   \n",
       "1   Wednesday        Hitech City       Kothaguda  30.983333  51.96   \n",
       "2   Wednesday            Nagole      Mansoorabad   7.266667   0.00   \n",
       "3   Wednesday         sainikpuri      sainikpuri   3.733333   9.00   \n",
       "4   Wednesday         Jeedimetla       Balanagar  11.566667   0.00   \n",
       "\n",
       "               strategy  fe_count  \n",
       "0        hot_cold_surge         1  \n",
       "1              mismatch         1  \n",
       "2              no_surge         1  \n",
       "3  surge_dashboard_rule         1  \n",
       "4              no_surge         1  "
      ]
     },
     "execution_count": 92,
     "metadata": {},
     "output_type": "execute_result"
    }
   ],
   "source": [
    "all_clus_fe.shape\n",
    "all_clus_fe.head()"
   ]
  },
  {
   "cell_type": "code",
   "execution_count": 93,
   "metadata": {},
   "outputs": [],
   "source": [
    "ride_time_stats = all_clus_fe.groupby(['pickup_cluster','drop_cluster','week_period',\n",
    "                                   'hour'])['ride_time'].mean().reset_index()\n",
    "ride_time_stats['ride_time'] = round(ride_time_stats['ride_time'],0)"
   ]
  },
  {
   "cell_type": "code",
   "execution_count": 94,
   "metadata": {},
   "outputs": [],
   "source": [
    "ride_time_stats['clus_id'] = ride_time_stats['drop_cluster']+'_'+ride_time_stats['week_period']"
   ]
  },
  {
   "cell_type": "code",
   "execution_count": 95,
   "metadata": {},
   "outputs": [],
   "source": [
    "top_clus_week = list(top_geo_slice['week_id'].unique())"
   ]
  },
  {
   "cell_type": "code",
   "execution_count": 96,
   "metadata": {},
   "outputs": [],
   "source": [
    "top_ride_time_stats = ride_time_stats[ride_time_stats['clus_id'].isin(top_clus_week)].reset_index(drop=True)"
   ]
  },
  {
   "cell_type": "code",
   "execution_count": 97,
   "metadata": {},
   "outputs": [],
   "source": [
    "top_ride_time_stats = top_ride_time_stats.sort_values('clus_id').reset_index(drop=True)"
   ]
  },
  {
   "cell_type": "code",
   "execution_count": 98,
   "metadata": {},
   "outputs": [],
   "source": [
    "top_ride_time_stats['ds'] = pd.to_datetime(END_DATE+':'+top_ride_time_stats['hour'], format='%Y%m%d:%H')"
   ]
  },
  {
   "cell_type": "code",
   "execution_count": 99,
   "metadata": {},
   "outputs": [
    {
     "data": {
      "text/html": [
       "<div>\n",
       "<style scoped>\n",
       "    .dataframe tbody tr th:only-of-type {\n",
       "        vertical-align: middle;\n",
       "    }\n",
       "\n",
       "    .dataframe tbody tr th {\n",
       "        vertical-align: top;\n",
       "    }\n",
       "\n",
       "    .dataframe thead th {\n",
       "        text-align: right;\n",
       "    }\n",
       "</style>\n",
       "<table border=\"1\" class=\"dataframe\">\n",
       "  <thead>\n",
       "    <tr style=\"text-align: right;\">\n",
       "      <th></th>\n",
       "      <th>pickup_cluster</th>\n",
       "      <th>drop_cluster</th>\n",
       "      <th>week_period</th>\n",
       "      <th>hour</th>\n",
       "      <th>ride_time</th>\n",
       "      <th>clus_id</th>\n",
       "      <th>ds</th>\n",
       "    </tr>\n",
       "  </thead>\n",
       "  <tbody>\n",
       "    <tr>\n",
       "      <th>0</th>\n",
       "      <td>AOC Centre</td>\n",
       "      <td>Abids</td>\n",
       "      <td>Friday</td>\n",
       "      <td>12</td>\n",
       "      <td>45.0</td>\n",
       "      <td>Abids_Friday</td>\n",
       "      <td>2023-06-25 12:00:00</td>\n",
       "    </tr>\n",
       "    <tr>\n",
       "      <th>1</th>\n",
       "      <td>Musheerabad Metro</td>\n",
       "      <td>Abids</td>\n",
       "      <td>Friday</td>\n",
       "      <td>09</td>\n",
       "      <td>13.0</td>\n",
       "      <td>Abids_Friday</td>\n",
       "      <td>2023-06-25 09:00:00</td>\n",
       "    </tr>\n",
       "    <tr>\n",
       "      <th>2</th>\n",
       "      <td>Musheerabad Metro</td>\n",
       "      <td>Abids</td>\n",
       "      <td>Friday</td>\n",
       "      <td>10</td>\n",
       "      <td>18.0</td>\n",
       "      <td>Abids_Friday</td>\n",
       "      <td>2023-06-25 10:00:00</td>\n",
       "    </tr>\n",
       "    <tr>\n",
       "      <th>3</th>\n",
       "      <td>Musheerabad Metro</td>\n",
       "      <td>Abids</td>\n",
       "      <td>Friday</td>\n",
       "      <td>11</td>\n",
       "      <td>15.0</td>\n",
       "      <td>Abids_Friday</td>\n",
       "      <td>2023-06-25 11:00:00</td>\n",
       "    </tr>\n",
       "    <tr>\n",
       "      <th>4</th>\n",
       "      <td>Musheerabad Metro</td>\n",
       "      <td>Abids</td>\n",
       "      <td>Friday</td>\n",
       "      <td>13</td>\n",
       "      <td>17.0</td>\n",
       "      <td>Abids_Friday</td>\n",
       "      <td>2023-06-25 13:00:00</td>\n",
       "    </tr>\n",
       "    <tr>\n",
       "      <th>...</th>\n",
       "      <td>...</td>\n",
       "      <td>...</td>\n",
       "      <td>...</td>\n",
       "      <td>...</td>\n",
       "      <td>...</td>\n",
       "      <td>...</td>\n",
       "      <td>...</td>\n",
       "    </tr>\n",
       "    <tr>\n",
       "      <th>370798</th>\n",
       "      <td>Kukatpally</td>\n",
       "      <td>kistareddypet</td>\n",
       "      <td>Sunday</td>\n",
       "      <td>00</td>\n",
       "      <td>18.0</td>\n",
       "      <td>kistareddypet_Sunday</td>\n",
       "      <td>2023-06-25 00:00:00</td>\n",
       "    </tr>\n",
       "    <tr>\n",
       "      <th>370799</th>\n",
       "      <td>Ghatkesar</td>\n",
       "      <td>kistareddypet</td>\n",
       "      <td>Sunday</td>\n",
       "      <td>12</td>\n",
       "      <td>66.0</td>\n",
       "      <td>kistareddypet_Sunday</td>\n",
       "      <td>2023-06-25 12:00:00</td>\n",
       "    </tr>\n",
       "    <tr>\n",
       "      <th>370800</th>\n",
       "      <td>Ghatkesar</td>\n",
       "      <td>kistareddypet</td>\n",
       "      <td>Sunday</td>\n",
       "      <td>11</td>\n",
       "      <td>60.0</td>\n",
       "      <td>kistareddypet_Sunday</td>\n",
       "      <td>2023-06-25 11:00:00</td>\n",
       "    </tr>\n",
       "    <tr>\n",
       "      <th>370801</th>\n",
       "      <td>Rethibowli</td>\n",
       "      <td>kistareddypet</td>\n",
       "      <td>Sunday</td>\n",
       "      <td>18</td>\n",
       "      <td>66.0</td>\n",
       "      <td>kistareddypet_Sunday</td>\n",
       "      <td>2023-06-25 18:00:00</td>\n",
       "    </tr>\n",
       "    <tr>\n",
       "      <th>370802</th>\n",
       "      <td>shilparamam</td>\n",
       "      <td>kistareddypet</td>\n",
       "      <td>Sunday</td>\n",
       "      <td>18</td>\n",
       "      <td>101.0</td>\n",
       "      <td>kistareddypet_Sunday</td>\n",
       "      <td>2023-06-25 18:00:00</td>\n",
       "    </tr>\n",
       "  </tbody>\n",
       "</table>\n",
       "<p>370803 rows × 7 columns</p>\n",
       "</div>"
      ],
      "text/plain": [
       "           pickup_cluster   drop_cluster week_period hour  ride_time  \\\n",
       "0              AOC Centre          Abids      Friday   12       45.0   \n",
       "1       Musheerabad Metro          Abids      Friday   09       13.0   \n",
       "2       Musheerabad Metro          Abids      Friday   10       18.0   \n",
       "3       Musheerabad Metro          Abids      Friday   11       15.0   \n",
       "4       Musheerabad Metro          Abids      Friday   13       17.0   \n",
       "...                   ...            ...         ...  ...        ...   \n",
       "370798         Kukatpally  kistareddypet      Sunday   00       18.0   \n",
       "370799          Ghatkesar  kistareddypet      Sunday   12       66.0   \n",
       "370800          Ghatkesar  kistareddypet      Sunday   11       60.0   \n",
       "370801         Rethibowli  kistareddypet      Sunday   18       66.0   \n",
       "370802        shilparamam  kistareddypet      Sunday   18      101.0   \n",
       "\n",
       "                     clus_id                  ds  \n",
       "0               Abids_Friday 2023-06-25 12:00:00  \n",
       "1               Abids_Friday 2023-06-25 09:00:00  \n",
       "2               Abids_Friday 2023-06-25 10:00:00  \n",
       "3               Abids_Friday 2023-06-25 11:00:00  \n",
       "4               Abids_Friday 2023-06-25 13:00:00  \n",
       "...                      ...                 ...  \n",
       "370798  kistareddypet_Sunday 2023-06-25 00:00:00  \n",
       "370799  kistareddypet_Sunday 2023-06-25 12:00:00  \n",
       "370800  kistareddypet_Sunday 2023-06-25 11:00:00  \n",
       "370801  kistareddypet_Sunday 2023-06-25 18:00:00  \n",
       "370802  kistareddypet_Sunday 2023-06-25 18:00:00  \n",
       "\n",
       "[370803 rows x 7 columns]"
      ]
     },
     "execution_count": 99,
     "metadata": {},
     "output_type": "execute_result"
    }
   ],
   "source": [
    "top_ride_time_stats"
   ]
  },
  {
   "cell_type": "code",
   "execution_count": 100,
   "metadata": {},
   "outputs": [],
   "source": [
    "def start_time(df):\n",
    "    ride_time = df['ride_time']\n",
    "    start_ds = df['ds'] - timedelta(minutes=ride_time)\n",
    "    hr = start_ds.strftime(\"%H\")\n",
    "    mins = start_ds.strftime(\"%M\")\n",
    "    no_qh = int(int(mins)/15)\n",
    "    if no_qh == 0:\n",
    "        qr_hr = hr+'00'\n",
    "    elif no_qh == 1:\n",
    "        qr_hr = hr+'15'\n",
    "    elif no_qh == 2:\n",
    "        qr_hr = hr+'30'\n",
    "    elif no_qh == 3:\n",
    "        qr_hr = hr+'45'\n",
    "\n",
    "    return(qr_hr)"
   ]
  },
  {
   "cell_type": "code",
   "execution_count": 101,
   "metadata": {},
   "outputs": [],
   "source": [
    "def end_time(df):\n",
    "    ride_time = df['ride_time']\n",
    "    start_ds = df['ds'] - timedelta(minutes=ride_time)\n",
    "    end_ds = start_ds + timedelta(hours=1)\n",
    "    hr = end_ds.strftime(\"%H\")\n",
    "    mins = end_ds.strftime(\"%M\")\n",
    "    no_qh = int(int(mins)/15)\n",
    "    if no_qh == 0:\n",
    "        qr_hr = hr+'00'\n",
    "    elif no_qh == 1:\n",
    "        qr_hr = hr+'15'\n",
    "    elif no_qh == 2:\n",
    "        qr_hr = hr+'30'\n",
    "    elif no_qh == 3:\n",
    "        qr_hr = hr+'45'\n",
    "\n",
    "    return(qr_hr)"
   ]
  },
  {
   "cell_type": "code",
   "execution_count": 102,
   "metadata": {},
   "outputs": [],
   "source": [
    "top_ride_time_stats['start_time'] = top_ride_time_stats.apply(start_time,axis=1)\n",
    "top_ride_time_stats['end_time'] = top_ride_time_stats.apply(end_time,axis=1)"
   ]
  },
  {
   "cell_type": "code",
   "execution_count": 103,
   "metadata": {},
   "outputs": [
    {
     "data": {
      "text/html": [
       "<div>\n",
       "<style scoped>\n",
       "    .dataframe tbody tr th:only-of-type {\n",
       "        vertical-align: middle;\n",
       "    }\n",
       "\n",
       "    .dataframe tbody tr th {\n",
       "        vertical-align: top;\n",
       "    }\n",
       "\n",
       "    .dataframe thead th {\n",
       "        text-align: right;\n",
       "    }\n",
       "</style>\n",
       "<table border=\"1\" class=\"dataframe\">\n",
       "  <thead>\n",
       "    <tr style=\"text-align: right;\">\n",
       "      <th></th>\n",
       "      <th>pickup_cluster</th>\n",
       "      <th>drop_cluster</th>\n",
       "      <th>week_period</th>\n",
       "      <th>hour</th>\n",
       "      <th>ride_time</th>\n",
       "      <th>clus_id</th>\n",
       "      <th>ds</th>\n",
       "      <th>start_time</th>\n",
       "      <th>end_time</th>\n",
       "    </tr>\n",
       "  </thead>\n",
       "  <tbody>\n",
       "    <tr>\n",
       "      <th>0</th>\n",
       "      <td>AOC Centre</td>\n",
       "      <td>Abids</td>\n",
       "      <td>Friday</td>\n",
       "      <td>12</td>\n",
       "      <td>45.0</td>\n",
       "      <td>Abids_Friday</td>\n",
       "      <td>2023-06-25 12:00:00</td>\n",
       "      <td>1115</td>\n",
       "      <td>1215</td>\n",
       "    </tr>\n",
       "    <tr>\n",
       "      <th>1</th>\n",
       "      <td>Musheerabad Metro</td>\n",
       "      <td>Abids</td>\n",
       "      <td>Friday</td>\n",
       "      <td>09</td>\n",
       "      <td>13.0</td>\n",
       "      <td>Abids_Friday</td>\n",
       "      <td>2023-06-25 09:00:00</td>\n",
       "      <td>0845</td>\n",
       "      <td>0945</td>\n",
       "    </tr>\n",
       "    <tr>\n",
       "      <th>2</th>\n",
       "      <td>Musheerabad Metro</td>\n",
       "      <td>Abids</td>\n",
       "      <td>Friday</td>\n",
       "      <td>10</td>\n",
       "      <td>18.0</td>\n",
       "      <td>Abids_Friday</td>\n",
       "      <td>2023-06-25 10:00:00</td>\n",
       "      <td>0930</td>\n",
       "      <td>1030</td>\n",
       "    </tr>\n",
       "    <tr>\n",
       "      <th>3</th>\n",
       "      <td>Musheerabad Metro</td>\n",
       "      <td>Abids</td>\n",
       "      <td>Friday</td>\n",
       "      <td>11</td>\n",
       "      <td>15.0</td>\n",
       "      <td>Abids_Friday</td>\n",
       "      <td>2023-06-25 11:00:00</td>\n",
       "      <td>1045</td>\n",
       "      <td>1145</td>\n",
       "    </tr>\n",
       "    <tr>\n",
       "      <th>4</th>\n",
       "      <td>Musheerabad Metro</td>\n",
       "      <td>Abids</td>\n",
       "      <td>Friday</td>\n",
       "      <td>13</td>\n",
       "      <td>17.0</td>\n",
       "      <td>Abids_Friday</td>\n",
       "      <td>2023-06-25 13:00:00</td>\n",
       "      <td>1230</td>\n",
       "      <td>1330</td>\n",
       "    </tr>\n",
       "  </tbody>\n",
       "</table>\n",
       "</div>"
      ],
      "text/plain": [
       "      pickup_cluster drop_cluster week_period hour  ride_time       clus_id  \\\n",
       "0         AOC Centre        Abids      Friday   12       45.0  Abids_Friday   \n",
       "1  Musheerabad Metro        Abids      Friday   09       13.0  Abids_Friday   \n",
       "2  Musheerabad Metro        Abids      Friday   10       18.0  Abids_Friday   \n",
       "3  Musheerabad Metro        Abids      Friday   11       15.0  Abids_Friday   \n",
       "4  Musheerabad Metro        Abids      Friday   13       17.0  Abids_Friday   \n",
       "\n",
       "                   ds start_time end_time  \n",
       "0 2023-06-25 12:00:00       1115     1215  \n",
       "1 2023-06-25 09:00:00       0845     0945  \n",
       "2 2023-06-25 10:00:00       0930     1030  \n",
       "3 2023-06-25 11:00:00       1045     1145  \n",
       "4 2023-06-25 13:00:00       1230     1330  "
      ]
     },
     "execution_count": 103,
     "metadata": {},
     "output_type": "execute_result"
    }
   ],
   "source": [
    "top_ride_time_stats.head()"
   ]
  },
  {
   "cell_type": "code",
   "execution_count": 104,
   "metadata": {},
   "outputs": [],
   "source": [
    "clus_time_dur = top_ride_time_stats[['pickup_cluster','drop_cluster','week_period',\n",
    "                                     'hour','clus_id','start_time','end_time']]"
   ]
  },
  {
   "cell_type": "code",
   "execution_count": 105,
   "metadata": {},
   "outputs": [
    {
     "data": {
      "text/html": [
       "<div>\n",
       "<style scoped>\n",
       "    .dataframe tbody tr th:only-of-type {\n",
       "        vertical-align: middle;\n",
       "    }\n",
       "\n",
       "    .dataframe tbody tr th {\n",
       "        vertical-align: top;\n",
       "    }\n",
       "\n",
       "    .dataframe thead th {\n",
       "        text-align: right;\n",
       "    }\n",
       "</style>\n",
       "<table border=\"1\" class=\"dataframe\">\n",
       "  <thead>\n",
       "    <tr style=\"text-align: right;\">\n",
       "      <th></th>\n",
       "      <th>pickup_cluster</th>\n",
       "      <th>drop_cluster</th>\n",
       "      <th>week_period</th>\n",
       "      <th>hour</th>\n",
       "      <th>clus_id</th>\n",
       "      <th>start_time</th>\n",
       "      <th>end_time</th>\n",
       "    </tr>\n",
       "  </thead>\n",
       "  <tbody>\n",
       "    <tr>\n",
       "      <th>0</th>\n",
       "      <td>AOC Centre</td>\n",
       "      <td>Abids</td>\n",
       "      <td>Friday</td>\n",
       "      <td>12</td>\n",
       "      <td>Abids_Friday</td>\n",
       "      <td>1115</td>\n",
       "      <td>1215</td>\n",
       "    </tr>\n",
       "    <tr>\n",
       "      <th>1</th>\n",
       "      <td>Musheerabad Metro</td>\n",
       "      <td>Abids</td>\n",
       "      <td>Friday</td>\n",
       "      <td>09</td>\n",
       "      <td>Abids_Friday</td>\n",
       "      <td>0845</td>\n",
       "      <td>0945</td>\n",
       "    </tr>\n",
       "    <tr>\n",
       "      <th>2</th>\n",
       "      <td>Musheerabad Metro</td>\n",
       "      <td>Abids</td>\n",
       "      <td>Friday</td>\n",
       "      <td>10</td>\n",
       "      <td>Abids_Friday</td>\n",
       "      <td>0930</td>\n",
       "      <td>1030</td>\n",
       "    </tr>\n",
       "    <tr>\n",
       "      <th>3</th>\n",
       "      <td>Musheerabad Metro</td>\n",
       "      <td>Abids</td>\n",
       "      <td>Friday</td>\n",
       "      <td>11</td>\n",
       "      <td>Abids_Friday</td>\n",
       "      <td>1045</td>\n",
       "      <td>1145</td>\n",
       "    </tr>\n",
       "    <tr>\n",
       "      <th>4</th>\n",
       "      <td>Musheerabad Metro</td>\n",
       "      <td>Abids</td>\n",
       "      <td>Friday</td>\n",
       "      <td>13</td>\n",
       "      <td>Abids_Friday</td>\n",
       "      <td>1230</td>\n",
       "      <td>1330</td>\n",
       "    </tr>\n",
       "  </tbody>\n",
       "</table>\n",
       "</div>"
      ],
      "text/plain": [
       "      pickup_cluster drop_cluster week_period hour       clus_id start_time  \\\n",
       "0         AOC Centre        Abids      Friday   12  Abids_Friday       1115   \n",
       "1  Musheerabad Metro        Abids      Friday   09  Abids_Friday       0845   \n",
       "2  Musheerabad Metro        Abids      Friday   10  Abids_Friday       0930   \n",
       "3  Musheerabad Metro        Abids      Friday   11  Abids_Friday       1045   \n",
       "4  Musheerabad Metro        Abids      Friday   13  Abids_Friday       1230   \n",
       "\n",
       "  end_time  \n",
       "0     1215  \n",
       "1     0945  \n",
       "2     1030  \n",
       "3     1145  \n",
       "4     1330  "
      ]
     },
     "execution_count": 105,
     "metadata": {},
     "output_type": "execute_result"
    }
   ],
   "source": [
    "clus_time_dur.head()"
   ]
  },
  {
   "cell_type": "code",
   "execution_count": 106,
   "metadata": {},
   "outputs": [],
   "source": [
    "top_clus_id = list(top_geo_slice['clus_id'].unique())"
   ]
  },
  {
   "cell_type": "code",
   "execution_count": 107,
   "metadata": {},
   "outputs": [],
   "source": [
    "top_clus_time_dur = clus_time_dur.copy()\n",
    "top_clus_time_dur['clus_id'] = clus_time_dur['clus_id']+'_'+clus_time_dur['hour']"
   ]
  },
  {
   "cell_type": "code",
   "execution_count": 108,
   "metadata": {},
   "outputs": [],
   "source": [
    "top_clus_time_dur = top_clus_time_dur[top_clus_time_dur['clus_id'].isin(top_clus_id)].reset_index(drop=True)"
   ]
  },
  {
   "cell_type": "code",
   "execution_count": 109,
   "metadata": {},
   "outputs": [],
   "source": [
    "top_clus_time_dur= top_clus_time_dur[['pickup_cluster', 'drop_cluster','week_period','hour', 'start_time','end_time']]"
   ]
  },
  {
   "cell_type": "code",
   "execution_count": 110,
   "metadata": {},
   "outputs": [],
   "source": [
    "top_clus_time_dur.columns = ['pickup_cluster', 'drop_cluster','week_period','unf_hour', 'start_time', 'end_time']"
   ]
  },
  {
   "cell_type": "code",
   "execution_count": 111,
   "metadata": {},
   "outputs": [
    {
     "data": {
      "text/html": [
       "<div>\n",
       "<style scoped>\n",
       "    .dataframe tbody tr th:only-of-type {\n",
       "        vertical-align: middle;\n",
       "    }\n",
       "\n",
       "    .dataframe tbody tr th {\n",
       "        vertical-align: top;\n",
       "    }\n",
       "\n",
       "    .dataframe thead th {\n",
       "        text-align: right;\n",
       "    }\n",
       "</style>\n",
       "<table border=\"1\" class=\"dataframe\">\n",
       "  <thead>\n",
       "    <tr style=\"text-align: right;\">\n",
       "      <th></th>\n",
       "      <th>pickup_cluster</th>\n",
       "      <th>drop_cluster</th>\n",
       "      <th>week_period</th>\n",
       "      <th>unf_hour</th>\n",
       "      <th>start_time</th>\n",
       "      <th>end_time</th>\n",
       "    </tr>\n",
       "  </thead>\n",
       "  <tbody>\n",
       "    <tr>\n",
       "      <th>0</th>\n",
       "      <td>AOC Centre</td>\n",
       "      <td>Abids</td>\n",
       "      <td>Friday</td>\n",
       "      <td>12</td>\n",
       "      <td>1115</td>\n",
       "      <td>1215</td>\n",
       "    </tr>\n",
       "    <tr>\n",
       "      <th>1</th>\n",
       "      <td>Musheerabad Metro</td>\n",
       "      <td>Abids</td>\n",
       "      <td>Friday</td>\n",
       "      <td>13</td>\n",
       "      <td>1230</td>\n",
       "      <td>1330</td>\n",
       "    </tr>\n",
       "    <tr>\n",
       "      <th>2</th>\n",
       "      <td>Musheerabad Metro</td>\n",
       "      <td>Abids</td>\n",
       "      <td>Friday</td>\n",
       "      <td>14</td>\n",
       "      <td>1345</td>\n",
       "      <td>1445</td>\n",
       "    </tr>\n",
       "    <tr>\n",
       "      <th>3</th>\n",
       "      <td>VidyaNagar</td>\n",
       "      <td>Abids</td>\n",
       "      <td>Friday</td>\n",
       "      <td>12</td>\n",
       "      <td>1130</td>\n",
       "      <td>1230</td>\n",
       "    </tr>\n",
       "    <tr>\n",
       "      <th>4</th>\n",
       "      <td>VidyaNagar</td>\n",
       "      <td>Abids</td>\n",
       "      <td>Friday</td>\n",
       "      <td>13</td>\n",
       "      <td>1230</td>\n",
       "      <td>1330</td>\n",
       "    </tr>\n",
       "    <tr>\n",
       "      <th>...</th>\n",
       "      <td>...</td>\n",
       "      <td>...</td>\n",
       "      <td>...</td>\n",
       "      <td>...</td>\n",
       "      <td>...</td>\n",
       "      <td>...</td>\n",
       "    </tr>\n",
       "    <tr>\n",
       "      <th>76179</th>\n",
       "      <td>Hussian Sagar</td>\n",
       "      <td>kistareddypet</td>\n",
       "      <td>Sunday</td>\n",
       "      <td>18</td>\n",
       "      <td>1630</td>\n",
       "      <td>1730</td>\n",
       "    </tr>\n",
       "    <tr>\n",
       "      <th>76180</th>\n",
       "      <td>Medchal</td>\n",
       "      <td>kistareddypet</td>\n",
       "      <td>Sunday</td>\n",
       "      <td>18</td>\n",
       "      <td>1715</td>\n",
       "      <td>1815</td>\n",
       "    </tr>\n",
       "    <tr>\n",
       "      <th>76181</th>\n",
       "      <td>Abids</td>\n",
       "      <td>kistareddypet</td>\n",
       "      <td>Sunday</td>\n",
       "      <td>18</td>\n",
       "      <td>1645</td>\n",
       "      <td>1745</td>\n",
       "    </tr>\n",
       "    <tr>\n",
       "      <th>76182</th>\n",
       "      <td>Rethibowli</td>\n",
       "      <td>kistareddypet</td>\n",
       "      <td>Sunday</td>\n",
       "      <td>18</td>\n",
       "      <td>1645</td>\n",
       "      <td>1745</td>\n",
       "    </tr>\n",
       "    <tr>\n",
       "      <th>76183</th>\n",
       "      <td>shilparamam</td>\n",
       "      <td>kistareddypet</td>\n",
       "      <td>Sunday</td>\n",
       "      <td>18</td>\n",
       "      <td>1615</td>\n",
       "      <td>1715</td>\n",
       "    </tr>\n",
       "  </tbody>\n",
       "</table>\n",
       "<p>76184 rows × 6 columns</p>\n",
       "</div>"
      ],
      "text/plain": [
       "          pickup_cluster   drop_cluster week_period unf_hour start_time  \\\n",
       "0             AOC Centre          Abids      Friday       12       1115   \n",
       "1      Musheerabad Metro          Abids      Friday       13       1230   \n",
       "2      Musheerabad Metro          Abids      Friday       14       1345   \n",
       "3             VidyaNagar          Abids      Friday       12       1130   \n",
       "4             VidyaNagar          Abids      Friday       13       1230   \n",
       "...                  ...            ...         ...      ...        ...   \n",
       "76179      Hussian Sagar  kistareddypet      Sunday       18       1630   \n",
       "76180            Medchal  kistareddypet      Sunday       18       1715   \n",
       "76181              Abids  kistareddypet      Sunday       18       1645   \n",
       "76182         Rethibowli  kistareddypet      Sunday       18       1645   \n",
       "76183        shilparamam  kistareddypet      Sunday       18       1615   \n",
       "\n",
       "      end_time  \n",
       "0         1215  \n",
       "1         1330  \n",
       "2         1445  \n",
       "3         1230  \n",
       "4         1330  \n",
       "...        ...  \n",
       "76179     1730  \n",
       "76180     1815  \n",
       "76181     1745  \n",
       "76182     1745  \n",
       "76183     1715  \n",
       "\n",
       "[76184 rows x 6 columns]"
      ]
     },
     "execution_count": 111,
     "metadata": {},
     "output_type": "execute_result"
    }
   ],
   "source": [
    "top_clus_time_dur"
   ]
  },
  {
   "cell_type": "markdown",
   "metadata": {},
   "source": [
    "___"
   ]
  },
  {
   "cell_type": "markdown",
   "metadata": {},
   "source": [
    "<div class=\"alert alert-block alert-info\">\n",
    "\n",
    "# Top Unfulfilled / Drop Cluster Stats\n",
    "</div>"
   ]
  },
  {
   "cell_type": "markdown",
   "metadata": {},
   "source": [
    "___"
   ]
  },
  {
   "cell_type": "code",
   "execution_count": 112,
   "metadata": {},
   "outputs": [
    {
     "data": {
      "text/html": [
       "<div>\n",
       "<style scoped>\n",
       "    .dataframe tbody tr th:only-of-type {\n",
       "        vertical-align: middle;\n",
       "    }\n",
       "\n",
       "    .dataframe tbody tr th {\n",
       "        vertical-align: top;\n",
       "    }\n",
       "\n",
       "    .dataframe thead th {\n",
       "        text-align: right;\n",
       "    }\n",
       "</style>\n",
       "<table border=\"1\" class=\"dataframe\">\n",
       "  <thead>\n",
       "    <tr style=\"text-align: right;\">\n",
       "      <th></th>\n",
       "      <th>city</th>\n",
       "      <th>fare_estimate_id</th>\n",
       "      <th>orderdate</th>\n",
       "      <th>hour</th>\n",
       "      <th>quarter_hour</th>\n",
       "      <th>week_period</th>\n",
       "      <th>pickup_cluster</th>\n",
       "      <th>drop_cluster</th>\n",
       "      <th>ride_time</th>\n",
       "      <th>surge</th>\n",
       "      <th>strategy</th>\n",
       "      <th>fe_count</th>\n",
       "    </tr>\n",
       "  </thead>\n",
       "  <tbody>\n",
       "    <tr>\n",
       "      <th>0</th>\n",
       "      <td>Hyderabad</td>\n",
       "      <td>6489f56af7e36b23adc0625a</td>\n",
       "      <td>2023-06-14</td>\n",
       "      <td>22</td>\n",
       "      <td>2230</td>\n",
       "      <td>Wednesday</td>\n",
       "      <td>Secunderabad East</td>\n",
       "      <td>Padmarao Nagar</td>\n",
       "      <td>9.466667</td>\n",
       "      <td>11.45</td>\n",
       "      <td>hot_cold_surge</td>\n",
       "      <td>1</td>\n",
       "    </tr>\n",
       "    <tr>\n",
       "      <th>1</th>\n",
       "      <td>Hyderabad</td>\n",
       "      <td>6489a301c8627a535fca767b</td>\n",
       "      <td>2023-06-14</td>\n",
       "      <td>16</td>\n",
       "      <td>1645</td>\n",
       "      <td>Wednesday</td>\n",
       "      <td>Hitech City</td>\n",
       "      <td>Kothaguda</td>\n",
       "      <td>30.983333</td>\n",
       "      <td>51.96</td>\n",
       "      <td>mismatch</td>\n",
       "      <td>1</td>\n",
       "    </tr>\n",
       "    <tr>\n",
       "      <th>2</th>\n",
       "      <td>Hyderabad</td>\n",
       "      <td>64898d8e84b5ef46fc36fe6c</td>\n",
       "      <td>2023-06-14</td>\n",
       "      <td>15</td>\n",
       "      <td>1515</td>\n",
       "      <td>Wednesday</td>\n",
       "      <td>Nagole</td>\n",
       "      <td>Mansoorabad</td>\n",
       "      <td>7.266667</td>\n",
       "      <td>0.00</td>\n",
       "      <td>no_surge</td>\n",
       "      <td>1</td>\n",
       "    </tr>\n",
       "    <tr>\n",
       "      <th>3</th>\n",
       "      <td>Hyderabad</td>\n",
       "      <td>64896ea96fd99d65a3723152</td>\n",
       "      <td>2023-06-14</td>\n",
       "      <td>13</td>\n",
       "      <td>1300</td>\n",
       "      <td>Wednesday</td>\n",
       "      <td>sainikpuri</td>\n",
       "      <td>sainikpuri</td>\n",
       "      <td>3.733333</td>\n",
       "      <td>9.00</td>\n",
       "      <td>surge_dashboard_rule</td>\n",
       "      <td>1</td>\n",
       "    </tr>\n",
       "    <tr>\n",
       "      <th>4</th>\n",
       "      <td>Hyderabad</td>\n",
       "      <td>6489995284b5ef5107374f9d</td>\n",
       "      <td>2023-06-14</td>\n",
       "      <td>16</td>\n",
       "      <td>1600</td>\n",
       "      <td>Wednesday</td>\n",
       "      <td>Jeedimetla</td>\n",
       "      <td>Balanagar</td>\n",
       "      <td>11.566667</td>\n",
       "      <td>0.00</td>\n",
       "      <td>no_surge</td>\n",
       "      <td>1</td>\n",
       "    </tr>\n",
       "  </tbody>\n",
       "</table>\n",
       "</div>"
      ],
      "text/plain": [
       "        city          fare_estimate_id   orderdate hour quarter_hour  \\\n",
       "0  Hyderabad  6489f56af7e36b23adc0625a  2023-06-14   22         2230   \n",
       "1  Hyderabad  6489a301c8627a535fca767b  2023-06-14   16         1645   \n",
       "2  Hyderabad  64898d8e84b5ef46fc36fe6c  2023-06-14   15         1515   \n",
       "3  Hyderabad  64896ea96fd99d65a3723152  2023-06-14   13         1300   \n",
       "4  Hyderabad  6489995284b5ef5107374f9d  2023-06-14   16         1600   \n",
       "\n",
       "  week_period     pickup_cluster    drop_cluster  ride_time  surge  \\\n",
       "0   Wednesday  Secunderabad East  Padmarao Nagar   9.466667  11.45   \n",
       "1   Wednesday        Hitech City       Kothaguda  30.983333  51.96   \n",
       "2   Wednesday            Nagole      Mansoorabad   7.266667   0.00   \n",
       "3   Wednesday         sainikpuri      sainikpuri   3.733333   9.00   \n",
       "4   Wednesday         Jeedimetla       Balanagar  11.566667   0.00   \n",
       "\n",
       "               strategy  fe_count  \n",
       "0        hot_cold_surge         1  \n",
       "1              mismatch         1  \n",
       "2              no_surge         1  \n",
       "3  surge_dashboard_rule         1  \n",
       "4              no_surge         1  "
      ]
     },
     "execution_count": 112,
     "metadata": {},
     "output_type": "execute_result"
    }
   ],
   "source": [
    "all_clus_fe.head()"
   ]
  },
  {
   "cell_type": "code",
   "execution_count": 113,
   "metadata": {},
   "outputs": [],
   "source": [
    "all_clus_fe['clus_id'] = all_clus_fe['drop_cluster']+'_'+all_clus_fe['week_period']"
   ]
  },
  {
   "cell_type": "code",
   "execution_count": 114,
   "metadata": {},
   "outputs": [],
   "source": [
    "top_clus_week = list(top_geo_slice['week_id'].unique())"
   ]
  },
  {
   "cell_type": "code",
   "execution_count": 115,
   "metadata": {},
   "outputs": [],
   "source": [
    "top_fe_data = all_clus_fe[all_clus_fe['clus_id'].isin(top_clus_week)].reset_index(drop=True)"
   ]
  },
  {
   "cell_type": "code",
   "execution_count": 116,
   "metadata": {},
   "outputs": [
    {
     "data": {
      "text/html": [
       "<div>\n",
       "<style scoped>\n",
       "    .dataframe tbody tr th:only-of-type {\n",
       "        vertical-align: middle;\n",
       "    }\n",
       "\n",
       "    .dataframe tbody tr th {\n",
       "        vertical-align: top;\n",
       "    }\n",
       "\n",
       "    .dataframe thead th {\n",
       "        text-align: right;\n",
       "    }\n",
       "</style>\n",
       "<table border=\"1\" class=\"dataframe\">\n",
       "  <thead>\n",
       "    <tr style=\"text-align: right;\">\n",
       "      <th></th>\n",
       "      <th>city</th>\n",
       "      <th>fare_estimate_id</th>\n",
       "      <th>orderdate</th>\n",
       "      <th>hour</th>\n",
       "      <th>quarter_hour</th>\n",
       "      <th>week_period</th>\n",
       "      <th>pickup_cluster</th>\n",
       "      <th>drop_cluster</th>\n",
       "      <th>ride_time</th>\n",
       "      <th>surge</th>\n",
       "      <th>strategy</th>\n",
       "      <th>fe_count</th>\n",
       "      <th>clus_id</th>\n",
       "    </tr>\n",
       "  </thead>\n",
       "  <tbody>\n",
       "    <tr>\n",
       "      <th>0</th>\n",
       "      <td>Hyderabad</td>\n",
       "      <td>6489a301c8627a535fca767b</td>\n",
       "      <td>2023-06-14</td>\n",
       "      <td>16</td>\n",
       "      <td>1645</td>\n",
       "      <td>Wednesday</td>\n",
       "      <td>Hitech City</td>\n",
       "      <td>Kothaguda</td>\n",
       "      <td>30.983333</td>\n",
       "      <td>51.96</td>\n",
       "      <td>mismatch</td>\n",
       "      <td>1</td>\n",
       "      <td>Kothaguda_Wednesday</td>\n",
       "    </tr>\n",
       "    <tr>\n",
       "      <th>1</th>\n",
       "      <td>Hyderabad</td>\n",
       "      <td>6489995284b5ef5107374f9d</td>\n",
       "      <td>2023-06-14</td>\n",
       "      <td>16</td>\n",
       "      <td>1600</td>\n",
       "      <td>Wednesday</td>\n",
       "      <td>Jeedimetla</td>\n",
       "      <td>Balanagar</td>\n",
       "      <td>11.566667</td>\n",
       "      <td>0.00</td>\n",
       "      <td>no_surge</td>\n",
       "      <td>1</td>\n",
       "      <td>Balanagar_Wednesday</td>\n",
       "    </tr>\n",
       "    <tr>\n",
       "      <th>2</th>\n",
       "      <td>Hyderabad</td>\n",
       "      <td>64891bf15ec8b2157228126e</td>\n",
       "      <td>2023-06-14</td>\n",
       "      <td>07</td>\n",
       "      <td>0715</td>\n",
       "      <td>Wednesday</td>\n",
       "      <td>Bahadurguda</td>\n",
       "      <td>Shamshabad</td>\n",
       "      <td>19.383333</td>\n",
       "      <td>0.00</td>\n",
       "      <td>circuit_broken</td>\n",
       "      <td>1</td>\n",
       "      <td>Shamshabad_Wednesday</td>\n",
       "    </tr>\n",
       "    <tr>\n",
       "      <th>3</th>\n",
       "      <td>Hyderabad</td>\n",
       "      <td>64897f74514cd472d065998c</td>\n",
       "      <td>2023-06-14</td>\n",
       "      <td>14</td>\n",
       "      <td>1415</td>\n",
       "      <td>Wednesday</td>\n",
       "      <td>Jeedimetla</td>\n",
       "      <td>Kukatpally 3</td>\n",
       "      <td>14.500000</td>\n",
       "      <td>21.66</td>\n",
       "      <td>surge_dashboard_rule</td>\n",
       "      <td>1</td>\n",
       "      <td>Kukatpally 3_Wednesday</td>\n",
       "    </tr>\n",
       "    <tr>\n",
       "      <th>4</th>\n",
       "      <td>Hyderabad</td>\n",
       "      <td>6489313289aa9925f158e549</td>\n",
       "      <td>2023-06-14</td>\n",
       "      <td>08</td>\n",
       "      <td>0845</td>\n",
       "      <td>Wednesday</td>\n",
       "      <td>Mothinagar</td>\n",
       "      <td>Hitech City</td>\n",
       "      <td>14.366667</td>\n",
       "      <td>13.02</td>\n",
       "      <td>surge_dashboard_rule</td>\n",
       "      <td>1</td>\n",
       "      <td>Hitech City_Wednesday</td>\n",
       "    </tr>\n",
       "  </tbody>\n",
       "</table>\n",
       "</div>"
      ],
      "text/plain": [
       "        city          fare_estimate_id   orderdate hour quarter_hour  \\\n",
       "0  Hyderabad  6489a301c8627a535fca767b  2023-06-14   16         1645   \n",
       "1  Hyderabad  6489995284b5ef5107374f9d  2023-06-14   16         1600   \n",
       "2  Hyderabad  64891bf15ec8b2157228126e  2023-06-14   07         0715   \n",
       "3  Hyderabad  64897f74514cd472d065998c  2023-06-14   14         1415   \n",
       "4  Hyderabad  6489313289aa9925f158e549  2023-06-14   08         0845   \n",
       "\n",
       "  week_period pickup_cluster  drop_cluster  ride_time  surge  \\\n",
       "0   Wednesday    Hitech City     Kothaguda  30.983333  51.96   \n",
       "1   Wednesday     Jeedimetla     Balanagar  11.566667   0.00   \n",
       "2   Wednesday    Bahadurguda    Shamshabad  19.383333   0.00   \n",
       "3   Wednesday     Jeedimetla  Kukatpally 3  14.500000  21.66   \n",
       "4   Wednesday     Mothinagar   Hitech City  14.366667  13.02   \n",
       "\n",
       "               strategy  fe_count                 clus_id  \n",
       "0              mismatch         1     Kothaguda_Wednesday  \n",
       "1              no_surge         1     Balanagar_Wednesday  \n",
       "2        circuit_broken         1    Shamshabad_Wednesday  \n",
       "3  surge_dashboard_rule         1  Kukatpally 3_Wednesday  \n",
       "4  surge_dashboard_rule         1   Hitech City_Wednesday  "
      ]
     },
     "execution_count": 116,
     "metadata": {},
     "output_type": "execute_result"
    }
   ],
   "source": [
    "top_fe_data.head()"
   ]
  },
  {
   "cell_type": "code",
   "execution_count": 117,
   "metadata": {},
   "outputs": [],
   "source": [
    "top_fe_dur = pd.merge(top_fe_data,top_clus_time_dur,on=['pickup_cluster', 'drop_cluster','week_period'],how='inner')"
   ]
  },
  {
   "cell_type": "code",
   "execution_count": 118,
   "metadata": {},
   "outputs": [
    {
     "data": {
      "text/plain": [
       "city                0\n",
       "fare_estimate_id    0\n",
       "orderdate           0\n",
       "hour                0\n",
       "quarter_hour        0\n",
       "week_period         0\n",
       "pickup_cluster      0\n",
       "drop_cluster        0\n",
       "ride_time           0\n",
       "surge               0\n",
       "strategy            0\n",
       "fe_count            0\n",
       "clus_id             0\n",
       "unf_hour            0\n",
       "start_time          0\n",
       "end_time            0\n",
       "dtype: int64"
      ]
     },
     "execution_count": 118,
     "metadata": {},
     "output_type": "execute_result"
    }
   ],
   "source": [
    "top_fe_dur.isnull().sum()"
   ]
  },
  {
   "cell_type": "code",
   "execution_count": 119,
   "metadata": {},
   "outputs": [],
   "source": [
    "def fe_intime(df):\n",
    "    start = df['start_time']\n",
    "    end = df['end_time']\n",
    "    qh = df['quarter_hour']\n",
    "    if start<=qh<end:\n",
    "        return 1\n",
    "    else:\n",
    "        return 0"
   ]
  },
  {
   "cell_type": "code",
   "execution_count": 120,
   "metadata": {},
   "outputs": [],
   "source": [
    "top_fe_dur['fe_in_qh'] = top_fe_dur.apply(fe_intime,axis=1)"
   ]
  },
  {
   "cell_type": "code",
   "execution_count": 121,
   "metadata": {},
   "outputs": [],
   "source": [
    "top_all_fe = top_fe_dur[top_fe_dur['fe_in_qh']==1].reset_index(drop=True)"
   ]
  },
  {
   "cell_type": "code",
   "execution_count": 122,
   "metadata": {},
   "outputs": [
    {
     "data": {
      "text/plain": [
       "(1238591, 17)"
      ]
     },
     "execution_count": 122,
     "metadata": {},
     "output_type": "execute_result"
    },
    {
     "data": {
      "text/html": [
       "<div>\n",
       "<style scoped>\n",
       "    .dataframe tbody tr th:only-of-type {\n",
       "        vertical-align: middle;\n",
       "    }\n",
       "\n",
       "    .dataframe tbody tr th {\n",
       "        vertical-align: top;\n",
       "    }\n",
       "\n",
       "    .dataframe thead th {\n",
       "        text-align: right;\n",
       "    }\n",
       "</style>\n",
       "<table border=\"1\" class=\"dataframe\">\n",
       "  <thead>\n",
       "    <tr style=\"text-align: right;\">\n",
       "      <th></th>\n",
       "      <th>city</th>\n",
       "      <th>fare_estimate_id</th>\n",
       "      <th>orderdate</th>\n",
       "      <th>hour</th>\n",
       "      <th>quarter_hour</th>\n",
       "      <th>week_period</th>\n",
       "      <th>pickup_cluster</th>\n",
       "      <th>drop_cluster</th>\n",
       "      <th>ride_time</th>\n",
       "      <th>surge</th>\n",
       "      <th>strategy</th>\n",
       "      <th>fe_count</th>\n",
       "      <th>clus_id</th>\n",
       "      <th>unf_hour</th>\n",
       "      <th>start_time</th>\n",
       "      <th>end_time</th>\n",
       "      <th>fe_in_qh</th>\n",
       "    </tr>\n",
       "  </thead>\n",
       "  <tbody>\n",
       "    <tr>\n",
       "      <th>0</th>\n",
       "      <td>Hyderabad</td>\n",
       "      <td>6489335e3662e77fefcab42d</td>\n",
       "      <td>2023-06-14</td>\n",
       "      <td>08</td>\n",
       "      <td>0845</td>\n",
       "      <td>Wednesday</td>\n",
       "      <td>Hitech City</td>\n",
       "      <td>Kothaguda</td>\n",
       "      <td>6.033333</td>\n",
       "      <td>4.74</td>\n",
       "      <td>surge_dashboard_rule</td>\n",
       "      <td>1</td>\n",
       "      <td>Kothaguda_Wednesday</td>\n",
       "      <td>09</td>\n",
       "      <td>0845</td>\n",
       "      <td>0945</td>\n",
       "      <td>1</td>\n",
       "    </tr>\n",
       "    <tr>\n",
       "      <th>1</th>\n",
       "      <td>Hyderabad</td>\n",
       "      <td>64894374a8e93f01b27ed840</td>\n",
       "      <td>2023-06-14</td>\n",
       "      <td>10</td>\n",
       "      <td>1000</td>\n",
       "      <td>Wednesday</td>\n",
       "      <td>Hitech City</td>\n",
       "      <td>Kothaguda</td>\n",
       "      <td>11.866667</td>\n",
       "      <td>0.00</td>\n",
       "      <td>circuit_broken</td>\n",
       "      <td>1</td>\n",
       "      <td>Kothaguda_Wednesday</td>\n",
       "      <td>10</td>\n",
       "      <td>0945</td>\n",
       "      <td>1045</td>\n",
       "      <td>1</td>\n",
       "    </tr>\n",
       "    <tr>\n",
       "      <th>2</th>\n",
       "      <td>Hyderabad</td>\n",
       "      <td>6489441b5ec8b215d42935c4</td>\n",
       "      <td>2023-06-14</td>\n",
       "      <td>10</td>\n",
       "      <td>1000</td>\n",
       "      <td>Wednesday</td>\n",
       "      <td>Hitech City</td>\n",
       "      <td>Kothaguda</td>\n",
       "      <td>8.383333</td>\n",
       "      <td>5.07</td>\n",
       "      <td>surge_dashboard_rule</td>\n",
       "      <td>1</td>\n",
       "      <td>Kothaguda_Wednesday</td>\n",
       "      <td>10</td>\n",
       "      <td>0945</td>\n",
       "      <td>1045</td>\n",
       "      <td>1</td>\n",
       "    </tr>\n",
       "    <tr>\n",
       "      <th>3</th>\n",
       "      <td>Hyderabad</td>\n",
       "      <td>6489438bc8627a6aadc7ac9c</td>\n",
       "      <td>2023-06-14</td>\n",
       "      <td>10</td>\n",
       "      <td>1000</td>\n",
       "      <td>Wednesday</td>\n",
       "      <td>Hitech City</td>\n",
       "      <td>Kothaguda</td>\n",
       "      <td>11.800000</td>\n",
       "      <td>0.00</td>\n",
       "      <td>circuit_broken</td>\n",
       "      <td>1</td>\n",
       "      <td>Kothaguda_Wednesday</td>\n",
       "      <td>10</td>\n",
       "      <td>0945</td>\n",
       "      <td>1045</td>\n",
       "      <td>1</td>\n",
       "    </tr>\n",
       "    <tr>\n",
       "      <th>4</th>\n",
       "      <td>Hyderabad</td>\n",
       "      <td>648943913ce1510d63caf453</td>\n",
       "      <td>2023-06-14</td>\n",
       "      <td>10</td>\n",
       "      <td>1000</td>\n",
       "      <td>Wednesday</td>\n",
       "      <td>Hitech City</td>\n",
       "      <td>Kothaguda</td>\n",
       "      <td>16.216667</td>\n",
       "      <td>0.00</td>\n",
       "      <td>circuit_broken</td>\n",
       "      <td>1</td>\n",
       "      <td>Kothaguda_Wednesday</td>\n",
       "      <td>10</td>\n",
       "      <td>0945</td>\n",
       "      <td>1045</td>\n",
       "      <td>1</td>\n",
       "    </tr>\n",
       "  </tbody>\n",
       "</table>\n",
       "</div>"
      ],
      "text/plain": [
       "        city          fare_estimate_id   orderdate hour quarter_hour  \\\n",
       "0  Hyderabad  6489335e3662e77fefcab42d  2023-06-14   08         0845   \n",
       "1  Hyderabad  64894374a8e93f01b27ed840  2023-06-14   10         1000   \n",
       "2  Hyderabad  6489441b5ec8b215d42935c4  2023-06-14   10         1000   \n",
       "3  Hyderabad  6489438bc8627a6aadc7ac9c  2023-06-14   10         1000   \n",
       "4  Hyderabad  648943913ce1510d63caf453  2023-06-14   10         1000   \n",
       "\n",
       "  week_period pickup_cluster drop_cluster  ride_time  surge  \\\n",
       "0   Wednesday    Hitech City    Kothaguda   6.033333   4.74   \n",
       "1   Wednesday    Hitech City    Kothaguda  11.866667   0.00   \n",
       "2   Wednesday    Hitech City    Kothaguda   8.383333   5.07   \n",
       "3   Wednesday    Hitech City    Kothaguda  11.800000   0.00   \n",
       "4   Wednesday    Hitech City    Kothaguda  16.216667   0.00   \n",
       "\n",
       "               strategy  fe_count              clus_id unf_hour start_time  \\\n",
       "0  surge_dashboard_rule         1  Kothaguda_Wednesday       09       0845   \n",
       "1        circuit_broken         1  Kothaguda_Wednesday       10       0945   \n",
       "2  surge_dashboard_rule         1  Kothaguda_Wednesday       10       0945   \n",
       "3        circuit_broken         1  Kothaguda_Wednesday       10       0945   \n",
       "4        circuit_broken         1  Kothaguda_Wednesday       10       0945   \n",
       "\n",
       "  end_time  fe_in_qh  \n",
       "0     0945         1  \n",
       "1     1045         1  \n",
       "2     1045         1  \n",
       "3     1045         1  \n",
       "4     1045         1  "
      ]
     },
     "execution_count": 122,
     "metadata": {},
     "output_type": "execute_result"
    }
   ],
   "source": [
    "top_all_fe.shape\n",
    "top_all_fe.head()"
   ]
  },
  {
   "cell_type": "code",
   "execution_count": 123,
   "metadata": {},
   "outputs": [],
   "source": [
    "fe_stats = top_all_fe.groupby(['pickup_cluster','drop_cluster','week_period','unf_hour','start_time','end_time']).agg({\n",
    "    \n",
    "            'fe_count':'sum',\n",
    "            'ride_time': 'mean',\n",
    "            'strategy': [lambda x: fe_data.loc[x.index, 'fe_count'][x=='no_surge'].sum(),\n",
    "                         lambda x: fe_data.loc[x.index, 'fe_count'][x=='mismatch'].sum()]\n",
    "})"
   ]
  },
  {
   "cell_type": "code",
   "execution_count": 124,
   "metadata": {},
   "outputs": [
    {
     "data": {
      "text/html": [
       "<div>\n",
       "<style scoped>\n",
       "    .dataframe tbody tr th:only-of-type {\n",
       "        vertical-align: middle;\n",
       "    }\n",
       "\n",
       "    .dataframe tbody tr th {\n",
       "        vertical-align: top;\n",
       "    }\n",
       "\n",
       "    .dataframe thead tr th {\n",
       "        text-align: left;\n",
       "    }\n",
       "\n",
       "    .dataframe thead tr:last-of-type th {\n",
       "        text-align: right;\n",
       "    }\n",
       "</style>\n",
       "<table border=\"1\" class=\"dataframe\">\n",
       "  <thead>\n",
       "    <tr>\n",
       "      <th></th>\n",
       "      <th></th>\n",
       "      <th></th>\n",
       "      <th></th>\n",
       "      <th></th>\n",
       "      <th></th>\n",
       "      <th>fe_count</th>\n",
       "      <th>ride_time</th>\n",
       "      <th colspan=\"2\" halign=\"left\">strategy</th>\n",
       "    </tr>\n",
       "    <tr>\n",
       "      <th></th>\n",
       "      <th></th>\n",
       "      <th></th>\n",
       "      <th></th>\n",
       "      <th></th>\n",
       "      <th></th>\n",
       "      <th>sum</th>\n",
       "      <th>mean</th>\n",
       "      <th>&lt;lambda_0&gt;</th>\n",
       "      <th>&lt;lambda_1&gt;</th>\n",
       "    </tr>\n",
       "    <tr>\n",
       "      <th>pickup_cluster</th>\n",
       "      <th>drop_cluster</th>\n",
       "      <th>week_period</th>\n",
       "      <th>unf_hour</th>\n",
       "      <th>start_time</th>\n",
       "      <th>end_time</th>\n",
       "      <th></th>\n",
       "      <th></th>\n",
       "      <th></th>\n",
       "      <th></th>\n",
       "    </tr>\n",
       "  </thead>\n",
       "  <tbody>\n",
       "    <tr>\n",
       "      <th rowspan=\"5\" valign=\"top\">AOC Centre</th>\n",
       "      <th rowspan=\"3\" valign=\"top\">Abids</th>\n",
       "      <th rowspan=\"2\" valign=\"top\">Friday</th>\n",
       "      <th>13</th>\n",
       "      <th>1215</th>\n",
       "      <th>1315</th>\n",
       "      <td>2</td>\n",
       "      <td>44.566667</td>\n",
       "      <td>0</td>\n",
       "      <td>0</td>\n",
       "    </tr>\n",
       "    <tr>\n",
       "      <th>14</th>\n",
       "      <th>1315</th>\n",
       "      <th>1415</th>\n",
       "      <td>4</td>\n",
       "      <td>42.783333</td>\n",
       "      <td>4</td>\n",
       "      <td>0</td>\n",
       "    </tr>\n",
       "    <tr>\n",
       "      <th>Saturday</th>\n",
       "      <th>19</th>\n",
       "      <th>1800</th>\n",
       "      <th>1900</th>\n",
       "      <td>5</td>\n",
       "      <td>56.836667</td>\n",
       "      <td>5</td>\n",
       "      <td>0</td>\n",
       "    </tr>\n",
       "    <tr>\n",
       "      <th>Alwal</th>\n",
       "      <th>Monday</th>\n",
       "      <th>09</th>\n",
       "      <th>0830</th>\n",
       "      <th>0930</th>\n",
       "      <td>27</td>\n",
       "      <td>22.124074</td>\n",
       "      <td>0</td>\n",
       "      <td>0</td>\n",
       "    </tr>\n",
       "    <tr>\n",
       "      <th>Ameenpur</th>\n",
       "      <th>Saturday</th>\n",
       "      <th>19</th>\n",
       "      <th>1715</th>\n",
       "      <th>1815</th>\n",
       "      <td>1</td>\n",
       "      <td>91.716667</td>\n",
       "      <td>0</td>\n",
       "      <td>0</td>\n",
       "    </tr>\n",
       "    <tr>\n",
       "      <th>...</th>\n",
       "      <th>...</th>\n",
       "      <th>...</th>\n",
       "      <th>...</th>\n",
       "      <th>...</th>\n",
       "      <th>...</th>\n",
       "      <td>...</td>\n",
       "      <td>...</td>\n",
       "      <td>...</td>\n",
       "      <td>...</td>\n",
       "    </tr>\n",
       "    <tr>\n",
       "      <th rowspan=\"5\" valign=\"top\">shilparamam</th>\n",
       "      <th rowspan=\"4\" valign=\"top\">Shamshabad</th>\n",
       "      <th rowspan=\"4\" valign=\"top\">Wednesday</th>\n",
       "      <th>19</th>\n",
       "      <th>1815</th>\n",
       "      <th>1915</th>\n",
       "      <td>26</td>\n",
       "      <td>30.600000</td>\n",
       "      <td>17</td>\n",
       "      <td>0</td>\n",
       "    </tr>\n",
       "    <tr>\n",
       "      <th>20</th>\n",
       "      <th>1930</th>\n",
       "      <th>2030</th>\n",
       "      <td>21</td>\n",
       "      <td>30.110317</td>\n",
       "      <td>21</td>\n",
       "      <td>0</td>\n",
       "    </tr>\n",
       "    <tr>\n",
       "      <th>21</th>\n",
       "      <th>2030</th>\n",
       "      <th>2130</th>\n",
       "      <td>20</td>\n",
       "      <td>25.975833</td>\n",
       "      <td>20</td>\n",
       "      <td>0</td>\n",
       "    </tr>\n",
       "    <tr>\n",
       "      <th>22</th>\n",
       "      <th>2130</th>\n",
       "      <th>2230</th>\n",
       "      <td>11</td>\n",
       "      <td>22.946970</td>\n",
       "      <td>11</td>\n",
       "      <td>0</td>\n",
       "    </tr>\n",
       "    <tr>\n",
       "      <th>Shamshabad 2 - Airport</th>\n",
       "      <th>Sunday</th>\n",
       "      <th>21</th>\n",
       "      <th>2000</th>\n",
       "      <th>2100</th>\n",
       "      <td>1</td>\n",
       "      <td>43.016667</td>\n",
       "      <td>1</td>\n",
       "      <td>0</td>\n",
       "    </tr>\n",
       "  </tbody>\n",
       "</table>\n",
       "<p>61027 rows × 4 columns</p>\n",
       "</div>"
      ],
      "text/plain": [
       "                                                                               fe_count  \\\n",
       "                                                                                    sum   \n",
       "pickup_cluster drop_cluster           week_period unf_hour start_time end_time            \n",
       "AOC Centre     Abids                  Friday      13       1215       1315            2   \n",
       "                                                  14       1315       1415            4   \n",
       "                                      Saturday    19       1800       1900            5   \n",
       "               Alwal                  Monday      09       0830       0930           27   \n",
       "               Ameenpur               Saturday    19       1715       1815            1   \n",
       "...                                                                                 ...   \n",
       "shilparamam    Shamshabad             Wednesday   19       1815       1915           26   \n",
       "                                                  20       1930       2030           21   \n",
       "                                                  21       2030       2130           20   \n",
       "                                                  22       2130       2230           11   \n",
       "               Shamshabad 2 - Airport Sunday      21       2000       2100            1   \n",
       "\n",
       "                                                                                ride_time  \\\n",
       "                                                                                     mean   \n",
       "pickup_cluster drop_cluster           week_period unf_hour start_time end_time              \n",
       "AOC Centre     Abids                  Friday      13       1215       1315      44.566667   \n",
       "                                                  14       1315       1415      42.783333   \n",
       "                                      Saturday    19       1800       1900      56.836667   \n",
       "               Alwal                  Monday      09       0830       0930      22.124074   \n",
       "               Ameenpur               Saturday    19       1715       1815      91.716667   \n",
       "...                                                                                   ...   \n",
       "shilparamam    Shamshabad             Wednesday   19       1815       1915      30.600000   \n",
       "                                                  20       1930       2030      30.110317   \n",
       "                                                  21       2030       2130      25.975833   \n",
       "                                                  22       2130       2230      22.946970   \n",
       "               Shamshabad 2 - Airport Sunday      21       2000       2100      43.016667   \n",
       "\n",
       "                                                                                 strategy  \\\n",
       "                                                                               <lambda_0>   \n",
       "pickup_cluster drop_cluster           week_period unf_hour start_time end_time              \n",
       "AOC Centre     Abids                  Friday      13       1215       1315              0   \n",
       "                                                  14       1315       1415              4   \n",
       "                                      Saturday    19       1800       1900              5   \n",
       "               Alwal                  Monday      09       0830       0930              0   \n",
       "               Ameenpur               Saturday    19       1715       1815              0   \n",
       "...                                                                                   ...   \n",
       "shilparamam    Shamshabad             Wednesday   19       1815       1915             17   \n",
       "                                                  20       1930       2030             21   \n",
       "                                                  21       2030       2130             20   \n",
       "                                                  22       2130       2230             11   \n",
       "               Shamshabad 2 - Airport Sunday      21       2000       2100              1   \n",
       "\n",
       "                                                                                           \n",
       "                                                                               <lambda_1>  \n",
       "pickup_cluster drop_cluster           week_period unf_hour start_time end_time             \n",
       "AOC Centre     Abids                  Friday      13       1215       1315              0  \n",
       "                                                  14       1315       1415              0  \n",
       "                                      Saturday    19       1800       1900              0  \n",
       "               Alwal                  Monday      09       0830       0930              0  \n",
       "               Ameenpur               Saturday    19       1715       1815              0  \n",
       "...                                                                                   ...  \n",
       "shilparamam    Shamshabad             Wednesday   19       1815       1915              0  \n",
       "                                                  20       1930       2030              0  \n",
       "                                                  21       2030       2130              0  \n",
       "                                                  22       2130       2230              0  \n",
       "               Shamshabad 2 - Airport Sunday      21       2000       2100              0  \n",
       "\n",
       "[61027 rows x 4 columns]"
      ]
     },
     "execution_count": 124,
     "metadata": {},
     "output_type": "execute_result"
    }
   ],
   "source": [
    "fe_stats"
   ]
  },
  {
   "cell_type": "code",
   "execution_count": 125,
   "metadata": {},
   "outputs": [],
   "source": [
    "fe_stats.columns = ['fe','ride_time','nosurge_fe','mismatch_fe']"
   ]
  },
  {
   "cell_type": "code",
   "execution_count": 126,
   "metadata": {},
   "outputs": [],
   "source": [
    "fe_stats = fe_stats.reset_index(level=1).reset_index()"
   ]
  },
  {
   "cell_type": "code",
   "execution_count": 127,
   "metadata": {},
   "outputs": [
    {
     "data": {
      "text/html": [
       "<div>\n",
       "<style scoped>\n",
       "    .dataframe tbody tr th:only-of-type {\n",
       "        vertical-align: middle;\n",
       "    }\n",
       "\n",
       "    .dataframe tbody tr th {\n",
       "        vertical-align: top;\n",
       "    }\n",
       "\n",
       "    .dataframe thead th {\n",
       "        text-align: right;\n",
       "    }\n",
       "</style>\n",
       "<table border=\"1\" class=\"dataframe\">\n",
       "  <thead>\n",
       "    <tr style=\"text-align: right;\">\n",
       "      <th></th>\n",
       "      <th>pickup_cluster</th>\n",
       "      <th>week_period</th>\n",
       "      <th>unf_hour</th>\n",
       "      <th>start_time</th>\n",
       "      <th>end_time</th>\n",
       "      <th>drop_cluster</th>\n",
       "      <th>fe</th>\n",
       "      <th>ride_time</th>\n",
       "      <th>nosurge_fe</th>\n",
       "      <th>mismatch_fe</th>\n",
       "    </tr>\n",
       "  </thead>\n",
       "  <tbody>\n",
       "    <tr>\n",
       "      <th>0</th>\n",
       "      <td>AOC Centre</td>\n",
       "      <td>Friday</td>\n",
       "      <td>13</td>\n",
       "      <td>1215</td>\n",
       "      <td>1315</td>\n",
       "      <td>Abids</td>\n",
       "      <td>2</td>\n",
       "      <td>44.566667</td>\n",
       "      <td>0</td>\n",
       "      <td>0</td>\n",
       "    </tr>\n",
       "    <tr>\n",
       "      <th>1</th>\n",
       "      <td>AOC Centre</td>\n",
       "      <td>Friday</td>\n",
       "      <td>14</td>\n",
       "      <td>1315</td>\n",
       "      <td>1415</td>\n",
       "      <td>Abids</td>\n",
       "      <td>4</td>\n",
       "      <td>42.783333</td>\n",
       "      <td>4</td>\n",
       "      <td>0</td>\n",
       "    </tr>\n",
       "    <tr>\n",
       "      <th>2</th>\n",
       "      <td>AOC Centre</td>\n",
       "      <td>Saturday</td>\n",
       "      <td>19</td>\n",
       "      <td>1800</td>\n",
       "      <td>1900</td>\n",
       "      <td>Abids</td>\n",
       "      <td>5</td>\n",
       "      <td>56.836667</td>\n",
       "      <td>5</td>\n",
       "      <td>0</td>\n",
       "    </tr>\n",
       "    <tr>\n",
       "      <th>3</th>\n",
       "      <td>AOC Centre</td>\n",
       "      <td>Monday</td>\n",
       "      <td>09</td>\n",
       "      <td>0830</td>\n",
       "      <td>0930</td>\n",
       "      <td>Alwal</td>\n",
       "      <td>27</td>\n",
       "      <td>22.124074</td>\n",
       "      <td>0</td>\n",
       "      <td>0</td>\n",
       "    </tr>\n",
       "    <tr>\n",
       "      <th>4</th>\n",
       "      <td>AOC Centre</td>\n",
       "      <td>Saturday</td>\n",
       "      <td>19</td>\n",
       "      <td>1715</td>\n",
       "      <td>1815</td>\n",
       "      <td>Ameenpur</td>\n",
       "      <td>1</td>\n",
       "      <td>91.716667</td>\n",
       "      <td>0</td>\n",
       "      <td>0</td>\n",
       "    </tr>\n",
       "    <tr>\n",
       "      <th>...</th>\n",
       "      <td>...</td>\n",
       "      <td>...</td>\n",
       "      <td>...</td>\n",
       "      <td>...</td>\n",
       "      <td>...</td>\n",
       "      <td>...</td>\n",
       "      <td>...</td>\n",
       "      <td>...</td>\n",
       "      <td>...</td>\n",
       "      <td>...</td>\n",
       "    </tr>\n",
       "    <tr>\n",
       "      <th>61022</th>\n",
       "      <td>shilparamam</td>\n",
       "      <td>Wednesday</td>\n",
       "      <td>19</td>\n",
       "      <td>1815</td>\n",
       "      <td>1915</td>\n",
       "      <td>Shamshabad</td>\n",
       "      <td>26</td>\n",
       "      <td>30.600000</td>\n",
       "      <td>17</td>\n",
       "      <td>0</td>\n",
       "    </tr>\n",
       "    <tr>\n",
       "      <th>61023</th>\n",
       "      <td>shilparamam</td>\n",
       "      <td>Wednesday</td>\n",
       "      <td>20</td>\n",
       "      <td>1930</td>\n",
       "      <td>2030</td>\n",
       "      <td>Shamshabad</td>\n",
       "      <td>21</td>\n",
       "      <td>30.110317</td>\n",
       "      <td>21</td>\n",
       "      <td>0</td>\n",
       "    </tr>\n",
       "    <tr>\n",
       "      <th>61024</th>\n",
       "      <td>shilparamam</td>\n",
       "      <td>Wednesday</td>\n",
       "      <td>21</td>\n",
       "      <td>2030</td>\n",
       "      <td>2130</td>\n",
       "      <td>Shamshabad</td>\n",
       "      <td>20</td>\n",
       "      <td>25.975833</td>\n",
       "      <td>20</td>\n",
       "      <td>0</td>\n",
       "    </tr>\n",
       "    <tr>\n",
       "      <th>61025</th>\n",
       "      <td>shilparamam</td>\n",
       "      <td>Wednesday</td>\n",
       "      <td>22</td>\n",
       "      <td>2130</td>\n",
       "      <td>2230</td>\n",
       "      <td>Shamshabad</td>\n",
       "      <td>11</td>\n",
       "      <td>22.946970</td>\n",
       "      <td>11</td>\n",
       "      <td>0</td>\n",
       "    </tr>\n",
       "    <tr>\n",
       "      <th>61026</th>\n",
       "      <td>shilparamam</td>\n",
       "      <td>Sunday</td>\n",
       "      <td>21</td>\n",
       "      <td>2000</td>\n",
       "      <td>2100</td>\n",
       "      <td>Shamshabad 2 - Airport</td>\n",
       "      <td>1</td>\n",
       "      <td>43.016667</td>\n",
       "      <td>1</td>\n",
       "      <td>0</td>\n",
       "    </tr>\n",
       "  </tbody>\n",
       "</table>\n",
       "<p>61027 rows × 10 columns</p>\n",
       "</div>"
      ],
      "text/plain": [
       "      pickup_cluster week_period unf_hour start_time end_time  \\\n",
       "0         AOC Centre      Friday       13       1215     1315   \n",
       "1         AOC Centre      Friday       14       1315     1415   \n",
       "2         AOC Centre    Saturday       19       1800     1900   \n",
       "3         AOC Centre      Monday       09       0830     0930   \n",
       "4         AOC Centre    Saturday       19       1715     1815   \n",
       "...              ...         ...      ...        ...      ...   \n",
       "61022    shilparamam   Wednesday       19       1815     1915   \n",
       "61023    shilparamam   Wednesday       20       1930     2030   \n",
       "61024    shilparamam   Wednesday       21       2030     2130   \n",
       "61025    shilparamam   Wednesday       22       2130     2230   \n",
       "61026    shilparamam      Sunday       21       2000     2100   \n",
       "\n",
       "                 drop_cluster  fe  ride_time  nosurge_fe  mismatch_fe  \n",
       "0                       Abids   2  44.566667           0            0  \n",
       "1                       Abids   4  42.783333           4            0  \n",
       "2                       Abids   5  56.836667           5            0  \n",
       "3                       Alwal  27  22.124074           0            0  \n",
       "4                    Ameenpur   1  91.716667           0            0  \n",
       "...                       ...  ..        ...         ...          ...  \n",
       "61022              Shamshabad  26  30.600000          17            0  \n",
       "61023              Shamshabad  21  30.110317          21            0  \n",
       "61024              Shamshabad  20  25.975833          20            0  \n",
       "61025              Shamshabad  11  22.946970          11            0  \n",
       "61026  Shamshabad 2 - Airport   1  43.016667           1            0  \n",
       "\n",
       "[61027 rows x 10 columns]"
      ]
     },
     "execution_count": 127,
     "metadata": {},
     "output_type": "execute_result"
    }
   ],
   "source": [
    "fe_stats"
   ]
  },
  {
   "cell_type": "code",
   "execution_count": 128,
   "metadata": {},
   "outputs": [],
   "source": [
    "fe_stats = fe_stats[['pickup_cluster','drop_cluster', 'week_period', 'unf_hour', 'start_time', 'end_time',\n",
    "                   'ride_time','fe','nosurge_fe','mismatch_fe']]"
   ]
  },
  {
   "cell_type": "code",
   "execution_count": 129,
   "metadata": {},
   "outputs": [],
   "source": [
    "fe_stats = fe_stats[fe_stats['pickup_cluster']!='']\n",
    "fe_stats = fe_stats[fe_stats['drop_cluster']!='']"
   ]
  },
  {
   "cell_type": "code",
   "execution_count": 130,
   "metadata": {},
   "outputs": [],
   "source": [
    "fe_stats['clus_id'] = fe_stats['drop_cluster']+'_'+fe_stats['week_period']+'_'+fe_stats['unf_hour']"
   ]
  },
  {
   "cell_type": "code",
   "execution_count": 131,
   "metadata": {},
   "outputs": [
    {
     "data": {
      "text/html": [
       "<div>\n",
       "<style scoped>\n",
       "    .dataframe tbody tr th:only-of-type {\n",
       "        vertical-align: middle;\n",
       "    }\n",
       "\n",
       "    .dataframe tbody tr th {\n",
       "        vertical-align: top;\n",
       "    }\n",
       "\n",
       "    .dataframe thead th {\n",
       "        text-align: right;\n",
       "    }\n",
       "</style>\n",
       "<table border=\"1\" class=\"dataframe\">\n",
       "  <thead>\n",
       "    <tr style=\"text-align: right;\">\n",
       "      <th></th>\n",
       "      <th>pickup_cluster</th>\n",
       "      <th>drop_cluster</th>\n",
       "      <th>week_period</th>\n",
       "      <th>unf_hour</th>\n",
       "      <th>start_time</th>\n",
       "      <th>end_time</th>\n",
       "      <th>ride_time</th>\n",
       "      <th>fe</th>\n",
       "      <th>nosurge_fe</th>\n",
       "      <th>mismatch_fe</th>\n",
       "      <th>clus_id</th>\n",
       "    </tr>\n",
       "  </thead>\n",
       "  <tbody>\n",
       "    <tr>\n",
       "      <th>0</th>\n",
       "      <td>AOC Centre</td>\n",
       "      <td>Abids</td>\n",
       "      <td>Friday</td>\n",
       "      <td>13</td>\n",
       "      <td>1215</td>\n",
       "      <td>1315</td>\n",
       "      <td>44.566667</td>\n",
       "      <td>2</td>\n",
       "      <td>0</td>\n",
       "      <td>0</td>\n",
       "      <td>Abids_Friday_13</td>\n",
       "    </tr>\n",
       "    <tr>\n",
       "      <th>1</th>\n",
       "      <td>AOC Centre</td>\n",
       "      <td>Abids</td>\n",
       "      <td>Friday</td>\n",
       "      <td>14</td>\n",
       "      <td>1315</td>\n",
       "      <td>1415</td>\n",
       "      <td>42.783333</td>\n",
       "      <td>4</td>\n",
       "      <td>4</td>\n",
       "      <td>0</td>\n",
       "      <td>Abids_Friday_14</td>\n",
       "    </tr>\n",
       "    <tr>\n",
       "      <th>2</th>\n",
       "      <td>AOC Centre</td>\n",
       "      <td>Abids</td>\n",
       "      <td>Saturday</td>\n",
       "      <td>19</td>\n",
       "      <td>1800</td>\n",
       "      <td>1900</td>\n",
       "      <td>56.836667</td>\n",
       "      <td>5</td>\n",
       "      <td>5</td>\n",
       "      <td>0</td>\n",
       "      <td>Abids_Saturday_19</td>\n",
       "    </tr>\n",
       "    <tr>\n",
       "      <th>3</th>\n",
       "      <td>AOC Centre</td>\n",
       "      <td>Alwal</td>\n",
       "      <td>Monday</td>\n",
       "      <td>09</td>\n",
       "      <td>0830</td>\n",
       "      <td>0930</td>\n",
       "      <td>22.124074</td>\n",
       "      <td>27</td>\n",
       "      <td>0</td>\n",
       "      <td>0</td>\n",
       "      <td>Alwal_Monday_09</td>\n",
       "    </tr>\n",
       "    <tr>\n",
       "      <th>4</th>\n",
       "      <td>AOC Centre</td>\n",
       "      <td>Ameenpur</td>\n",
       "      <td>Saturday</td>\n",
       "      <td>19</td>\n",
       "      <td>1715</td>\n",
       "      <td>1815</td>\n",
       "      <td>91.716667</td>\n",
       "      <td>1</td>\n",
       "      <td>0</td>\n",
       "      <td>0</td>\n",
       "      <td>Ameenpur_Saturday_19</td>\n",
       "    </tr>\n",
       "  </tbody>\n",
       "</table>\n",
       "</div>"
      ],
      "text/plain": [
       "  pickup_cluster drop_cluster week_period unf_hour start_time end_time  \\\n",
       "0     AOC Centre        Abids      Friday       13       1215     1315   \n",
       "1     AOC Centre        Abids      Friday       14       1315     1415   \n",
       "2     AOC Centre        Abids    Saturday       19       1800     1900   \n",
       "3     AOC Centre        Alwal      Monday       09       0830     0930   \n",
       "4     AOC Centre     Ameenpur    Saturday       19       1715     1815   \n",
       "\n",
       "   ride_time  fe  nosurge_fe  mismatch_fe               clus_id  \n",
       "0  44.566667   2           0            0       Abids_Friday_13  \n",
       "1  42.783333   4           4            0       Abids_Friday_14  \n",
       "2  56.836667   5           5            0     Abids_Saturday_19  \n",
       "3  22.124074  27           0            0       Alwal_Monday_09  \n",
       "4  91.716667   1           0            0  Ameenpur_Saturday_19  "
      ]
     },
     "execution_count": 131,
     "metadata": {},
     "output_type": "execute_result"
    }
   ],
   "source": [
    "fe_stats.head()"
   ]
  },
  {
   "cell_type": "markdown",
   "metadata": {},
   "source": [
    "___"
   ]
  },
  {
   "cell_type": "code",
   "execution_count": 132,
   "metadata": {},
   "outputs": [],
   "source": [
    "top_fe_stats = fe_stats[['clus_id','pickup_cluster', 'drop_cluster', 'week_period', 'unf_hour',\n",
    "       'start_time', 'end_time','ride_time', 'fe', 'nosurge_fe','mismatch_fe']]"
   ]
  },
  {
   "cell_type": "code",
   "execution_count": 133,
   "metadata": {},
   "outputs": [],
   "source": [
    "top_fe_stats = top_fe_stats.sort_values(['clus_id'],ascending=[True]).reset_index(drop=True)"
   ]
  },
  {
   "cell_type": "code",
   "execution_count": 134,
   "metadata": {},
   "outputs": [
    {
     "data": {
      "text/html": [
       "<div>\n",
       "<style scoped>\n",
       "    .dataframe tbody tr th:only-of-type {\n",
       "        vertical-align: middle;\n",
       "    }\n",
       "\n",
       "    .dataframe tbody tr th {\n",
       "        vertical-align: top;\n",
       "    }\n",
       "\n",
       "    .dataframe thead th {\n",
       "        text-align: right;\n",
       "    }\n",
       "</style>\n",
       "<table border=\"1\" class=\"dataframe\">\n",
       "  <thead>\n",
       "    <tr style=\"text-align: right;\">\n",
       "      <th></th>\n",
       "      <th>clus_id</th>\n",
       "      <th>pickup_cluster</th>\n",
       "      <th>drop_cluster</th>\n",
       "      <th>week_period</th>\n",
       "      <th>unf_hour</th>\n",
       "      <th>start_time</th>\n",
       "      <th>end_time</th>\n",
       "      <th>ride_time</th>\n",
       "      <th>fe</th>\n",
       "      <th>nosurge_fe</th>\n",
       "      <th>mismatch_fe</th>\n",
       "    </tr>\n",
       "  </thead>\n",
       "  <tbody>\n",
       "    <tr>\n",
       "      <th>0</th>\n",
       "      <td>Abids_Friday_12</td>\n",
       "      <td>Malakpet 3</td>\n",
       "      <td>Abids</td>\n",
       "      <td>Friday</td>\n",
       "      <td>12</td>\n",
       "      <td>1145</td>\n",
       "      <td>1245</td>\n",
       "      <td>18.050000</td>\n",
       "      <td>2</td>\n",
       "      <td>2</td>\n",
       "      <td>0</td>\n",
       "    </tr>\n",
       "    <tr>\n",
       "      <th>1</th>\n",
       "      <td>Abids_Friday_12</td>\n",
       "      <td>Narayanguda</td>\n",
       "      <td>Abids</td>\n",
       "      <td>Friday</td>\n",
       "      <td>12</td>\n",
       "      <td>1145</td>\n",
       "      <td>1245</td>\n",
       "      <td>6.683333</td>\n",
       "      <td>13</td>\n",
       "      <td>13</td>\n",
       "      <td>0</td>\n",
       "    </tr>\n",
       "    <tr>\n",
       "      <th>2</th>\n",
       "      <td>Abids_Friday_12</td>\n",
       "      <td>Kamatipura</td>\n",
       "      <td>Abids</td>\n",
       "      <td>Friday</td>\n",
       "      <td>12</td>\n",
       "      <td>1130</td>\n",
       "      <td>1230</td>\n",
       "      <td>21.750000</td>\n",
       "      <td>1</td>\n",
       "      <td>1</td>\n",
       "      <td>0</td>\n",
       "    </tr>\n",
       "    <tr>\n",
       "      <th>3</th>\n",
       "      <td>Abids_Friday_12</td>\n",
       "      <td>Ameerpet Bus Stop</td>\n",
       "      <td>Abids</td>\n",
       "      <td>Friday</td>\n",
       "      <td>12</td>\n",
       "      <td>1130</td>\n",
       "      <td>1230</td>\n",
       "      <td>25.763889</td>\n",
       "      <td>6</td>\n",
       "      <td>2</td>\n",
       "      <td>4</td>\n",
       "    </tr>\n",
       "    <tr>\n",
       "      <th>4</th>\n",
       "      <td>Abids_Friday_12</td>\n",
       "      <td>Paradise</td>\n",
       "      <td>Abids</td>\n",
       "      <td>Friday</td>\n",
       "      <td>12</td>\n",
       "      <td>1130</td>\n",
       "      <td>1230</td>\n",
       "      <td>17.778333</td>\n",
       "      <td>10</td>\n",
       "      <td>10</td>\n",
       "      <td>0</td>\n",
       "    </tr>\n",
       "  </tbody>\n",
       "</table>\n",
       "</div>"
      ],
      "text/plain": [
       "           clus_id     pickup_cluster drop_cluster week_period unf_hour  \\\n",
       "0  Abids_Friday_12         Malakpet 3        Abids      Friday       12   \n",
       "1  Abids_Friday_12        Narayanguda        Abids      Friday       12   \n",
       "2  Abids_Friday_12         Kamatipura        Abids      Friday       12   \n",
       "3  Abids_Friday_12  Ameerpet Bus Stop        Abids      Friday       12   \n",
       "4  Abids_Friday_12           Paradise        Abids      Friday       12   \n",
       "\n",
       "  start_time end_time  ride_time  fe  nosurge_fe  mismatch_fe  \n",
       "0       1145     1245  18.050000   2           2            0  \n",
       "1       1145     1245   6.683333  13          13            0  \n",
       "2       1130     1230  21.750000   1           1            0  \n",
       "3       1130     1230  25.763889   6           2            4  \n",
       "4       1130     1230  17.778333  10          10            0  "
      ]
     },
     "execution_count": 134,
     "metadata": {},
     "output_type": "execute_result"
    }
   ],
   "source": [
    "top_fe_stats.head()"
   ]
  },
  {
   "cell_type": "code",
   "execution_count": 135,
   "metadata": {},
   "outputs": [],
   "source": [
    "top_unf_stats = top_fe_stats.copy()"
   ]
  },
  {
   "cell_type": "markdown",
   "metadata": {},
   "source": [
    "<div class=\"alert alert-block alert-warning\">\n",
    "\n",
    "</div>"
   ]
  },
  {
   "cell_type": "markdown",
   "metadata": {},
   "source": [
    "___"
   ]
  },
  {
   "cell_type": "markdown",
   "metadata": {},
   "source": [
    "___"
   ]
  },
  {
   "cell_type": "markdown",
   "metadata": {},
   "source": [
    "<div class=\"alert alert-block alert-danger\">\n",
    "\n",
    "# SRuD Routes with Ride Time Check\n",
    "</div>"
   ]
  },
  {
   "cell_type": "markdown",
   "metadata": {},
   "source": [
    "___"
   ]
  },
  {
   "cell_type": "code",
   "execution_count": 136,
   "metadata": {},
   "outputs": [
    {
     "data": {
      "text/html": [
       "<div>\n",
       "<style scoped>\n",
       "    .dataframe tbody tr th:only-of-type {\n",
       "        vertical-align: middle;\n",
       "    }\n",
       "\n",
       "    .dataframe tbody tr th {\n",
       "        vertical-align: top;\n",
       "    }\n",
       "\n",
       "    .dataframe thead th {\n",
       "        text-align: right;\n",
       "    }\n",
       "</style>\n",
       "<table border=\"1\" class=\"dataframe\">\n",
       "  <thead>\n",
       "    <tr style=\"text-align: right;\">\n",
       "      <th></th>\n",
       "      <th>clus_id</th>\n",
       "      <th>pickup_cluster</th>\n",
       "      <th>drop_cluster</th>\n",
       "      <th>week_period</th>\n",
       "      <th>unf_hour</th>\n",
       "      <th>start_time</th>\n",
       "      <th>end_time</th>\n",
       "      <th>ride_time</th>\n",
       "      <th>fe</th>\n",
       "      <th>nosurge_fe</th>\n",
       "      <th>mismatch_fe</th>\n",
       "    </tr>\n",
       "  </thead>\n",
       "  <tbody>\n",
       "    <tr>\n",
       "      <th>0</th>\n",
       "      <td>Abids_Friday_12</td>\n",
       "      <td>Malakpet 3</td>\n",
       "      <td>Abids</td>\n",
       "      <td>Friday</td>\n",
       "      <td>12</td>\n",
       "      <td>1145</td>\n",
       "      <td>1245</td>\n",
       "      <td>18.050000</td>\n",
       "      <td>2</td>\n",
       "      <td>2</td>\n",
       "      <td>0</td>\n",
       "    </tr>\n",
       "    <tr>\n",
       "      <th>1</th>\n",
       "      <td>Abids_Friday_12</td>\n",
       "      <td>Narayanguda</td>\n",
       "      <td>Abids</td>\n",
       "      <td>Friday</td>\n",
       "      <td>12</td>\n",
       "      <td>1145</td>\n",
       "      <td>1245</td>\n",
       "      <td>6.683333</td>\n",
       "      <td>13</td>\n",
       "      <td>13</td>\n",
       "      <td>0</td>\n",
       "    </tr>\n",
       "    <tr>\n",
       "      <th>2</th>\n",
       "      <td>Abids_Friday_12</td>\n",
       "      <td>Kamatipura</td>\n",
       "      <td>Abids</td>\n",
       "      <td>Friday</td>\n",
       "      <td>12</td>\n",
       "      <td>1130</td>\n",
       "      <td>1230</td>\n",
       "      <td>21.750000</td>\n",
       "      <td>1</td>\n",
       "      <td>1</td>\n",
       "      <td>0</td>\n",
       "    </tr>\n",
       "    <tr>\n",
       "      <th>3</th>\n",
       "      <td>Abids_Friday_12</td>\n",
       "      <td>Ameerpet Bus Stop</td>\n",
       "      <td>Abids</td>\n",
       "      <td>Friday</td>\n",
       "      <td>12</td>\n",
       "      <td>1130</td>\n",
       "      <td>1230</td>\n",
       "      <td>25.763889</td>\n",
       "      <td>6</td>\n",
       "      <td>2</td>\n",
       "      <td>4</td>\n",
       "    </tr>\n",
       "    <tr>\n",
       "      <th>4</th>\n",
       "      <td>Abids_Friday_12</td>\n",
       "      <td>Paradise</td>\n",
       "      <td>Abids</td>\n",
       "      <td>Friday</td>\n",
       "      <td>12</td>\n",
       "      <td>1130</td>\n",
       "      <td>1230</td>\n",
       "      <td>17.778333</td>\n",
       "      <td>10</td>\n",
       "      <td>10</td>\n",
       "      <td>0</td>\n",
       "    </tr>\n",
       "    <tr>\n",
       "      <th>...</th>\n",
       "      <td>...</td>\n",
       "      <td>...</td>\n",
       "      <td>...</td>\n",
       "      <td>...</td>\n",
       "      <td>...</td>\n",
       "      <td>...</td>\n",
       "      <td>...</td>\n",
       "      <td>...</td>\n",
       "      <td>...</td>\n",
       "      <td>...</td>\n",
       "      <td>...</td>\n",
       "    </tr>\n",
       "    <tr>\n",
       "      <th>61022</th>\n",
       "      <td>kistareddypet_Sunday_18</td>\n",
       "      <td>Ameerpet</td>\n",
       "      <td>kistareddypet</td>\n",
       "      <td>Sunday</td>\n",
       "      <td>18</td>\n",
       "      <td>1645</td>\n",
       "      <td>1745</td>\n",
       "      <td>52.366667</td>\n",
       "      <td>1</td>\n",
       "      <td>1</td>\n",
       "      <td>0</td>\n",
       "    </tr>\n",
       "    <tr>\n",
       "      <th>61023</th>\n",
       "      <td>kistareddypet_Sunday_18</td>\n",
       "      <td>Medchal 2</td>\n",
       "      <td>kistareddypet</td>\n",
       "      <td>Sunday</td>\n",
       "      <td>18</td>\n",
       "      <td>1700</td>\n",
       "      <td>1800</td>\n",
       "      <td>34.772222</td>\n",
       "      <td>3</td>\n",
       "      <td>3</td>\n",
       "      <td>0</td>\n",
       "    </tr>\n",
       "    <tr>\n",
       "      <th>61024</th>\n",
       "      <td>kistareddypet_Sunday_18</td>\n",
       "      <td>Quthbullapur</td>\n",
       "      <td>kistareddypet</td>\n",
       "      <td>Sunday</td>\n",
       "      <td>18</td>\n",
       "      <td>1715</td>\n",
       "      <td>1815</td>\n",
       "      <td>30.500000</td>\n",
       "      <td>2</td>\n",
       "      <td>2</td>\n",
       "      <td>0</td>\n",
       "    </tr>\n",
       "    <tr>\n",
       "      <th>61025</th>\n",
       "      <td>kistareddypet_Sunday_18</td>\n",
       "      <td>Kothaguda X Road</td>\n",
       "      <td>kistareddypet</td>\n",
       "      <td>Sunday</td>\n",
       "      <td>18</td>\n",
       "      <td>1700</td>\n",
       "      <td>1800</td>\n",
       "      <td>34.150000</td>\n",
       "      <td>2</td>\n",
       "      <td>2</td>\n",
       "      <td>0</td>\n",
       "    </tr>\n",
       "    <tr>\n",
       "      <th>61026</th>\n",
       "      <td>kistareddypet_Sunday_18</td>\n",
       "      <td>Hitech City</td>\n",
       "      <td>kistareddypet</td>\n",
       "      <td>Sunday</td>\n",
       "      <td>18</td>\n",
       "      <td>1700</td>\n",
       "      <td>1800</td>\n",
       "      <td>37.380952</td>\n",
       "      <td>7</td>\n",
       "      <td>1</td>\n",
       "      <td>4</td>\n",
       "    </tr>\n",
       "  </tbody>\n",
       "</table>\n",
       "<p>61027 rows × 11 columns</p>\n",
       "</div>"
      ],
      "text/plain": [
       "                       clus_id     pickup_cluster   drop_cluster week_period  \\\n",
       "0              Abids_Friday_12         Malakpet 3          Abids      Friday   \n",
       "1              Abids_Friday_12        Narayanguda          Abids      Friday   \n",
       "2              Abids_Friday_12         Kamatipura          Abids      Friday   \n",
       "3              Abids_Friday_12  Ameerpet Bus Stop          Abids      Friday   \n",
       "4              Abids_Friday_12           Paradise          Abids      Friday   \n",
       "...                        ...                ...            ...         ...   \n",
       "61022  kistareddypet_Sunday_18           Ameerpet  kistareddypet      Sunday   \n",
       "61023  kistareddypet_Sunday_18          Medchal 2  kistareddypet      Sunday   \n",
       "61024  kistareddypet_Sunday_18       Quthbullapur  kistareddypet      Sunday   \n",
       "61025  kistareddypet_Sunday_18   Kothaguda X Road  kistareddypet      Sunday   \n",
       "61026  kistareddypet_Sunday_18        Hitech City  kistareddypet      Sunday   \n",
       "\n",
       "      unf_hour start_time end_time  ride_time  fe  nosurge_fe  mismatch_fe  \n",
       "0           12       1145     1245  18.050000   2           2            0  \n",
       "1           12       1145     1245   6.683333  13          13            0  \n",
       "2           12       1130     1230  21.750000   1           1            0  \n",
       "3           12       1130     1230  25.763889   6           2            4  \n",
       "4           12       1130     1230  17.778333  10          10            0  \n",
       "...        ...        ...      ...        ...  ..         ...          ...  \n",
       "61022       18       1645     1745  52.366667   1           1            0  \n",
       "61023       18       1700     1800  34.772222   3           3            0  \n",
       "61024       18       1715     1815  30.500000   2           2            0  \n",
       "61025       18       1700     1800  34.150000   2           2            0  \n",
       "61026       18       1700     1800  37.380952   7           1            4  \n",
       "\n",
       "[61027 rows x 11 columns]"
      ]
     },
     "execution_count": 136,
     "metadata": {},
     "output_type": "execute_result"
    }
   ],
   "source": [
    "top_unf_stats"
   ]
  },
  {
   "cell_type": "code",
   "execution_count": 146,
   "metadata": {},
   "outputs": [
    {
     "data": {
      "text/html": [
       "<div>\n",
       "<style scoped>\n",
       "    .dataframe tbody tr th:only-of-type {\n",
       "        vertical-align: middle;\n",
       "    }\n",
       "\n",
       "    .dataframe tbody tr th {\n",
       "        vertical-align: top;\n",
       "    }\n",
       "\n",
       "    .dataframe thead th {\n",
       "        text-align: right;\n",
       "    }\n",
       "</style>\n",
       "<table border=\"1\" class=\"dataframe\">\n",
       "  <thead>\n",
       "    <tr style=\"text-align: right;\">\n",
       "      <th></th>\n",
       "      <th>clus_id</th>\n",
       "      <th>pickup_cluster</th>\n",
       "      <th>drop_cluster</th>\n",
       "      <th>week_period</th>\n",
       "      <th>unf_hour</th>\n",
       "      <th>start_time</th>\n",
       "      <th>end_time</th>\n",
       "      <th>ride_time</th>\n",
       "      <th>fe</th>\n",
       "      <th>nosurge_fe</th>\n",
       "      <th>mismatch_fe</th>\n",
       "    </tr>\n",
       "  </thead>\n",
       "  <tbody>\n",
       "    <tr>\n",
       "      <th>22042</th>\n",
       "      <td>Hitech City_Sunday_21</td>\n",
       "      <td>Sri Ramnagar</td>\n",
       "      <td>Hitech City</td>\n",
       "      <td>Sunday</td>\n",
       "      <td>21</td>\n",
       "      <td>2045</td>\n",
       "      <td>2145</td>\n",
       "      <td>12.291204</td>\n",
       "      <td>36</td>\n",
       "      <td>36</td>\n",
       "      <td>0</td>\n",
       "    </tr>\n",
       "  </tbody>\n",
       "</table>\n",
       "</div>"
      ],
      "text/plain": [
       "                     clus_id pickup_cluster drop_cluster week_period unf_hour  \\\n",
       "22042  Hitech City_Sunday_21   Sri Ramnagar  Hitech City      Sunday       21   \n",
       "\n",
       "      start_time end_time  ride_time  fe  nosurge_fe  mismatch_fe  \n",
       "22042       2045     2145  12.291204  36          36            0  "
      ]
     },
     "execution_count": 146,
     "metadata": {},
     "output_type": "execute_result"
    }
   ],
   "source": [
    "top_unf_stats[(top_unf_stats['clus_id']=='Hitech City_Sunday_21')&\n",
    "              (top_unf_stats['pickup_cluster']=='Sri Ramnagar')]"
   ]
  },
  {
   "cell_type": "markdown",
   "metadata": {},
   "source": [
    "___"
   ]
  },
  {
   "cell_type": "code",
   "execution_count": 137,
   "metadata": {},
   "outputs": [
    {
     "data": {
      "text/plain": [
       "884"
      ]
     },
     "execution_count": 137,
     "metadata": {},
     "output_type": "execute_result"
    }
   ],
   "source": [
    "top_geo_slice['clus_id'].nunique()"
   ]
  },
  {
   "cell_type": "code",
   "execution_count": 138,
   "metadata": {},
   "outputs": [
    {
     "data": {
      "text/plain": [
       "679"
      ]
     },
     "execution_count": 138,
     "metadata": {},
     "output_type": "execute_result"
    }
   ],
   "source": [
    "top_unf_stats['clus_id'].nunique()"
   ]
  },
  {
   "cell_type": "markdown",
   "metadata": {},
   "source": [
    "___"
   ]
  },
  {
   "cell_type": "markdown",
   "metadata": {},
   "source": [
    "## Total SRuD Routes"
   ]
  },
  {
   "cell_type": "code",
   "execution_count": 147,
   "metadata": {},
   "outputs": [
    {
     "data": {
      "text/plain": [
       "61027"
      ]
     },
     "execution_count": 147,
     "metadata": {},
     "output_type": "execute_result"
    }
   ],
   "source": [
    "top_unf_stats.shape[0]"
   ]
  },
  {
   "cell_type": "markdown",
   "metadata": {},
   "source": [
    "## Approx FEs Targeted"
   ]
  },
  {
   "cell_type": "code",
   "execution_count": 148,
   "metadata": {},
   "outputs": [
    {
     "data": {
      "text/plain": [
       "1238591"
      ]
     },
     "execution_count": 148,
     "metadata": {},
     "output_type": "execute_result"
    }
   ],
   "source": [
    "top_unf_stats['fe'].sum()"
   ]
  },
  {
   "cell_type": "markdown",
   "metadata": {},
   "source": [
    "## Compared to Total City FEs"
   ]
  },
  {
   "cell_type": "code",
   "execution_count": 149,
   "metadata": {},
   "outputs": [
    {
     "data": {
      "text/plain": [
       "12.54"
      ]
     },
     "execution_count": 149,
     "metadata": {},
     "output_type": "execute_result"
    }
   ],
   "source": [
    "round(100*top_unf_stats['fe'].sum()/fe_all.shape[0],2)"
   ]
  },
  {
   "cell_type": "markdown",
   "metadata": {},
   "source": [
    "## Mismatched FEs in these Routes"
   ]
  },
  {
   "cell_type": "code",
   "execution_count": 150,
   "metadata": {},
   "outputs": [
    {
     "data": {
      "text/plain": [
       "0.05924803883221538"
      ]
     },
     "execution_count": 150,
     "metadata": {},
     "output_type": "execute_result"
    }
   ],
   "source": [
    "100*top_unf_stats['mismatch_fe'].sum()/fe_all.shape[0]"
   ]
  },
  {
   "cell_type": "markdown",
   "metadata": {},
   "source": [
    "<div class=\"alert alert-block alert-warning\">\n",
    "\n",
    "</div>"
   ]
  },
  {
   "cell_type": "markdown",
   "metadata": {},
   "source": [
    "___"
   ]
  },
  {
   "cell_type": "markdown",
   "metadata": {},
   "source": [
    "___"
   ]
  },
  {
   "cell_type": "markdown",
   "metadata": {},
   "source": [
    "<div class=\"alert alert-block alert-danger\">\n",
    "\n",
    "# Ciruit Breaker Recommendation\n",
    "</div>"
   ]
  },
  {
   "cell_type": "markdown",
   "metadata": {},
   "source": [
    "___"
   ]
  },
  {
   "cell_type": "code",
   "execution_count": 84,
   "metadata": {},
   "outputs": [],
   "source": [
    "final_rec = top_unf_stats[['pickup_cluster', 'drop_cluster', 'week_period','start_time', 'end_time','unf_hour']]"
   ]
  },
  {
   "cell_type": "code",
   "execution_count": 85,
   "metadata": {},
   "outputs": [
    {
     "name": "stderr",
     "output_type": "stream",
     "text": [
      "<ipython-input-85-87c517cc6185>:1: SettingWithCopyWarning: \n",
      "A value is trying to be set on a copy of a slice from a DataFrame.\n",
      "Try using .loc[row_indexer,col_indexer] = value instead\n",
      "\n",
      "See the caveats in the documentation: https://pandas.pydata.org/pandas-docs/stable/user_guide/indexing.html#returning-a-view-versus-a-copy\n",
      "  final_rec['city'] = CITY\n"
     ]
    }
   ],
   "source": [
    "final_rec['city'] = CITY"
   ]
  },
  {
   "cell_type": "code",
   "execution_count": 86,
   "metadata": {},
   "outputs": [],
   "source": [
    "final_rec = final_rec[[ 'city','pickup_cluster', 'drop_cluster', 'week_period', 'start_time','end_time','unf_hour']]"
   ]
  },
  {
   "cell_type": "code",
   "execution_count": 87,
   "metadata": {},
   "outputs": [],
   "source": [
    "final_rec['pickup_hex8'] = 'ALL'\n",
    "final_rec['drop_hex8'] = 'ALL'"
   ]
  },
  {
   "cell_type": "code",
   "execution_count": 88,
   "metadata": {
    "scrolled": false
   },
   "outputs": [
    {
     "data": {
      "text/html": [
       "<div>\n",
       "<style scoped>\n",
       "    .dataframe tbody tr th:only-of-type {\n",
       "        vertical-align: middle;\n",
       "    }\n",
       "\n",
       "    .dataframe tbody tr th {\n",
       "        vertical-align: top;\n",
       "    }\n",
       "\n",
       "    .dataframe thead th {\n",
       "        text-align: right;\n",
       "    }\n",
       "</style>\n",
       "<table border=\"1\" class=\"dataframe\">\n",
       "  <thead>\n",
       "    <tr style=\"text-align: right;\">\n",
       "      <th></th>\n",
       "      <th>city</th>\n",
       "      <th>pickup_cluster</th>\n",
       "      <th>drop_cluster</th>\n",
       "      <th>week_period</th>\n",
       "      <th>start_time</th>\n",
       "      <th>end_time</th>\n",
       "      <th>unf_hour</th>\n",
       "      <th>pickup_hex8</th>\n",
       "      <th>drop_hex8</th>\n",
       "    </tr>\n",
       "  </thead>\n",
       "  <tbody>\n",
       "    <tr>\n",
       "      <th>0</th>\n",
       "      <td>Kolkata</td>\n",
       "      <td>Santoshpur EM Bypass</td>\n",
       "      <td>Aliah University New Town</td>\n",
       "      <td>Friday</td>\n",
       "      <td>1700</td>\n",
       "      <td>1800</td>\n",
       "      <td>18</td>\n",
       "      <td>ALL</td>\n",
       "      <td>ALL</td>\n",
       "    </tr>\n",
       "    <tr>\n",
       "      <th>1</th>\n",
       "      <td>Kolkata</td>\n",
       "      <td>Sector 1</td>\n",
       "      <td>Aliah University New Town</td>\n",
       "      <td>Friday</td>\n",
       "      <td>1730</td>\n",
       "      <td>1830</td>\n",
       "      <td>18</td>\n",
       "      <td>ALL</td>\n",
       "      <td>ALL</td>\n",
       "    </tr>\n",
       "    <tr>\n",
       "      <th>2</th>\n",
       "      <td>Kolkata</td>\n",
       "      <td>NetajiNagar</td>\n",
       "      <td>Aliah University New Town</td>\n",
       "      <td>Friday</td>\n",
       "      <td>1700</td>\n",
       "      <td>1800</td>\n",
       "      <td>18</td>\n",
       "      <td>ALL</td>\n",
       "      <td>ALL</td>\n",
       "    </tr>\n",
       "    <tr>\n",
       "      <th>3</th>\n",
       "      <td>Kolkata</td>\n",
       "      <td>Baguiati</td>\n",
       "      <td>Aliah University New Town</td>\n",
       "      <td>Friday</td>\n",
       "      <td>1730</td>\n",
       "      <td>1830</td>\n",
       "      <td>18</td>\n",
       "      <td>ALL</td>\n",
       "      <td>ALL</td>\n",
       "    </tr>\n",
       "    <tr>\n",
       "      <th>4</th>\n",
       "      <td>Kolkata</td>\n",
       "      <td>Dum Dum Junction</td>\n",
       "      <td>Aliah University New Town</td>\n",
       "      <td>Friday</td>\n",
       "      <td>1715</td>\n",
       "      <td>1815</td>\n",
       "      <td>18</td>\n",
       "      <td>ALL</td>\n",
       "      <td>ALL</td>\n",
       "    </tr>\n",
       "    <tr>\n",
       "      <th>...</th>\n",
       "      <td>...</td>\n",
       "      <td>...</td>\n",
       "      <td>...</td>\n",
       "      <td>...</td>\n",
       "      <td>...</td>\n",
       "      <td>...</td>\n",
       "      <td>...</td>\n",
       "      <td>...</td>\n",
       "      <td>...</td>\n",
       "    </tr>\n",
       "    <tr>\n",
       "      <th>37649</th>\n",
       "      <td>Kolkata</td>\n",
       "      <td>Netaji Nagar H</td>\n",
       "      <td>baranagar</td>\n",
       "      <td>Wednesday</td>\n",
       "      <td>0930</td>\n",
       "      <td>1030</td>\n",
       "      <td>10</td>\n",
       "      <td>ALL</td>\n",
       "      <td>ALL</td>\n",
       "    </tr>\n",
       "    <tr>\n",
       "      <th>37650</th>\n",
       "      <td>Kolkata</td>\n",
       "      <td>Howrah Station</td>\n",
       "      <td>baranagar</td>\n",
       "      <td>Wednesday</td>\n",
       "      <td>0915</td>\n",
       "      <td>1015</td>\n",
       "      <td>10</td>\n",
       "      <td>ALL</td>\n",
       "      <td>ALL</td>\n",
       "    </tr>\n",
       "    <tr>\n",
       "      <th>37651</th>\n",
       "      <td>Kolkata</td>\n",
       "      <td>baranagar</td>\n",
       "      <td>baranagar</td>\n",
       "      <td>Wednesday</td>\n",
       "      <td>0945</td>\n",
       "      <td>1045</td>\n",
       "      <td>10</td>\n",
       "      <td>ALL</td>\n",
       "      <td>ALL</td>\n",
       "    </tr>\n",
       "    <tr>\n",
       "      <th>37652</th>\n",
       "      <td>Kolkata</td>\n",
       "      <td>Uttarpara H</td>\n",
       "      <td>baranagar</td>\n",
       "      <td>Wednesday</td>\n",
       "      <td>0945</td>\n",
       "      <td>1045</td>\n",
       "      <td>10</td>\n",
       "      <td>ALL</td>\n",
       "      <td>ALL</td>\n",
       "    </tr>\n",
       "    <tr>\n",
       "      <th>37653</th>\n",
       "      <td>Kolkata</td>\n",
       "      <td>BhadraKali H</td>\n",
       "      <td>baranagar</td>\n",
       "      <td>Wednesday</td>\n",
       "      <td>0945</td>\n",
       "      <td>1045</td>\n",
       "      <td>10</td>\n",
       "      <td>ALL</td>\n",
       "      <td>ALL</td>\n",
       "    </tr>\n",
       "  </tbody>\n",
       "</table>\n",
       "<p>37654 rows × 9 columns</p>\n",
       "</div>"
      ],
      "text/plain": [
       "          city        pickup_cluster               drop_cluster week_period  \\\n",
       "0      Kolkata  Santoshpur EM Bypass  Aliah University New Town      Friday   \n",
       "1      Kolkata              Sector 1  Aliah University New Town      Friday   \n",
       "2      Kolkata           NetajiNagar  Aliah University New Town      Friday   \n",
       "3      Kolkata              Baguiati  Aliah University New Town      Friday   \n",
       "4      Kolkata      Dum Dum Junction  Aliah University New Town      Friday   \n",
       "...        ...                   ...                        ...         ...   \n",
       "37649  Kolkata        Netaji Nagar H                  baranagar   Wednesday   \n",
       "37650  Kolkata        Howrah Station                  baranagar   Wednesday   \n",
       "37651  Kolkata             baranagar                  baranagar   Wednesday   \n",
       "37652  Kolkata           Uttarpara H                  baranagar   Wednesday   \n",
       "37653  Kolkata          BhadraKali H                  baranagar   Wednesday   \n",
       "\n",
       "      start_time end_time unf_hour pickup_hex8 drop_hex8  \n",
       "0           1700     1800       18         ALL       ALL  \n",
       "1           1730     1830       18         ALL       ALL  \n",
       "2           1700     1800       18         ALL       ALL  \n",
       "3           1730     1830       18         ALL       ALL  \n",
       "4           1715     1815       18         ALL       ALL  \n",
       "...          ...      ...      ...         ...       ...  \n",
       "37649       0930     1030       10         ALL       ALL  \n",
       "37650       0915     1015       10         ALL       ALL  \n",
       "37651       0945     1045       10         ALL       ALL  \n",
       "37652       0945     1045       10         ALL       ALL  \n",
       "37653       0945     1045       10         ALL       ALL  \n",
       "\n",
       "[37654 rows x 9 columns]"
      ]
     },
     "execution_count": 88,
     "metadata": {},
     "output_type": "execute_result"
    }
   ],
   "source": [
    "final_rec"
   ]
  },
  {
   "cell_type": "markdown",
   "metadata": {},
   "source": [
    "<div class=\"alert alert-block alert-warning\">\n",
    "\n",
    "</div>"
   ]
  },
  {
   "cell_type": "markdown",
   "metadata": {},
   "source": [
    "<div class=\"alert alert-block alert-warning\">\n",
    "\n",
    "</div>"
   ]
  },
  {
   "cell_type": "markdown",
   "metadata": {},
   "source": [
    "<div class=\"alert alert-block alert-warning\">\n",
    "\n",
    "</div>"
   ]
  },
  {
   "cell_type": "code",
   "execution_count": 89,
   "metadata": {},
   "outputs": [],
   "source": [
    "final_recommendation = final_rec[['city','pickup_cluster', 'drop_cluster', 'week_period', \n",
    "                                     'start_time','end_time','pickup_hex8','drop_hex8']]"
   ]
  },
  {
   "cell_type": "code",
   "execution_count": 90,
   "metadata": {},
   "outputs": [
    {
     "data": {
      "text/html": [
       "<div>\n",
       "<style scoped>\n",
       "    .dataframe tbody tr th:only-of-type {\n",
       "        vertical-align: middle;\n",
       "    }\n",
       "\n",
       "    .dataframe tbody tr th {\n",
       "        vertical-align: top;\n",
       "    }\n",
       "\n",
       "    .dataframe thead th {\n",
       "        text-align: right;\n",
       "    }\n",
       "</style>\n",
       "<table border=\"1\" class=\"dataframe\">\n",
       "  <thead>\n",
       "    <tr style=\"text-align: right;\">\n",
       "      <th></th>\n",
       "      <th>city</th>\n",
       "      <th>pickup_cluster</th>\n",
       "      <th>drop_cluster</th>\n",
       "      <th>week_period</th>\n",
       "      <th>start_time</th>\n",
       "      <th>end_time</th>\n",
       "      <th>pickup_hex8</th>\n",
       "      <th>drop_hex8</th>\n",
       "    </tr>\n",
       "  </thead>\n",
       "  <tbody>\n",
       "    <tr>\n",
       "      <th>0</th>\n",
       "      <td>Kolkata</td>\n",
       "      <td>Santoshpur EM Bypass</td>\n",
       "      <td>Aliah University New Town</td>\n",
       "      <td>Friday</td>\n",
       "      <td>1700</td>\n",
       "      <td>1800</td>\n",
       "      <td>ALL</td>\n",
       "      <td>ALL</td>\n",
       "    </tr>\n",
       "    <tr>\n",
       "      <th>1</th>\n",
       "      <td>Kolkata</td>\n",
       "      <td>Sector 1</td>\n",
       "      <td>Aliah University New Town</td>\n",
       "      <td>Friday</td>\n",
       "      <td>1730</td>\n",
       "      <td>1830</td>\n",
       "      <td>ALL</td>\n",
       "      <td>ALL</td>\n",
       "    </tr>\n",
       "    <tr>\n",
       "      <th>2</th>\n",
       "      <td>Kolkata</td>\n",
       "      <td>NetajiNagar</td>\n",
       "      <td>Aliah University New Town</td>\n",
       "      <td>Friday</td>\n",
       "      <td>1700</td>\n",
       "      <td>1800</td>\n",
       "      <td>ALL</td>\n",
       "      <td>ALL</td>\n",
       "    </tr>\n",
       "    <tr>\n",
       "      <th>3</th>\n",
       "      <td>Kolkata</td>\n",
       "      <td>Baguiati</td>\n",
       "      <td>Aliah University New Town</td>\n",
       "      <td>Friday</td>\n",
       "      <td>1730</td>\n",
       "      <td>1830</td>\n",
       "      <td>ALL</td>\n",
       "      <td>ALL</td>\n",
       "    </tr>\n",
       "    <tr>\n",
       "      <th>4</th>\n",
       "      <td>Kolkata</td>\n",
       "      <td>Dum Dum Junction</td>\n",
       "      <td>Aliah University New Town</td>\n",
       "      <td>Friday</td>\n",
       "      <td>1715</td>\n",
       "      <td>1815</td>\n",
       "      <td>ALL</td>\n",
       "      <td>ALL</td>\n",
       "    </tr>\n",
       "    <tr>\n",
       "      <th>...</th>\n",
       "      <td>...</td>\n",
       "      <td>...</td>\n",
       "      <td>...</td>\n",
       "      <td>...</td>\n",
       "      <td>...</td>\n",
       "      <td>...</td>\n",
       "      <td>...</td>\n",
       "      <td>...</td>\n",
       "    </tr>\n",
       "    <tr>\n",
       "      <th>37649</th>\n",
       "      <td>Kolkata</td>\n",
       "      <td>Netaji Nagar H</td>\n",
       "      <td>baranagar</td>\n",
       "      <td>Wednesday</td>\n",
       "      <td>0930</td>\n",
       "      <td>1030</td>\n",
       "      <td>ALL</td>\n",
       "      <td>ALL</td>\n",
       "    </tr>\n",
       "    <tr>\n",
       "      <th>37650</th>\n",
       "      <td>Kolkata</td>\n",
       "      <td>Howrah Station</td>\n",
       "      <td>baranagar</td>\n",
       "      <td>Wednesday</td>\n",
       "      <td>0915</td>\n",
       "      <td>1015</td>\n",
       "      <td>ALL</td>\n",
       "      <td>ALL</td>\n",
       "    </tr>\n",
       "    <tr>\n",
       "      <th>37651</th>\n",
       "      <td>Kolkata</td>\n",
       "      <td>baranagar</td>\n",
       "      <td>baranagar</td>\n",
       "      <td>Wednesday</td>\n",
       "      <td>0945</td>\n",
       "      <td>1045</td>\n",
       "      <td>ALL</td>\n",
       "      <td>ALL</td>\n",
       "    </tr>\n",
       "    <tr>\n",
       "      <th>37652</th>\n",
       "      <td>Kolkata</td>\n",
       "      <td>Uttarpara H</td>\n",
       "      <td>baranagar</td>\n",
       "      <td>Wednesday</td>\n",
       "      <td>0945</td>\n",
       "      <td>1045</td>\n",
       "      <td>ALL</td>\n",
       "      <td>ALL</td>\n",
       "    </tr>\n",
       "    <tr>\n",
       "      <th>37653</th>\n",
       "      <td>Kolkata</td>\n",
       "      <td>BhadraKali H</td>\n",
       "      <td>baranagar</td>\n",
       "      <td>Wednesday</td>\n",
       "      <td>0945</td>\n",
       "      <td>1045</td>\n",
       "      <td>ALL</td>\n",
       "      <td>ALL</td>\n",
       "    </tr>\n",
       "  </tbody>\n",
       "</table>\n",
       "<p>37654 rows × 8 columns</p>\n",
       "</div>"
      ],
      "text/plain": [
       "          city        pickup_cluster               drop_cluster week_period  \\\n",
       "0      Kolkata  Santoshpur EM Bypass  Aliah University New Town      Friday   \n",
       "1      Kolkata              Sector 1  Aliah University New Town      Friday   \n",
       "2      Kolkata           NetajiNagar  Aliah University New Town      Friday   \n",
       "3      Kolkata              Baguiati  Aliah University New Town      Friday   \n",
       "4      Kolkata      Dum Dum Junction  Aliah University New Town      Friday   \n",
       "...        ...                   ...                        ...         ...   \n",
       "37649  Kolkata        Netaji Nagar H                  baranagar   Wednesday   \n",
       "37650  Kolkata        Howrah Station                  baranagar   Wednesday   \n",
       "37651  Kolkata             baranagar                  baranagar   Wednesday   \n",
       "37652  Kolkata           Uttarpara H                  baranagar   Wednesday   \n",
       "37653  Kolkata          BhadraKali H                  baranagar   Wednesday   \n",
       "\n",
       "      start_time end_time pickup_hex8 drop_hex8  \n",
       "0           1700     1800         ALL       ALL  \n",
       "1           1730     1830         ALL       ALL  \n",
       "2           1700     1800         ALL       ALL  \n",
       "3           1730     1830         ALL       ALL  \n",
       "4           1715     1815         ALL       ALL  \n",
       "...          ...      ...         ...       ...  \n",
       "37649       0930     1030         ALL       ALL  \n",
       "37650       0915     1015         ALL       ALL  \n",
       "37651       0945     1045         ALL       ALL  \n",
       "37652       0945     1045         ALL       ALL  \n",
       "37653       0945     1045         ALL       ALL  \n",
       "\n",
       "[37654 rows x 8 columns]"
      ]
     },
     "execution_count": 90,
     "metadata": {},
     "output_type": "execute_result"
    }
   ],
   "source": [
    "final_recommendation = final_recommendation.reset_index(drop=True)\n",
    "final_recommendation"
   ]
  },
  {
   "cell_type": "code",
   "execution_count": 91,
   "metadata": {},
   "outputs": [],
   "source": [
    "rec_name = CITY[:3]+'_'+START_DATE[-2:]+'_'+END_DATE[-2:]+'_cb_recommendation.parquet'"
   ]
  },
  {
   "cell_type": "code",
   "execution_count": 92,
   "metadata": {},
   "outputs": [
    {
     "data": {
      "text/plain": [
       "'Kol_22_28_cb_recommendation.parquet'"
      ]
     },
     "execution_count": 92,
     "metadata": {},
     "output_type": "execute_result"
    }
   ],
   "source": [
    "rec_name"
   ]
  },
  {
   "cell_type": "code",
   "execution_count": 93,
   "metadata": {},
   "outputs": [],
   "source": [
    "final_recommendation.to_parquet(rec_name,index=False)"
   ]
  },
  {
   "cell_type": "markdown",
   "metadata": {},
   "source": [
    "<div class=\"alert alert-block alert-warning\">\n",
    "\n",
    "</div>"
   ]
  },
  {
   "cell_type": "markdown",
   "metadata": {},
   "source": [
    "___"
   ]
  },
  {
   "cell_type": "markdown",
   "metadata": {},
   "source": [
    "<div class=\"alert alert-block alert-warning\">\n",
    "\n",
    "</div>"
   ]
  },
  {
   "cell_type": "code",
   "execution_count": 94,
   "metadata": {},
   "outputs": [
    {
     "data": {
      "text/html": [
       "<div>\n",
       "<style scoped>\n",
       "    .dataframe tbody tr th:only-of-type {\n",
       "        vertical-align: middle;\n",
       "    }\n",
       "\n",
       "    .dataframe tbody tr th {\n",
       "        vertical-align: top;\n",
       "    }\n",
       "\n",
       "    .dataframe thead th {\n",
       "        text-align: right;\n",
       "    }\n",
       "</style>\n",
       "<table border=\"1\" class=\"dataframe\">\n",
       "  <thead>\n",
       "    <tr style=\"text-align: right;\">\n",
       "      <th></th>\n",
       "      <th>city</th>\n",
       "      <th>pickup_cluster</th>\n",
       "      <th>drop_cluster</th>\n",
       "      <th>week_period</th>\n",
       "      <th>start_time</th>\n",
       "      <th>end_time</th>\n",
       "      <th>unf_hour</th>\n",
       "      <th>pickup_hex8</th>\n",
       "      <th>drop_hex8</th>\n",
       "    </tr>\n",
       "  </thead>\n",
       "  <tbody>\n",
       "    <tr>\n",
       "      <th>0</th>\n",
       "      <td>Kolkata</td>\n",
       "      <td>Santoshpur EM Bypass</td>\n",
       "      <td>Aliah University New Town</td>\n",
       "      <td>Friday</td>\n",
       "      <td>1700</td>\n",
       "      <td>1800</td>\n",
       "      <td>18</td>\n",
       "      <td>ALL</td>\n",
       "      <td>ALL</td>\n",
       "    </tr>\n",
       "    <tr>\n",
       "      <th>1</th>\n",
       "      <td>Kolkata</td>\n",
       "      <td>Sector 1</td>\n",
       "      <td>Aliah University New Town</td>\n",
       "      <td>Friday</td>\n",
       "      <td>1730</td>\n",
       "      <td>1830</td>\n",
       "      <td>18</td>\n",
       "      <td>ALL</td>\n",
       "      <td>ALL</td>\n",
       "    </tr>\n",
       "    <tr>\n",
       "      <th>2</th>\n",
       "      <td>Kolkata</td>\n",
       "      <td>NetajiNagar</td>\n",
       "      <td>Aliah University New Town</td>\n",
       "      <td>Friday</td>\n",
       "      <td>1700</td>\n",
       "      <td>1800</td>\n",
       "      <td>18</td>\n",
       "      <td>ALL</td>\n",
       "      <td>ALL</td>\n",
       "    </tr>\n",
       "    <tr>\n",
       "      <th>3</th>\n",
       "      <td>Kolkata</td>\n",
       "      <td>Baguiati</td>\n",
       "      <td>Aliah University New Town</td>\n",
       "      <td>Friday</td>\n",
       "      <td>1730</td>\n",
       "      <td>1830</td>\n",
       "      <td>18</td>\n",
       "      <td>ALL</td>\n",
       "      <td>ALL</td>\n",
       "    </tr>\n",
       "    <tr>\n",
       "      <th>4</th>\n",
       "      <td>Kolkata</td>\n",
       "      <td>Dum Dum Junction</td>\n",
       "      <td>Aliah University New Town</td>\n",
       "      <td>Friday</td>\n",
       "      <td>1715</td>\n",
       "      <td>1815</td>\n",
       "      <td>18</td>\n",
       "      <td>ALL</td>\n",
       "      <td>ALL</td>\n",
       "    </tr>\n",
       "    <tr>\n",
       "      <th>...</th>\n",
       "      <td>...</td>\n",
       "      <td>...</td>\n",
       "      <td>...</td>\n",
       "      <td>...</td>\n",
       "      <td>...</td>\n",
       "      <td>...</td>\n",
       "      <td>...</td>\n",
       "      <td>...</td>\n",
       "      <td>...</td>\n",
       "    </tr>\n",
       "    <tr>\n",
       "      <th>37649</th>\n",
       "      <td>Kolkata</td>\n",
       "      <td>Netaji Nagar H</td>\n",
       "      <td>baranagar</td>\n",
       "      <td>Wednesday</td>\n",
       "      <td>0930</td>\n",
       "      <td>1030</td>\n",
       "      <td>10</td>\n",
       "      <td>ALL</td>\n",
       "      <td>ALL</td>\n",
       "    </tr>\n",
       "    <tr>\n",
       "      <th>37650</th>\n",
       "      <td>Kolkata</td>\n",
       "      <td>Howrah Station</td>\n",
       "      <td>baranagar</td>\n",
       "      <td>Wednesday</td>\n",
       "      <td>0915</td>\n",
       "      <td>1015</td>\n",
       "      <td>10</td>\n",
       "      <td>ALL</td>\n",
       "      <td>ALL</td>\n",
       "    </tr>\n",
       "    <tr>\n",
       "      <th>37651</th>\n",
       "      <td>Kolkata</td>\n",
       "      <td>baranagar</td>\n",
       "      <td>baranagar</td>\n",
       "      <td>Wednesday</td>\n",
       "      <td>0945</td>\n",
       "      <td>1045</td>\n",
       "      <td>10</td>\n",
       "      <td>ALL</td>\n",
       "      <td>ALL</td>\n",
       "    </tr>\n",
       "    <tr>\n",
       "      <th>37652</th>\n",
       "      <td>Kolkata</td>\n",
       "      <td>Uttarpara H</td>\n",
       "      <td>baranagar</td>\n",
       "      <td>Wednesday</td>\n",
       "      <td>0945</td>\n",
       "      <td>1045</td>\n",
       "      <td>10</td>\n",
       "      <td>ALL</td>\n",
       "      <td>ALL</td>\n",
       "    </tr>\n",
       "    <tr>\n",
       "      <th>37653</th>\n",
       "      <td>Kolkata</td>\n",
       "      <td>BhadraKali H</td>\n",
       "      <td>baranagar</td>\n",
       "      <td>Wednesday</td>\n",
       "      <td>0945</td>\n",
       "      <td>1045</td>\n",
       "      <td>10</td>\n",
       "      <td>ALL</td>\n",
       "      <td>ALL</td>\n",
       "    </tr>\n",
       "  </tbody>\n",
       "</table>\n",
       "<p>37654 rows × 9 columns</p>\n",
       "</div>"
      ],
      "text/plain": [
       "          city        pickup_cluster               drop_cluster week_period  \\\n",
       "0      Kolkata  Santoshpur EM Bypass  Aliah University New Town      Friday   \n",
       "1      Kolkata              Sector 1  Aliah University New Town      Friday   \n",
       "2      Kolkata           NetajiNagar  Aliah University New Town      Friday   \n",
       "3      Kolkata              Baguiati  Aliah University New Town      Friday   \n",
       "4      Kolkata      Dum Dum Junction  Aliah University New Town      Friday   \n",
       "...        ...                   ...                        ...         ...   \n",
       "37649  Kolkata        Netaji Nagar H                  baranagar   Wednesday   \n",
       "37650  Kolkata        Howrah Station                  baranagar   Wednesday   \n",
       "37651  Kolkata             baranagar                  baranagar   Wednesday   \n",
       "37652  Kolkata           Uttarpara H                  baranagar   Wednesday   \n",
       "37653  Kolkata          BhadraKali H                  baranagar   Wednesday   \n",
       "\n",
       "      start_time end_time unf_hour pickup_hex8 drop_hex8  \n",
       "0           1700     1800       18         ALL       ALL  \n",
       "1           1730     1830       18         ALL       ALL  \n",
       "2           1700     1800       18         ALL       ALL  \n",
       "3           1730     1830       18         ALL       ALL  \n",
       "4           1715     1815       18         ALL       ALL  \n",
       "...          ...      ...      ...         ...       ...  \n",
       "37649       0930     1030       10         ALL       ALL  \n",
       "37650       0915     1015       10         ALL       ALL  \n",
       "37651       0945     1045       10         ALL       ALL  \n",
       "37652       0945     1045       10         ALL       ALL  \n",
       "37653       0945     1045       10         ALL       ALL  \n",
       "\n",
       "[37654 rows x 9 columns]"
      ]
     },
     "execution_count": 94,
     "metadata": {},
     "output_type": "execute_result"
    }
   ],
   "source": [
    "final_rec"
   ]
  },
  {
   "cell_type": "code",
   "execution_count": 95,
   "metadata": {},
   "outputs": [],
   "source": [
    "exp_routes_df = CITY[:3]+'_'+START_DATE[-2:]+'_'+END_DATE[-2:]+'_all_routes_df_.parquet'"
   ]
  },
  {
   "cell_type": "code",
   "execution_count": 96,
   "metadata": {},
   "outputs": [
    {
     "data": {
      "text/plain": [
       "'Kol_22_28_all_routes_df_.parquet'"
      ]
     },
     "execution_count": 96,
     "metadata": {},
     "output_type": "execute_result"
    }
   ],
   "source": [
    "exp_routes_df"
   ]
  },
  {
   "cell_type": "code",
   "execution_count": 97,
   "metadata": {},
   "outputs": [],
   "source": [
    "final_rec.to_parquet(exp_routes_df,index=False)"
   ]
  },
  {
   "cell_type": "markdown",
   "metadata": {},
   "source": [
    "<div class=\"alert alert-block alert-warning\">\n",
    "\n",
    "</div>"
   ]
  },
  {
   "cell_type": "markdown",
   "metadata": {},
   "source": [
    "___"
   ]
  },
  {
   "cell_type": "markdown",
   "metadata": {},
   "source": [
    "___"
   ]
  },
  {
   "cell_type": "markdown",
   "metadata": {},
   "source": [
    "<div class=\"alert alert-block alert-warning\">\n",
    "\n",
    "</div>"
   ]
  },
  {
   "cell_type": "markdown",
   "metadata": {},
   "source": [
    "___"
   ]
  },
  {
   "cell_type": "markdown",
   "metadata": {},
   "source": [
    "___"
   ]
  },
  {
   "cell_type": "markdown",
   "metadata": {},
   "source": [
    "___"
   ]
  },
  {
   "cell_type": "markdown",
   "metadata": {},
   "source": [
    "___"
   ]
  },
  {
   "cell_type": "markdown",
   "metadata": {},
   "source": [
    "___"
   ]
  },
  {
   "cell_type": "markdown",
   "metadata": {},
   "source": [
    "___"
   ]
  }
 ],
 "metadata": {
  "kernelspec": {
   "display_name": "Python 3",
   "language": "python",
   "name": "python3"
  },
  "language_info": {
   "codemirror_mode": {
    "name": "ipython",
    "version": 3
   },
   "file_extension": ".py",
   "mimetype": "text/x-python",
   "name": "python",
   "nbconvert_exporter": "python",
   "pygments_lexer": "ipython3",
   "version": "3.8.3"
  }
 },
 "nbformat": 4,
 "nbformat_minor": 4
}
