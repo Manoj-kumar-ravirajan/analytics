{
 "cells": [
  {
   "cell_type": "markdown",
   "metadata": {},
   "source": [
    "<div style=\"display:block\">\n",
    "    <div style=\"width: 20%; display: inline-block; text-align: left;\">\n",
    "        <div class=\"crop\">\n",
    "            <img src=\"https://image4.owler.com/logo/rapido_owler_20190125_062402_original.png\" style=\"height:75px; margin-left:0px\" />\n",
    "        </div>\n",
    "    </div>\n",
    "    <div style=\"width: 59%; display: inline-block\">\n",
    "            <h1  style=\"text-align: center\">SRuD Circuit Breaker Setup</h1><br>\n",
    "        <div style=\"width: 90%; text-align: center; display: inline-block;\"><i>By:</i> <strong>Ritik Prakash</strong> </div>\n",
    "    </div>\n",
    "    <div style=\"width: 20%; text-align: right; display: inline-block;\">\n",
    "        <div style=\"width: 100%; text-align: left; display: inline-block;\">\n",
    "            <i>Created: </i>\n",
    "            <time datetime=\"Enter Date\" pubdate>28th March, 2023</time>\n",
    "        </div>\n",
    "    </div>\n",
    "</div>"
   ]
  },
  {
   "cell_type": "markdown",
   "metadata": {},
   "source": [
    "___\n",
    "___"
   ]
  },
  {
   "cell_type": "markdown",
   "metadata": {},
   "source": [
    "<div class=\"alert alert-block alert-danger\">\n",
    "\n",
    "# Data Configs\n",
    "</div>"
   ]
  },
  {
   "cell_type": "markdown",
   "metadata": {},
   "source": [
    "<div class=\"alert alert-block alert-warning\">\n",
    "    \n",
    "### Enter Configs To Run The Notebook\n",
    "Comment or Edit the changes in Similar Format\n",
    "</div>"
   ]
  },
  {
   "cell_type": "markdown",
   "metadata": {},
   "source": [
    "___"
   ]
  },
  {
   "cell_type": "code",
   "execution_count": 204,
   "metadata": {
    "ExecuteTime": {
     "end_time": "2021-04-23T16:30:43.970488Z",
     "start_time": "2021-04-23T16:30:43.968172Z"
    }
   },
   "outputs": [],
   "source": [
    "file_name = 'Kol_22_28_cb_recommendation.parquet'"
   ]
  },
  {
   "cell_type": "markdown",
   "metadata": {},
   "source": [
    "___"
   ]
  },
  {
   "cell_type": "markdown",
   "metadata": {},
   "source": [
    "<div class=\"alert alert-block alert-info\">\n",
    "\n",
    "# Importing Packages\n",
    "</div>"
   ]
  },
  {
   "cell_type": "code",
   "execution_count": 205,
   "metadata": {},
   "outputs": [],
   "source": [
    "%matplotlib inline\n",
    "%config InlineBackend.figure_format = 'retina'\n",
    "\n",
    "import ast\n",
    "from datetime import datetime,timedelta,date\n",
    "import glob\n",
    "import json\n",
    "import uuid\n",
    "import time\n",
    "\n",
    "import numpy as np\n",
    "import pandas as pd\n",
    "pd.set_option('display.max_columns', None)\n",
    "pd.set_option('display.max_rows', 200)\n",
    "pd.set_option('display.max_colwidth', 200)\n",
    "\n",
    "import matplotlib.pyplot as plt\n",
    "import seaborn as sns\n",
    "\n",
    "from tqdm.notebook import tqdm\n",
    "tqdm.pandas()\n",
    "\n",
    "from h3 import h3"
   ]
  },
  {
   "cell_type": "code",
   "execution_count": 206,
   "metadata": {},
   "outputs": [],
   "source": [
    "from pyhive import presto\n",
    "conn = presto.connect(\n",
    "    host='presto-gateway.serving.data.plectrum.dev',\n",
    "    port=443,\n",
    "    protocol='https',\n",
    "    catalog='hive',\n",
    "    username='ritik.prakash@rapido.bike')"
   ]
  },
  {
   "cell_type": "markdown",
   "metadata": {},
   "source": [
    "___"
   ]
  },
  {
   "cell_type": "markdown",
   "metadata": {},
   "source": [
    "<div class=\"alert alert-block alert-info\">\n",
    "\n",
    "# Preparing Data\n",
    "</div>"
   ]
  },
  {
   "cell_type": "markdown",
   "metadata": {},
   "source": [
    "___"
   ]
  },
  {
   "cell_type": "code",
   "execution_count": 207,
   "metadata": {},
   "outputs": [],
   "source": [
    "hh_routes_data = pd.read_parquet(file_name)"
   ]
  },
  {
   "cell_type": "code",
   "execution_count": 208,
   "metadata": {},
   "outputs": [
    {
     "data": {
      "text/html": [
       "<div>\n",
       "<style scoped>\n",
       "    .dataframe tbody tr th:only-of-type {\n",
       "        vertical-align: middle;\n",
       "    }\n",
       "\n",
       "    .dataframe tbody tr th {\n",
       "        vertical-align: top;\n",
       "    }\n",
       "\n",
       "    .dataframe thead th {\n",
       "        text-align: right;\n",
       "    }\n",
       "</style>\n",
       "<table border=\"1\" class=\"dataframe\">\n",
       "  <thead>\n",
       "    <tr style=\"text-align: right;\">\n",
       "      <th></th>\n",
       "      <th>city</th>\n",
       "      <th>pickup_cluster</th>\n",
       "      <th>drop_cluster</th>\n",
       "      <th>week_period</th>\n",
       "      <th>start_time</th>\n",
       "      <th>end_time</th>\n",
       "      <th>pickup_hex8</th>\n",
       "      <th>drop_hex8</th>\n",
       "    </tr>\n",
       "  </thead>\n",
       "  <tbody>\n",
       "    <tr>\n",
       "      <th>0</th>\n",
       "      <td>Kolkata</td>\n",
       "      <td>Santoshpur EM Bypass</td>\n",
       "      <td>Aliah University New Town</td>\n",
       "      <td>Friday</td>\n",
       "      <td>1700</td>\n",
       "      <td>1800</td>\n",
       "      <td>ALL</td>\n",
       "      <td>ALL</td>\n",
       "    </tr>\n",
       "    <tr>\n",
       "      <th>1</th>\n",
       "      <td>Kolkata</td>\n",
       "      <td>Sector 1</td>\n",
       "      <td>Aliah University New Town</td>\n",
       "      <td>Friday</td>\n",
       "      <td>1730</td>\n",
       "      <td>1830</td>\n",
       "      <td>ALL</td>\n",
       "      <td>ALL</td>\n",
       "    </tr>\n",
       "    <tr>\n",
       "      <th>2</th>\n",
       "      <td>Kolkata</td>\n",
       "      <td>NetajiNagar</td>\n",
       "      <td>Aliah University New Town</td>\n",
       "      <td>Friday</td>\n",
       "      <td>1700</td>\n",
       "      <td>1800</td>\n",
       "      <td>ALL</td>\n",
       "      <td>ALL</td>\n",
       "    </tr>\n",
       "    <tr>\n",
       "      <th>3</th>\n",
       "      <td>Kolkata</td>\n",
       "      <td>Baguiati</td>\n",
       "      <td>Aliah University New Town</td>\n",
       "      <td>Friday</td>\n",
       "      <td>1730</td>\n",
       "      <td>1830</td>\n",
       "      <td>ALL</td>\n",
       "      <td>ALL</td>\n",
       "    </tr>\n",
       "    <tr>\n",
       "      <th>4</th>\n",
       "      <td>Kolkata</td>\n",
       "      <td>Dum Dum Junction</td>\n",
       "      <td>Aliah University New Town</td>\n",
       "      <td>Friday</td>\n",
       "      <td>1715</td>\n",
       "      <td>1815</td>\n",
       "      <td>ALL</td>\n",
       "      <td>ALL</td>\n",
       "    </tr>\n",
       "    <tr>\n",
       "      <th>...</th>\n",
       "      <td>...</td>\n",
       "      <td>...</td>\n",
       "      <td>...</td>\n",
       "      <td>...</td>\n",
       "      <td>...</td>\n",
       "      <td>...</td>\n",
       "      <td>...</td>\n",
       "      <td>...</td>\n",
       "    </tr>\n",
       "    <tr>\n",
       "      <th>37649</th>\n",
       "      <td>Kolkata</td>\n",
       "      <td>Netaji Nagar H</td>\n",
       "      <td>baranagar</td>\n",
       "      <td>Wednesday</td>\n",
       "      <td>0930</td>\n",
       "      <td>1030</td>\n",
       "      <td>ALL</td>\n",
       "      <td>ALL</td>\n",
       "    </tr>\n",
       "    <tr>\n",
       "      <th>37650</th>\n",
       "      <td>Kolkata</td>\n",
       "      <td>Howrah Station</td>\n",
       "      <td>baranagar</td>\n",
       "      <td>Wednesday</td>\n",
       "      <td>0915</td>\n",
       "      <td>1015</td>\n",
       "      <td>ALL</td>\n",
       "      <td>ALL</td>\n",
       "    </tr>\n",
       "    <tr>\n",
       "      <th>37651</th>\n",
       "      <td>Kolkata</td>\n",
       "      <td>baranagar</td>\n",
       "      <td>baranagar</td>\n",
       "      <td>Wednesday</td>\n",
       "      <td>0945</td>\n",
       "      <td>1045</td>\n",
       "      <td>ALL</td>\n",
       "      <td>ALL</td>\n",
       "    </tr>\n",
       "    <tr>\n",
       "      <th>37652</th>\n",
       "      <td>Kolkata</td>\n",
       "      <td>Uttarpara H</td>\n",
       "      <td>baranagar</td>\n",
       "      <td>Wednesday</td>\n",
       "      <td>0945</td>\n",
       "      <td>1045</td>\n",
       "      <td>ALL</td>\n",
       "      <td>ALL</td>\n",
       "    </tr>\n",
       "    <tr>\n",
       "      <th>37653</th>\n",
       "      <td>Kolkata</td>\n",
       "      <td>BhadraKali H</td>\n",
       "      <td>baranagar</td>\n",
       "      <td>Wednesday</td>\n",
       "      <td>0945</td>\n",
       "      <td>1045</td>\n",
       "      <td>ALL</td>\n",
       "      <td>ALL</td>\n",
       "    </tr>\n",
       "  </tbody>\n",
       "</table>\n",
       "<p>37654 rows × 8 columns</p>\n",
       "</div>"
      ],
      "text/plain": [
       "          city        pickup_cluster               drop_cluster week_period  \\\n",
       "0      Kolkata  Santoshpur EM Bypass  Aliah University New Town      Friday   \n",
       "1      Kolkata              Sector 1  Aliah University New Town      Friday   \n",
       "2      Kolkata           NetajiNagar  Aliah University New Town      Friday   \n",
       "3      Kolkata              Baguiati  Aliah University New Town      Friday   \n",
       "4      Kolkata      Dum Dum Junction  Aliah University New Town      Friday   \n",
       "...        ...                   ...                        ...         ...   \n",
       "37649  Kolkata        Netaji Nagar H                  baranagar   Wednesday   \n",
       "37650  Kolkata        Howrah Station                  baranagar   Wednesday   \n",
       "37651  Kolkata             baranagar                  baranagar   Wednesday   \n",
       "37652  Kolkata           Uttarpara H                  baranagar   Wednesday   \n",
       "37653  Kolkata          BhadraKali H                  baranagar   Wednesday   \n",
       "\n",
       "      start_time end_time pickup_hex8 drop_hex8  \n",
       "0           1700     1800         ALL       ALL  \n",
       "1           1730     1830         ALL       ALL  \n",
       "2           1700     1800         ALL       ALL  \n",
       "3           1730     1830         ALL       ALL  \n",
       "4           1715     1815         ALL       ALL  \n",
       "...          ...      ...         ...       ...  \n",
       "37649       0930     1030         ALL       ALL  \n",
       "37650       0915     1015         ALL       ALL  \n",
       "37651       0945     1045         ALL       ALL  \n",
       "37652       0945     1045         ALL       ALL  \n",
       "37653       0945     1045         ALL       ALL  \n",
       "\n",
       "[37654 rows x 8 columns]"
      ]
     },
     "execution_count": 208,
     "metadata": {},
     "output_type": "execute_result"
    }
   ],
   "source": [
    "hh_routes_data"
   ]
  },
  {
   "cell_type": "markdown",
   "metadata": {},
   "source": [
    "___"
   ]
  },
  {
   "cell_type": "markdown",
   "metadata": {},
   "source": [
    "<div class=\"alert alert-block alert-info\">\n",
    "\n",
    "# Build Hot Hot Configs\n",
    "</div>"
   ]
  },
  {
   "cell_type": "code",
   "execution_count": 209,
   "metadata": {},
   "outputs": [],
   "source": [
    "city_name = hh_routes_data['city'].unique()[0]"
   ]
  },
  {
   "cell_type": "code",
   "execution_count": 210,
   "metadata": {},
   "outputs": [
    {
     "name": "stderr",
     "output_type": "stream",
     "text": [
      "/Users/apple/opt/anaconda3/lib/python3.8/site-packages/pandas/io/sql.py:761: UserWarning: pandas only support SQLAlchemy connectable(engine/connection) ordatabase string URI or sqlite3 DBAPI2 connectionother DBAPI2 objects are not tested, please consider using SQLAlchemy\n",
      "  warnings.warn(\n"
     ]
    }
   ],
   "source": [
    "query = \"\"\"\n",
    "\n",
    "        SELECT \n",
    "            service_detail_id\n",
    "        FROM \n",
    "            datasets.service_mapping\n",
    "        WHERE \n",
    "            city_display_name = '{city}' \n",
    "            AND service_level = 'Link'\n",
    "\n",
    "        \"\"\".format(city = city_name)\n",
    "\n",
    "service_mapping = pd.read_sql_query(query, conn).iloc[0]\n",
    "city_service_detail_id = service_mapping[0]"
   ]
  },
  {
   "cell_type": "code",
   "execution_count": 211,
   "metadata": {
    "scrolled": true
   },
   "outputs": [
    {
     "data": {
      "text/plain": [
       "'5c124a1e0241913903a42fe1'"
      ]
     },
     "execution_count": 211,
     "metadata": {},
     "output_type": "execute_result"
    }
   ],
   "source": [
    "city_service_detail_id"
   ]
  },
  {
   "cell_type": "markdown",
   "metadata": {},
   "source": [
    "___"
   ]
  },
  {
   "cell_type": "markdown",
   "metadata": {},
   "source": [
    "___"
   ]
  },
  {
   "cell_type": "markdown",
   "metadata": {},
   "source": [
    "___"
   ]
  },
  {
   "cell_type": "code",
   "execution_count": 212,
   "metadata": {},
   "outputs": [],
   "source": [
    "CITY = city_name                                    # FORMAT: 'CITY_NAME', As per record\n",
    "START_DATE = '20230530'                             # FORMAT: 'YYYYMMDD'\n",
    "END_DATE = '20230605'                               # FORMAT: 'YYYYMMDD'\n",
    "SERVICE_DETAIL_ID = city_service_detail_id          # FORMAT: 'SERVICE_DETAIL_ID', As per record\n",
    "CAPTAIN_PAYOUT = 0                                  # FORMAT: In Rupees\n",
    "STRATEGY = ['mismatch','hot_cold_surge']"
   ]
  },
  {
   "cell_type": "markdown",
   "metadata": {},
   "source": [
    "___"
   ]
  },
  {
   "cell_type": "markdown",
   "metadata": {},
   "source": [
    "___"
   ]
  },
  {
   "cell_type": "markdown",
   "metadata": {},
   "source": [
    "___"
   ]
  },
  {
   "cell_type": "markdown",
   "metadata": {},
   "source": [
    "<div class=\"alert alert-block alert-warning\">\n",
    "\n",
    "### Format\n",
    "</div>"
   ]
  },
  {
   "cell_type": "code",
   "execution_count": 213,
   "metadata": {},
   "outputs": [],
   "source": [
    "sample = {\n",
    "    \"service_detail_id\": \"5c04f8eec922ad49db3b5ec2\",\n",
    "    \"end_date\": \"20220401\",\n",
    "    \"city\": \"Guwahati\",\n",
    "    \"run_date\": \"20220331\",\n",
    "    \"updated_at\": 1645675999,\n",
    "    \"recommendation_date\": \"20220401\",\n",
    "    \"pickup_cluster\": \"Paltan Bazaar\",\n",
    "    \"drop_cluster\": \"Paltan Bazaar\",\n",
    "    \"end_time\": \"1030\",\n",
    "    \"type\": \"order_acceptance\",\n",
    "    \"captain_payout\": 23,\n",
    "    \"start_date\": \"20220401\",\n",
    "    \"created_at\": 1645675999,\n",
    "    \"period\": \"\",\n",
    "    \"updated_by\": \"bhargav.k@rapido.bike\",\n",
    "    \"start_time\": \"1000\",\n",
    "    \"pickup_hex8\":\"88619aa4d9fffff\",\n",
    "    \"drop_hex8\":\"88619aa4d9fffff\",\n",
    "    \"start_distance\":0,\n",
    "    \"end_distance\":100,\n",
    "    \"eligible_strategy\":'mismatch',\n",
    "    \"rule_id\": \"d2e843de-a3bd-4de9-a2e5-22e41953d8d0\"\n",
    "}"
   ]
  },
  {
   "cell_type": "code",
   "execution_count": 214,
   "metadata": {},
   "outputs": [],
   "source": [
    "config_format = json.loads(json.dumps(sample))\n",
    "config_format = pd.DataFrame(config_format, index=[0])"
   ]
  },
  {
   "cell_type": "code",
   "execution_count": 215,
   "metadata": {},
   "outputs": [],
   "source": [
    "config_format = config_format.columns"
   ]
  },
  {
   "cell_type": "code",
   "execution_count": 216,
   "metadata": {},
   "outputs": [
    {
     "data": {
      "text/plain": [
       "Index(['service_detail_id', 'end_date', 'city', 'run_date', 'updated_at',\n",
       "       'recommendation_date', 'pickup_cluster', 'drop_cluster', 'end_time',\n",
       "       'type', 'captain_payout', 'start_date', 'created_at', 'period',\n",
       "       'updated_by', 'start_time', 'pickup_hex8', 'drop_hex8',\n",
       "       'start_distance', 'end_distance', 'eligible_strategy', 'rule_id'],\n",
       "      dtype='object')"
      ]
     },
     "execution_count": 216,
     "metadata": {},
     "output_type": "execute_result"
    }
   ],
   "source": [
    "config_format"
   ]
  },
  {
   "cell_type": "markdown",
   "metadata": {},
   "source": [
    "___"
   ]
  },
  {
   "cell_type": "markdown",
   "metadata": {},
   "source": [
    "<div class=\"alert alert-block alert-warning\">\n",
    "\n",
    "### Generating Configs\n",
    "</div>"
   ]
  },
  {
   "cell_type": "code",
   "execution_count": 217,
   "metadata": {},
   "outputs": [],
   "source": [
    "configuration = hh_routes_data.copy()"
   ]
  },
  {
   "cell_type": "code",
   "execution_count": 218,
   "metadata": {},
   "outputs": [
    {
     "data": {
      "text/html": [
       "<div>\n",
       "<style scoped>\n",
       "    .dataframe tbody tr th:only-of-type {\n",
       "        vertical-align: middle;\n",
       "    }\n",
       "\n",
       "    .dataframe tbody tr th {\n",
       "        vertical-align: top;\n",
       "    }\n",
       "\n",
       "    .dataframe thead th {\n",
       "        text-align: right;\n",
       "    }\n",
       "</style>\n",
       "<table border=\"1\" class=\"dataframe\">\n",
       "  <thead>\n",
       "    <tr style=\"text-align: right;\">\n",
       "      <th></th>\n",
       "      <th>city</th>\n",
       "      <th>pickup_cluster</th>\n",
       "      <th>drop_cluster</th>\n",
       "      <th>week_period</th>\n",
       "      <th>start_time</th>\n",
       "      <th>end_time</th>\n",
       "      <th>pickup_hex8</th>\n",
       "      <th>drop_hex8</th>\n",
       "    </tr>\n",
       "  </thead>\n",
       "  <tbody>\n",
       "    <tr>\n",
       "      <th>0</th>\n",
       "      <td>Kolkata</td>\n",
       "      <td>Santoshpur EM Bypass</td>\n",
       "      <td>Aliah University New Town</td>\n",
       "      <td>Friday</td>\n",
       "      <td>1700</td>\n",
       "      <td>1800</td>\n",
       "      <td>ALL</td>\n",
       "      <td>ALL</td>\n",
       "    </tr>\n",
       "    <tr>\n",
       "      <th>1</th>\n",
       "      <td>Kolkata</td>\n",
       "      <td>Sector 1</td>\n",
       "      <td>Aliah University New Town</td>\n",
       "      <td>Friday</td>\n",
       "      <td>1730</td>\n",
       "      <td>1830</td>\n",
       "      <td>ALL</td>\n",
       "      <td>ALL</td>\n",
       "    </tr>\n",
       "    <tr>\n",
       "      <th>2</th>\n",
       "      <td>Kolkata</td>\n",
       "      <td>NetajiNagar</td>\n",
       "      <td>Aliah University New Town</td>\n",
       "      <td>Friday</td>\n",
       "      <td>1700</td>\n",
       "      <td>1800</td>\n",
       "      <td>ALL</td>\n",
       "      <td>ALL</td>\n",
       "    </tr>\n",
       "    <tr>\n",
       "      <th>3</th>\n",
       "      <td>Kolkata</td>\n",
       "      <td>Baguiati</td>\n",
       "      <td>Aliah University New Town</td>\n",
       "      <td>Friday</td>\n",
       "      <td>1730</td>\n",
       "      <td>1830</td>\n",
       "      <td>ALL</td>\n",
       "      <td>ALL</td>\n",
       "    </tr>\n",
       "    <tr>\n",
       "      <th>4</th>\n",
       "      <td>Kolkata</td>\n",
       "      <td>Dum Dum Junction</td>\n",
       "      <td>Aliah University New Town</td>\n",
       "      <td>Friday</td>\n",
       "      <td>1715</td>\n",
       "      <td>1815</td>\n",
       "      <td>ALL</td>\n",
       "      <td>ALL</td>\n",
       "    </tr>\n",
       "  </tbody>\n",
       "</table>\n",
       "</div>"
      ],
      "text/plain": [
       "      city        pickup_cluster               drop_cluster week_period  \\\n",
       "0  Kolkata  Santoshpur EM Bypass  Aliah University New Town      Friday   \n",
       "1  Kolkata              Sector 1  Aliah University New Town      Friday   \n",
       "2  Kolkata           NetajiNagar  Aliah University New Town      Friday   \n",
       "3  Kolkata              Baguiati  Aliah University New Town      Friday   \n",
       "4  Kolkata      Dum Dum Junction  Aliah University New Town      Friday   \n",
       "\n",
       "  start_time end_time pickup_hex8 drop_hex8  \n",
       "0       1700     1800         ALL       ALL  \n",
       "1       1730     1830         ALL       ALL  \n",
       "2       1700     1800         ALL       ALL  \n",
       "3       1730     1830         ALL       ALL  \n",
       "4       1715     1815         ALL       ALL  "
      ]
     },
     "execution_count": 218,
     "metadata": {},
     "output_type": "execute_result"
    }
   ],
   "source": [
    "configuration.head()"
   ]
  },
  {
   "cell_type": "code",
   "execution_count": 219,
   "metadata": {},
   "outputs": [],
   "source": [
    "configuration['service_detail_id'] = SERVICE_DETAIL_ID\n",
    "configuration['start_date'] = START_DATE\n",
    "configuration['end_date'] = END_DATE\n",
    "configuration['run_date'] = date.today().strftime('%Y%m%d')\n",
    "configuration['start_time'] = configuration['start_time']\n",
    "configuration['created_at'] = int(time.time())\n",
    "configuration['updated_at'] = int(time.time())\n",
    "configuration['period'] = ''\n",
    "configuration['captain_payout'] = CAPTAIN_PAYOUT\n",
    "configuration['type'] = 'order_acceptance'\n",
    "configuration['updated_by'] = 'ritik.prakash@rapido.bike'\n",
    "configuration['city'] = CITY\n",
    "configuration['start_distance'] = 0\n",
    "configuration['end_distance'] = 100"
   ]
  },
  {
   "cell_type": "code",
   "execution_count": 220,
   "metadata": {},
   "outputs": [],
   "source": [
    "def rule(configuration):\n",
    "    rule_id = str(uuid.uuid4())\n",
    "    return rule_id\n",
    "\n",
    "configuration['rule_id'] = configuration.apply(rule,axis=1)"
   ]
  },
  {
   "cell_type": "code",
   "execution_count": 221,
   "metadata": {},
   "outputs": [],
   "source": [
    "config_df = configuration.copy()"
   ]
  },
  {
   "cell_type": "code",
   "execution_count": 222,
   "metadata": {},
   "outputs": [],
   "source": [
    "start_day = datetime.strptime(START_DATE, '%Y%m%d') \n",
    "end_day = datetime.strptime(END_DATE, '%Y%m%d')\n",
    "day = timedelta(days=1)"
   ]
  },
  {
   "cell_type": "code",
   "execution_count": 223,
   "metadata": {},
   "outputs": [],
   "source": [
    "cur_day = start_day"
   ]
  },
  {
   "cell_type": "code",
   "execution_count": 224,
   "metadata": {},
   "outputs": [],
   "source": [
    "rec_df = pd.DataFrame()"
   ]
  },
  {
   "cell_type": "code",
   "execution_count": 225,
   "metadata": {},
   "outputs": [],
   "source": [
    "while cur_day <= end_day:\n",
    "    \n",
    "    week_day = cur_day.strftime(\"%A\")\n",
    "    rec_date = cur_day.strftime(\"%Y%m%d\")\n",
    "    \n",
    "    week_data = config_df[config_df['week_period']==week_day]\n",
    "    week_data = week_data.assign(recommendation_date=rec_date)\n",
    "    \n",
    "    rec_df = pd.concat([rec_df,week_data]).reset_index(drop=True)\n",
    "\n",
    "    cur_day = cur_day + day"
   ]
  },
  {
   "cell_type": "code",
   "execution_count": 226,
   "metadata": {},
   "outputs": [],
   "source": [
    "config_df = rec_df.sort_values(['city','recommendation_date'])"
   ]
  },
  {
   "cell_type": "code",
   "execution_count": 227,
   "metadata": {},
   "outputs": [],
   "source": [
    "config_df['start_date'] = config_df['recommendation_date'].copy()\n",
    "config_df['end_date'] = config_df['recommendation_date'].copy()"
   ]
  },
  {
   "cell_type": "code",
   "execution_count": 228,
   "metadata": {},
   "outputs": [],
   "source": [
    "all_configuration = pd.DataFrame()\n",
    "\n",
    "for stat in STRATEGY:\n",
    "    config_all_df = config_df.copy()\n",
    "    config_all_df['eligible_strategy'] = stat\n",
    "    all_configuration = pd.concat([all_configuration,config_all_df]).reset_index(drop=True)"
   ]
  },
  {
   "cell_type": "code",
   "execution_count": 229,
   "metadata": {},
   "outputs": [],
   "source": [
    "all_configuration = all_configuration[config_format].sort_values(by=['recommendation_date', \n",
    "                                                             'start_time']).reset_index(drop=True)"
   ]
  },
  {
   "cell_type": "code",
   "execution_count": 230,
   "metadata": {},
   "outputs": [],
   "source": [
    "all_configuration.loc[all_configuration.start_time == '2300', 'end_time'] = '2400'"
   ]
  },
  {
   "cell_type": "code",
   "execution_count": 231,
   "metadata": {},
   "outputs": [
    {
     "data": {
      "text/plain": [
       "(75308, 22)"
      ]
     },
     "execution_count": 231,
     "metadata": {},
     "output_type": "execute_result"
    }
   ],
   "source": [
    "all_configuration.shape"
   ]
  },
  {
   "cell_type": "code",
   "execution_count": 232,
   "metadata": {
    "scrolled": false
   },
   "outputs": [
    {
     "data": {
      "text/html": [
       "<div>\n",
       "<style scoped>\n",
       "    .dataframe tbody tr th:only-of-type {\n",
       "        vertical-align: middle;\n",
       "    }\n",
       "\n",
       "    .dataframe tbody tr th {\n",
       "        vertical-align: top;\n",
       "    }\n",
       "\n",
       "    .dataframe thead th {\n",
       "        text-align: right;\n",
       "    }\n",
       "</style>\n",
       "<table border=\"1\" class=\"dataframe\">\n",
       "  <thead>\n",
       "    <tr style=\"text-align: right;\">\n",
       "      <th></th>\n",
       "      <th>service_detail_id</th>\n",
       "      <th>end_date</th>\n",
       "      <th>city</th>\n",
       "      <th>run_date</th>\n",
       "      <th>updated_at</th>\n",
       "      <th>recommendation_date</th>\n",
       "      <th>pickup_cluster</th>\n",
       "      <th>drop_cluster</th>\n",
       "      <th>end_time</th>\n",
       "      <th>type</th>\n",
       "      <th>captain_payout</th>\n",
       "      <th>start_date</th>\n",
       "      <th>created_at</th>\n",
       "      <th>period</th>\n",
       "      <th>updated_by</th>\n",
       "      <th>start_time</th>\n",
       "      <th>pickup_hex8</th>\n",
       "      <th>drop_hex8</th>\n",
       "      <th>start_distance</th>\n",
       "      <th>end_distance</th>\n",
       "      <th>eligible_strategy</th>\n",
       "      <th>rule_id</th>\n",
       "    </tr>\n",
       "  </thead>\n",
       "  <tbody>\n",
       "    <tr>\n",
       "      <th>0</th>\n",
       "      <td>5c124a1e0241913903a42fe1</td>\n",
       "      <td>20230530</td>\n",
       "      <td>Kolkata</td>\n",
       "      <td>20230529</td>\n",
       "      <td>1685363714</td>\n",
       "      <td>20230530</td>\n",
       "      <td>New Nawpara</td>\n",
       "      <td>Saltlake sector 5</td>\n",
       "      <td>0515</td>\n",
       "      <td>order_acceptance</td>\n",
       "      <td>0</td>\n",
       "      <td>20230530</td>\n",
       "      <td>1685363714</td>\n",
       "      <td></td>\n",
       "      <td>ritik.prakash@rapido.bike</td>\n",
       "      <td>0415</td>\n",
       "      <td>ALL</td>\n",
       "      <td>ALL</td>\n",
       "      <td>0</td>\n",
       "      <td>100</td>\n",
       "      <td>mismatch</td>\n",
       "      <td>6163433c-9970-40fb-993c-129cc4adf5bd</td>\n",
       "    </tr>\n",
       "    <tr>\n",
       "      <th>1</th>\n",
       "      <td>5c124a1e0241913903a42fe1</td>\n",
       "      <td>20230530</td>\n",
       "      <td>Kolkata</td>\n",
       "      <td>20230529</td>\n",
       "      <td>1685363714</td>\n",
       "      <td>20230530</td>\n",
       "      <td>New Nawpara</td>\n",
       "      <td>Saltlake sector 5</td>\n",
       "      <td>0515</td>\n",
       "      <td>order_acceptance</td>\n",
       "      <td>0</td>\n",
       "      <td>20230530</td>\n",
       "      <td>1685363714</td>\n",
       "      <td></td>\n",
       "      <td>ritik.prakash@rapido.bike</td>\n",
       "      <td>0415</td>\n",
       "      <td>ALL</td>\n",
       "      <td>ALL</td>\n",
       "      <td>0</td>\n",
       "      <td>100</td>\n",
       "      <td>hot_cold_surge</td>\n",
       "      <td>6163433c-9970-40fb-993c-129cc4adf5bd</td>\n",
       "    </tr>\n",
       "    <tr>\n",
       "      <th>2</th>\n",
       "      <td>5c124a1e0241913903a42fe1</td>\n",
       "      <td>20230530</td>\n",
       "      <td>Kolkata</td>\n",
       "      <td>20230529</td>\n",
       "      <td>1685363714</td>\n",
       "      <td>20230530</td>\n",
       "      <td>New Town CE Block</td>\n",
       "      <td>Saltlake sector 5</td>\n",
       "      <td>0545</td>\n",
       "      <td>order_acceptance</td>\n",
       "      <td>0</td>\n",
       "      <td>20230530</td>\n",
       "      <td>1685363714</td>\n",
       "      <td></td>\n",
       "      <td>ritik.prakash@rapido.bike</td>\n",
       "      <td>0445</td>\n",
       "      <td>ALL</td>\n",
       "      <td>ALL</td>\n",
       "      <td>0</td>\n",
       "      <td>100</td>\n",
       "      <td>mismatch</td>\n",
       "      <td>f2cd8857-f3c7-45b8-97b4-3a5284eccce7</td>\n",
       "    </tr>\n",
       "    <tr>\n",
       "      <th>3</th>\n",
       "      <td>5c124a1e0241913903a42fe1</td>\n",
       "      <td>20230530</td>\n",
       "      <td>Kolkata</td>\n",
       "      <td>20230529</td>\n",
       "      <td>1685363714</td>\n",
       "      <td>20230530</td>\n",
       "      <td>Saltlake sector 5</td>\n",
       "      <td>Saltlake sector 5</td>\n",
       "      <td>0545</td>\n",
       "      <td>order_acceptance</td>\n",
       "      <td>0</td>\n",
       "      <td>20230530</td>\n",
       "      <td>1685363714</td>\n",
       "      <td></td>\n",
       "      <td>ritik.prakash@rapido.bike</td>\n",
       "      <td>0445</td>\n",
       "      <td>ALL</td>\n",
       "      <td>ALL</td>\n",
       "      <td>0</td>\n",
       "      <td>100</td>\n",
       "      <td>mismatch</td>\n",
       "      <td>8499cee5-7513-498c-b517-723cbaba8f57</td>\n",
       "    </tr>\n",
       "    <tr>\n",
       "      <th>4</th>\n",
       "      <td>5c124a1e0241913903a42fe1</td>\n",
       "      <td>20230530</td>\n",
       "      <td>Kolkata</td>\n",
       "      <td>20230529</td>\n",
       "      <td>1685363714</td>\n",
       "      <td>20230530</td>\n",
       "      <td>New Town CE Block</td>\n",
       "      <td>Saltlake sector 5</td>\n",
       "      <td>0545</td>\n",
       "      <td>order_acceptance</td>\n",
       "      <td>0</td>\n",
       "      <td>20230530</td>\n",
       "      <td>1685363714</td>\n",
       "      <td></td>\n",
       "      <td>ritik.prakash@rapido.bike</td>\n",
       "      <td>0445</td>\n",
       "      <td>ALL</td>\n",
       "      <td>ALL</td>\n",
       "      <td>0</td>\n",
       "      <td>100</td>\n",
       "      <td>hot_cold_surge</td>\n",
       "      <td>f2cd8857-f3c7-45b8-97b4-3a5284eccce7</td>\n",
       "    </tr>\n",
       "  </tbody>\n",
       "</table>\n",
       "</div>"
      ],
      "text/plain": [
       "          service_detail_id  end_date     city  run_date  updated_at  \\\n",
       "0  5c124a1e0241913903a42fe1  20230530  Kolkata  20230529  1685363714   \n",
       "1  5c124a1e0241913903a42fe1  20230530  Kolkata  20230529  1685363714   \n",
       "2  5c124a1e0241913903a42fe1  20230530  Kolkata  20230529  1685363714   \n",
       "3  5c124a1e0241913903a42fe1  20230530  Kolkata  20230529  1685363714   \n",
       "4  5c124a1e0241913903a42fe1  20230530  Kolkata  20230529  1685363714   \n",
       "\n",
       "  recommendation_date     pickup_cluster       drop_cluster end_time  \\\n",
       "0            20230530        New Nawpara  Saltlake sector 5     0515   \n",
       "1            20230530        New Nawpara  Saltlake sector 5     0515   \n",
       "2            20230530  New Town CE Block  Saltlake sector 5     0545   \n",
       "3            20230530  Saltlake sector 5  Saltlake sector 5     0545   \n",
       "4            20230530  New Town CE Block  Saltlake sector 5     0545   \n",
       "\n",
       "               type  captain_payout start_date  created_at period  \\\n",
       "0  order_acceptance               0   20230530  1685363714          \n",
       "1  order_acceptance               0   20230530  1685363714          \n",
       "2  order_acceptance               0   20230530  1685363714          \n",
       "3  order_acceptance               0   20230530  1685363714          \n",
       "4  order_acceptance               0   20230530  1685363714          \n",
       "\n",
       "                  updated_by start_time pickup_hex8 drop_hex8  start_distance  \\\n",
       "0  ritik.prakash@rapido.bike       0415         ALL       ALL               0   \n",
       "1  ritik.prakash@rapido.bike       0415         ALL       ALL               0   \n",
       "2  ritik.prakash@rapido.bike       0445         ALL       ALL               0   \n",
       "3  ritik.prakash@rapido.bike       0445         ALL       ALL               0   \n",
       "4  ritik.prakash@rapido.bike       0445         ALL       ALL               0   \n",
       "\n",
       "   end_distance eligible_strategy                               rule_id  \n",
       "0           100          mismatch  6163433c-9970-40fb-993c-129cc4adf5bd  \n",
       "1           100    hot_cold_surge  6163433c-9970-40fb-993c-129cc4adf5bd  \n",
       "2           100          mismatch  f2cd8857-f3c7-45b8-97b4-3a5284eccce7  \n",
       "3           100          mismatch  8499cee5-7513-498c-b517-723cbaba8f57  \n",
       "4           100    hot_cold_surge  f2cd8857-f3c7-45b8-97b4-3a5284eccce7  "
      ]
     },
     "execution_count": 232,
     "metadata": {},
     "output_type": "execute_result"
    }
   ],
   "source": [
    "all_configuration.head()"
   ]
  },
  {
   "cell_type": "code",
   "execution_count": 233,
   "metadata": {},
   "outputs": [
    {
     "data": {
      "text/plain": [
       "service_detail_id      object\n",
       "end_date               object\n",
       "city                   object\n",
       "run_date               object\n",
       "updated_at              int64\n",
       "recommendation_date    object\n",
       "pickup_cluster         object\n",
       "drop_cluster           object\n",
       "end_time               object\n",
       "type                   object\n",
       "captain_payout          int64\n",
       "start_date             object\n",
       "created_at              int64\n",
       "period                 object\n",
       "updated_by             object\n",
       "start_time             object\n",
       "pickup_hex8            object\n",
       "drop_hex8              object\n",
       "start_distance          int64\n",
       "end_distance            int64\n",
       "eligible_strategy      object\n",
       "rule_id                object\n",
       "dtype: object"
      ]
     },
     "execution_count": 233,
     "metadata": {},
     "output_type": "execute_result"
    }
   ],
   "source": [
    "all_configuration.dtypes"
   ]
  },
  {
   "cell_type": "markdown",
   "metadata": {},
   "source": [
    "___"
   ]
  },
  {
   "cell_type": "markdown",
   "metadata": {},
   "source": [
    "___"
   ]
  },
  {
   "cell_type": "code",
   "execution_count": 234,
   "metadata": {},
   "outputs": [
    {
     "data": {
      "text/plain": [
       "(75308, 22)"
      ]
     },
     "execution_count": 234,
     "metadata": {},
     "output_type": "execute_result"
    }
   ],
   "source": [
    "all_configuration.shape"
   ]
  },
  {
   "cell_type": "code",
   "execution_count": 235,
   "metadata": {},
   "outputs": [
    {
     "data": {
      "text/plain": [
       "array(['20230530', '20230531', '20230601', '20230602', '20230603',\n",
       "       '20230604', '20230605'], dtype=object)"
      ]
     },
     "execution_count": 235,
     "metadata": {},
     "output_type": "execute_result"
    }
   ],
   "source": [
    "all_configuration['recommendation_date'].unique()"
   ]
  },
  {
   "cell_type": "code",
   "execution_count": 68,
   "metadata": {},
   "outputs": [],
   "source": [
    "# delhi = all_configuration.copy()"
   ]
  },
  {
   "cell_type": "code",
   "execution_count": 101,
   "metadata": {},
   "outputs": [],
   "source": [
    "# hyd = all_configuration.copy()"
   ]
  },
  {
   "cell_type": "code",
   "execution_count": 134,
   "metadata": {},
   "outputs": [],
   "source": [
    "# che = all_configuration.copy()"
   ]
  },
  {
   "cell_type": "code",
   "execution_count": 167,
   "metadata": {},
   "outputs": [],
   "source": [
    "# blr = all_configuration.copy()"
   ]
  },
  {
   "cell_type": "code",
   "execution_count": 200,
   "metadata": {},
   "outputs": [],
   "source": [
    "# jai = all_configuration.copy()"
   ]
  },
  {
   "cell_type": "code",
   "execution_count": 236,
   "metadata": {},
   "outputs": [],
   "source": [
    "# kol = all_configuration.copy()"
   ]
  },
  {
   "cell_type": "code",
   "execution_count": 237,
   "metadata": {},
   "outputs": [],
   "source": [
    "all_city = pd.concat([delhi,hyd,che,blr,jai,kol]).reset_index(drop=True)"
   ]
  },
  {
   "cell_type": "code",
   "execution_count": 243,
   "metadata": {},
   "outputs": [],
   "source": [
    "final_ac = all_city.copy()"
   ]
  },
  {
   "cell_type": "code",
   "execution_count": 244,
   "metadata": {},
   "outputs": [],
   "source": [
    "def rule(configuration):\n",
    "    rule_id = str(uuid.uuid4())\n",
    "    return rule_id\n",
    "\n",
    "final_ac['rule_id'] = final_ac.apply(rule,axis=1)"
   ]
  },
  {
   "cell_type": "code",
   "execution_count": 245,
   "metadata": {},
   "outputs": [
    {
     "data": {
      "text/html": [
       "<div>\n",
       "<style scoped>\n",
       "    .dataframe tbody tr th:only-of-type {\n",
       "        vertical-align: middle;\n",
       "    }\n",
       "\n",
       "    .dataframe tbody tr th {\n",
       "        vertical-align: top;\n",
       "    }\n",
       "\n",
       "    .dataframe thead th {\n",
       "        text-align: right;\n",
       "    }\n",
       "</style>\n",
       "<table border=\"1\" class=\"dataframe\">\n",
       "  <thead>\n",
       "    <tr style=\"text-align: right;\">\n",
       "      <th></th>\n",
       "      <th>service_detail_id</th>\n",
       "      <th>end_date</th>\n",
       "      <th>city</th>\n",
       "      <th>run_date</th>\n",
       "      <th>updated_at</th>\n",
       "      <th>recommendation_date</th>\n",
       "      <th>pickup_cluster</th>\n",
       "      <th>drop_cluster</th>\n",
       "      <th>end_time</th>\n",
       "      <th>type</th>\n",
       "      <th>captain_payout</th>\n",
       "      <th>start_date</th>\n",
       "      <th>created_at</th>\n",
       "      <th>period</th>\n",
       "      <th>updated_by</th>\n",
       "      <th>start_time</th>\n",
       "      <th>pickup_hex8</th>\n",
       "      <th>drop_hex8</th>\n",
       "      <th>start_distance</th>\n",
       "      <th>end_distance</th>\n",
       "      <th>eligible_strategy</th>\n",
       "      <th>rule_id</th>\n",
       "    </tr>\n",
       "  </thead>\n",
       "  <tbody>\n",
       "    <tr>\n",
       "      <th>0</th>\n",
       "      <td>5da4660028af187d8d52cc3c</td>\n",
       "      <td>20230530</td>\n",
       "      <td>Delhi</td>\n",
       "      <td>20230529</td>\n",
       "      <td>1685362964</td>\n",
       "      <td>20230530</td>\n",
       "      <td>Rohini_del</td>\n",
       "      <td>DLF Phase-1</td>\n",
       "      <td>0730</td>\n",
       "      <td>order_acceptance</td>\n",
       "      <td>0</td>\n",
       "      <td>20230530</td>\n",
       "      <td>1685362964</td>\n",
       "      <td></td>\n",
       "      <td>ritik.prakash@rapido.bike</td>\n",
       "      <td>0630</td>\n",
       "      <td>ALL</td>\n",
       "      <td>ALL</td>\n",
       "      <td>0</td>\n",
       "      <td>100</td>\n",
       "      <td>mismatch</td>\n",
       "      <td>171c789d-8165-4d9e-a854-bbe81daaed73</td>\n",
       "    </tr>\n",
       "    <tr>\n",
       "      <th>1</th>\n",
       "      <td>5da4660028af187d8d52cc3c</td>\n",
       "      <td>20230530</td>\n",
       "      <td>Delhi</td>\n",
       "      <td>20230529</td>\n",
       "      <td>1685362964</td>\n",
       "      <td>20230530</td>\n",
       "      <td>NCR N Okhla 2</td>\n",
       "      <td>Dwarka_Del</td>\n",
       "      <td>0730</td>\n",
       "      <td>order_acceptance</td>\n",
       "      <td>0</td>\n",
       "      <td>20230530</td>\n",
       "      <td>1685362964</td>\n",
       "      <td></td>\n",
       "      <td>ritik.prakash@rapido.bike</td>\n",
       "      <td>0630</td>\n",
       "      <td>ALL</td>\n",
       "      <td>ALL</td>\n",
       "      <td>0</td>\n",
       "      <td>100</td>\n",
       "      <td>mismatch</td>\n",
       "      <td>554caf22-d98d-44c3-bbcd-5578b8bc77ab</td>\n",
       "    </tr>\n",
       "    <tr>\n",
       "      <th>2</th>\n",
       "      <td>5da4660028af187d8d52cc3c</td>\n",
       "      <td>20230530</td>\n",
       "      <td>Delhi</td>\n",
       "      <td>20230529</td>\n",
       "      <td>1685362964</td>\n",
       "      <td>20230530</td>\n",
       "      <td>Rohini_del</td>\n",
       "      <td>DLF Phase-1</td>\n",
       "      <td>0730</td>\n",
       "      <td>order_acceptance</td>\n",
       "      <td>0</td>\n",
       "      <td>20230530</td>\n",
       "      <td>1685362964</td>\n",
       "      <td></td>\n",
       "      <td>ritik.prakash@rapido.bike</td>\n",
       "      <td>0630</td>\n",
       "      <td>ALL</td>\n",
       "      <td>ALL</td>\n",
       "      <td>0</td>\n",
       "      <td>100</td>\n",
       "      <td>hot_cold_surge</td>\n",
       "      <td>64db7300-ed44-4034-b708-ff8ff2a1f22a</td>\n",
       "    </tr>\n",
       "    <tr>\n",
       "      <th>3</th>\n",
       "      <td>5da4660028af187d8d52cc3c</td>\n",
       "      <td>20230530</td>\n",
       "      <td>Delhi</td>\n",
       "      <td>20230529</td>\n",
       "      <td>1685362964</td>\n",
       "      <td>20230530</td>\n",
       "      <td>NCR N Okhla 2</td>\n",
       "      <td>Dwarka_Del</td>\n",
       "      <td>0730</td>\n",
       "      <td>order_acceptance</td>\n",
       "      <td>0</td>\n",
       "      <td>20230530</td>\n",
       "      <td>1685362964</td>\n",
       "      <td></td>\n",
       "      <td>ritik.prakash@rapido.bike</td>\n",
       "      <td>0630</td>\n",
       "      <td>ALL</td>\n",
       "      <td>ALL</td>\n",
       "      <td>0</td>\n",
       "      <td>100</td>\n",
       "      <td>hot_cold_surge</td>\n",
       "      <td>bb57d29d-58fc-404d-bbf0-a96858b80c8e</td>\n",
       "    </tr>\n",
       "    <tr>\n",
       "      <th>4</th>\n",
       "      <td>5da4660028af187d8d52cc3c</td>\n",
       "      <td>20230530</td>\n",
       "      <td>Delhi</td>\n",
       "      <td>20230529</td>\n",
       "      <td>1685362964</td>\n",
       "      <td>20230530</td>\n",
       "      <td>NCR F Sector 16</td>\n",
       "      <td>NCR N Gharoli</td>\n",
       "      <td>0745</td>\n",
       "      <td>order_acceptance</td>\n",
       "      <td>0</td>\n",
       "      <td>20230530</td>\n",
       "      <td>1685362964</td>\n",
       "      <td></td>\n",
       "      <td>ritik.prakash@rapido.bike</td>\n",
       "      <td>0645</td>\n",
       "      <td>ALL</td>\n",
       "      <td>ALL</td>\n",
       "      <td>0</td>\n",
       "      <td>100</td>\n",
       "      <td>mismatch</td>\n",
       "      <td>b4dfce9f-9c42-4ecd-be9d-9e0197c628fd</td>\n",
       "    </tr>\n",
       "    <tr>\n",
       "      <th>...</th>\n",
       "      <td>...</td>\n",
       "      <td>...</td>\n",
       "      <td>...</td>\n",
       "      <td>...</td>\n",
       "      <td>...</td>\n",
       "      <td>...</td>\n",
       "      <td>...</td>\n",
       "      <td>...</td>\n",
       "      <td>...</td>\n",
       "      <td>...</td>\n",
       "      <td>...</td>\n",
       "      <td>...</td>\n",
       "      <td>...</td>\n",
       "      <td>...</td>\n",
       "      <td>...</td>\n",
       "      <td>...</td>\n",
       "      <td>...</td>\n",
       "      <td>...</td>\n",
       "      <td>...</td>\n",
       "      <td>...</td>\n",
       "      <td>...</td>\n",
       "      <td>...</td>\n",
       "    </tr>\n",
       "    <tr>\n",
       "      <th>2442353</th>\n",
       "      <td>5c124a1e0241913903a42fe1</td>\n",
       "      <td>20230605</td>\n",
       "      <td>Kolkata</td>\n",
       "      <td>20230529</td>\n",
       "      <td>1685363714</td>\n",
       "      <td>20230605</td>\n",
       "      <td>Sealdah</td>\n",
       "      <td>Taltala</td>\n",
       "      <td>2145</td>\n",
       "      <td>order_acceptance</td>\n",
       "      <td>0</td>\n",
       "      <td>20230605</td>\n",
       "      <td>1685363714</td>\n",
       "      <td></td>\n",
       "      <td>ritik.prakash@rapido.bike</td>\n",
       "      <td>2045</td>\n",
       "      <td>ALL</td>\n",
       "      <td>ALL</td>\n",
       "      <td>0</td>\n",
       "      <td>100</td>\n",
       "      <td>hot_cold_surge</td>\n",
       "      <td>386783dd-e08a-49cf-90b1-314a4312314b</td>\n",
       "    </tr>\n",
       "    <tr>\n",
       "      <th>2442354</th>\n",
       "      <td>5c124a1e0241913903a42fe1</td>\n",
       "      <td>20230605</td>\n",
       "      <td>Kolkata</td>\n",
       "      <td>20230529</td>\n",
       "      <td>1685363714</td>\n",
       "      <td>20230605</td>\n",
       "      <td>Park Circus</td>\n",
       "      <td>Taltala</td>\n",
       "      <td>2145</td>\n",
       "      <td>order_acceptance</td>\n",
       "      <td>0</td>\n",
       "      <td>20230605</td>\n",
       "      <td>1685363714</td>\n",
       "      <td></td>\n",
       "      <td>ritik.prakash@rapido.bike</td>\n",
       "      <td>2045</td>\n",
       "      <td>ALL</td>\n",
       "      <td>ALL</td>\n",
       "      <td>0</td>\n",
       "      <td>100</td>\n",
       "      <td>hot_cold_surge</td>\n",
       "      <td>ea5fee7d-bfc9-4b6d-bcd4-29000883391e</td>\n",
       "    </tr>\n",
       "    <tr>\n",
       "      <th>2442355</th>\n",
       "      <td>5c124a1e0241913903a42fe1</td>\n",
       "      <td>20230605</td>\n",
       "      <td>Kolkata</td>\n",
       "      <td>20230529</td>\n",
       "      <td>1685363714</td>\n",
       "      <td>20230605</td>\n",
       "      <td>Ballygunge</td>\n",
       "      <td>Taltala</td>\n",
       "      <td>2145</td>\n",
       "      <td>order_acceptance</td>\n",
       "      <td>0</td>\n",
       "      <td>20230605</td>\n",
       "      <td>1685363714</td>\n",
       "      <td></td>\n",
       "      <td>ritik.prakash@rapido.bike</td>\n",
       "      <td>2045</td>\n",
       "      <td>ALL</td>\n",
       "      <td>ALL</td>\n",
       "      <td>0</td>\n",
       "      <td>100</td>\n",
       "      <td>hot_cold_surge</td>\n",
       "      <td>b6d70c4b-ccfc-4902-86a1-f1013ac3e501</td>\n",
       "    </tr>\n",
       "    <tr>\n",
       "      <th>2442356</th>\n",
       "      <td>5c124a1e0241913903a42fe1</td>\n",
       "      <td>20230605</td>\n",
       "      <td>Kolkata</td>\n",
       "      <td>20230529</td>\n",
       "      <td>1685363714</td>\n",
       "      <td>20230605</td>\n",
       "      <td>Beck Bagan</td>\n",
       "      <td>Taltala</td>\n",
       "      <td>2145</td>\n",
       "      <td>order_acceptance</td>\n",
       "      <td>0</td>\n",
       "      <td>20230605</td>\n",
       "      <td>1685363714</td>\n",
       "      <td></td>\n",
       "      <td>ritik.prakash@rapido.bike</td>\n",
       "      <td>2045</td>\n",
       "      <td>ALL</td>\n",
       "      <td>ALL</td>\n",
       "      <td>0</td>\n",
       "      <td>100</td>\n",
       "      <td>hot_cold_surge</td>\n",
       "      <td>b3aa3d78-73ee-455c-bb06-1c428c19e4c5</td>\n",
       "    </tr>\n",
       "    <tr>\n",
       "      <th>2442357</th>\n",
       "      <td>5c124a1e0241913903a42fe1</td>\n",
       "      <td>20230605</td>\n",
       "      <td>Kolkata</td>\n",
       "      <td>20230529</td>\n",
       "      <td>1685363714</td>\n",
       "      <td>20230605</td>\n",
       "      <td>Esplanade M</td>\n",
       "      <td>Taltala</td>\n",
       "      <td>2145</td>\n",
       "      <td>order_acceptance</td>\n",
       "      <td>0</td>\n",
       "      <td>20230605</td>\n",
       "      <td>1685363714</td>\n",
       "      <td></td>\n",
       "      <td>ritik.prakash@rapido.bike</td>\n",
       "      <td>2045</td>\n",
       "      <td>ALL</td>\n",
       "      <td>ALL</td>\n",
       "      <td>0</td>\n",
       "      <td>100</td>\n",
       "      <td>hot_cold_surge</td>\n",
       "      <td>3dc79e04-7dcd-4890-8dd5-2c1fa292bba4</td>\n",
       "    </tr>\n",
       "  </tbody>\n",
       "</table>\n",
       "<p>2442358 rows × 22 columns</p>\n",
       "</div>"
      ],
      "text/plain": [
       "                service_detail_id  end_date     city  run_date  updated_at  \\\n",
       "0        5da4660028af187d8d52cc3c  20230530    Delhi  20230529  1685362964   \n",
       "1        5da4660028af187d8d52cc3c  20230530    Delhi  20230529  1685362964   \n",
       "2        5da4660028af187d8d52cc3c  20230530    Delhi  20230529  1685362964   \n",
       "3        5da4660028af187d8d52cc3c  20230530    Delhi  20230529  1685362964   \n",
       "4        5da4660028af187d8d52cc3c  20230530    Delhi  20230529  1685362964   \n",
       "...                           ...       ...      ...       ...         ...   \n",
       "2442353  5c124a1e0241913903a42fe1  20230605  Kolkata  20230529  1685363714   \n",
       "2442354  5c124a1e0241913903a42fe1  20230605  Kolkata  20230529  1685363714   \n",
       "2442355  5c124a1e0241913903a42fe1  20230605  Kolkata  20230529  1685363714   \n",
       "2442356  5c124a1e0241913903a42fe1  20230605  Kolkata  20230529  1685363714   \n",
       "2442357  5c124a1e0241913903a42fe1  20230605  Kolkata  20230529  1685363714   \n",
       "\n",
       "        recommendation_date   pickup_cluster   drop_cluster end_time  \\\n",
       "0                  20230530       Rohini_del    DLF Phase-1     0730   \n",
       "1                  20230530    NCR N Okhla 2     Dwarka_Del     0730   \n",
       "2                  20230530       Rohini_del    DLF Phase-1     0730   \n",
       "3                  20230530    NCR N Okhla 2     Dwarka_Del     0730   \n",
       "4                  20230530  NCR F Sector 16  NCR N Gharoli     0745   \n",
       "...                     ...              ...            ...      ...   \n",
       "2442353            20230605          Sealdah        Taltala     2145   \n",
       "2442354            20230605      Park Circus        Taltala     2145   \n",
       "2442355            20230605       Ballygunge        Taltala     2145   \n",
       "2442356            20230605       Beck Bagan        Taltala     2145   \n",
       "2442357            20230605      Esplanade M        Taltala     2145   \n",
       "\n",
       "                     type  captain_payout start_date  created_at period  \\\n",
       "0        order_acceptance               0   20230530  1685362964          \n",
       "1        order_acceptance               0   20230530  1685362964          \n",
       "2        order_acceptance               0   20230530  1685362964          \n",
       "3        order_acceptance               0   20230530  1685362964          \n",
       "4        order_acceptance               0   20230530  1685362964          \n",
       "...                   ...             ...        ...         ...    ...   \n",
       "2442353  order_acceptance               0   20230605  1685363714          \n",
       "2442354  order_acceptance               0   20230605  1685363714          \n",
       "2442355  order_acceptance               0   20230605  1685363714          \n",
       "2442356  order_acceptance               0   20230605  1685363714          \n",
       "2442357  order_acceptance               0   20230605  1685363714          \n",
       "\n",
       "                        updated_by start_time pickup_hex8 drop_hex8  \\\n",
       "0        ritik.prakash@rapido.bike       0630         ALL       ALL   \n",
       "1        ritik.prakash@rapido.bike       0630         ALL       ALL   \n",
       "2        ritik.prakash@rapido.bike       0630         ALL       ALL   \n",
       "3        ritik.prakash@rapido.bike       0630         ALL       ALL   \n",
       "4        ritik.prakash@rapido.bike       0645         ALL       ALL   \n",
       "...                            ...        ...         ...       ...   \n",
       "2442353  ritik.prakash@rapido.bike       2045         ALL       ALL   \n",
       "2442354  ritik.prakash@rapido.bike       2045         ALL       ALL   \n",
       "2442355  ritik.prakash@rapido.bike       2045         ALL       ALL   \n",
       "2442356  ritik.prakash@rapido.bike       2045         ALL       ALL   \n",
       "2442357  ritik.prakash@rapido.bike       2045         ALL       ALL   \n",
       "\n",
       "         start_distance  end_distance eligible_strategy  \\\n",
       "0                     0           100          mismatch   \n",
       "1                     0           100          mismatch   \n",
       "2                     0           100    hot_cold_surge   \n",
       "3                     0           100    hot_cold_surge   \n",
       "4                     0           100          mismatch   \n",
       "...                 ...           ...               ...   \n",
       "2442353               0           100    hot_cold_surge   \n",
       "2442354               0           100    hot_cold_surge   \n",
       "2442355               0           100    hot_cold_surge   \n",
       "2442356               0           100    hot_cold_surge   \n",
       "2442357               0           100    hot_cold_surge   \n",
       "\n",
       "                                      rule_id  \n",
       "0        171c789d-8165-4d9e-a854-bbe81daaed73  \n",
       "1        554caf22-d98d-44c3-bbcd-5578b8bc77ab  \n",
       "2        64db7300-ed44-4034-b708-ff8ff2a1f22a  \n",
       "3        bb57d29d-58fc-404d-bbf0-a96858b80c8e  \n",
       "4        b4dfce9f-9c42-4ecd-be9d-9e0197c628fd  \n",
       "...                                       ...  \n",
       "2442353  386783dd-e08a-49cf-90b1-314a4312314b  \n",
       "2442354  ea5fee7d-bfc9-4b6d-bcd4-29000883391e  \n",
       "2442355  b6d70c4b-ccfc-4902-86a1-f1013ac3e501  \n",
       "2442356  b3aa3d78-73ee-455c-bb06-1c428c19e4c5  \n",
       "2442357  3dc79e04-7dcd-4890-8dd5-2c1fa292bba4  \n",
       "\n",
       "[2442358 rows x 22 columns]"
      ]
     },
     "execution_count": 245,
     "metadata": {},
     "output_type": "execute_result"
    }
   ],
   "source": [
    "final_ac"
   ]
  },
  {
   "cell_type": "code",
   "execution_count": 251,
   "metadata": {},
   "outputs": [
    {
     "data": {
      "text/plain": [
       "2442358"
      ]
     },
     "execution_count": 251,
     "metadata": {},
     "output_type": "execute_result"
    }
   ],
   "source": [
    "final_ac['rule_id'].nunique()"
   ]
  },
  {
   "cell_type": "markdown",
   "metadata": {},
   "source": [
    "___"
   ]
  },
  {
   "cell_type": "markdown",
   "metadata": {},
   "source": [
    "___"
   ]
  },
  {
   "cell_type": "markdown",
   "metadata": {},
   "source": [
    "<div class=\"alert alert-block alert-danger\">\n",
    "\n",
    "# Upload the Configs\n",
    "</div>"
   ]
  },
  {
   "cell_type": "markdown",
   "metadata": {},
   "source": [
    "___"
   ]
  },
  {
   "cell_type": "markdown",
   "metadata": {},
   "source": [
    "### 1. Write configurations as parquet.\n"
   ]
  },
  {
   "cell_type": "code",
   "execution_count": 249,
   "metadata": {},
   "outputs": [],
   "source": [
    "configurations_directory = '/tmp/circuit_breaker_configurations/'\n",
    "\n",
    "!rm -R {configurations_directory}\n",
    "!mkdir {configurations_directory}\n",
    "\n",
    "final_ac.to_parquet(configurations_directory, partition_cols=['run_date', 'city', 'recommendation_date'])"
   ]
  },
  {
   "cell_type": "markdown",
   "metadata": {},
   "source": [
    "___"
   ]
  },
  {
   "cell_type": "markdown",
   "metadata": {},
   "source": [
    "### 2. Open Temp File\n"
   ]
  },
  {
   "cell_type": "code",
   "execution_count": 250,
   "metadata": {},
   "outputs": [],
   "source": [
    "!open /tmp/"
   ]
  },
  {
   "cell_type": "markdown",
   "metadata": {},
   "source": [
    "___"
   ]
  },
  {
   "cell_type": "markdown",
   "metadata": {},
   "source": [
    "### 3. Uncomment the line below if you want to upload recommendations to gcs to update the Presto table\n"
   ]
  },
  {
   "cell_type": "code",
   "execution_count": 166,
   "metadata": {
    "scrolled": true
   },
   "outputs": [
    {
     "name": "stdout",
     "output_type": "stream",
     "text": [
      "ServiceException: 401 Anonymous caller does not have storage.objects.list access to the Google Cloud Storage bucket.\r\n"
     ]
    }
   ],
   "source": [
    "# !gsutil -q -m rsync -r {configurations_directory} 'gs://production-data-experiments/storage/experiments/experiments/iprice/configurations/order_acceptance_circuit_breaker_configurations'\n"
   ]
  },
  {
   "cell_type": "markdown",
   "metadata": {},
   "source": [
    "___"
   ]
  },
  {
   "cell_type": "markdown",
   "metadata": {},
   "source": [
    "### 4. Uncomment the line below to sync the Presto table."
   ]
  },
  {
   "cell_type": "code",
   "execution_count": null,
   "metadata": {},
   "outputs": [],
   "source": [
    "# query = \"\"\"CALL system.sync_partition_metadata('pricing_internal', 'order_acceptance_circuit_breaker_configurations', 'FULL')\"\"\"\n",
    "# df = pd.read_sql(query, presto_connection)\n",
    "# df"
   ]
  },
  {
   "cell_type": "markdown",
   "metadata": {},
   "source": [
    "___"
   ]
  },
  {
   "cell_type": "markdown",
   "metadata": {},
   "source": [
    "### 5. Uncomment the line below to sync the Presto table."
   ]
  },
  {
   "cell_type": "code",
   "execution_count": null,
   "metadata": {},
   "outputs": [],
   "source": [
    "# query = \"\"\"SELECT * FROM hive.pricing.order_acceptance_circuit_breaker_configurations\"\"\"\n",
    "# df = pd.read_sql(query, presto_connection)\n",
    "# df"
   ]
  },
  {
   "cell_type": "markdown",
   "metadata": {},
   "source": [
    "___"
   ]
  },
  {
   "cell_type": "code",
   "execution_count": null,
   "metadata": {},
   "outputs": [],
   "source": []
  }
 ],
 "metadata": {
  "kernelspec": {
   "display_name": "Python 3",
   "language": "python",
   "name": "python3"
  },
  "language_info": {
   "codemirror_mode": {
    "name": "ipython",
    "version": 3
   },
   "file_extension": ".py",
   "mimetype": "text/x-python",
   "name": "python",
   "nbconvert_exporter": "python",
   "pygments_lexer": "ipython3",
   "version": "3.8.3"
  }
 },
 "nbformat": 4,
 "nbformat_minor": 4
}
